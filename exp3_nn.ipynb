{
 "cells": [
  {
   "cell_type": "markdown",
   "metadata": {},
   "source": [
    "# SurvSHAP vs DeepLift vs Integrated Gradients\n",
    "### K. Krajewski, M. Wojtala, S. Frejlak\n",
    "## Experiment 1: Evaluating explanations on synthetic data"
   ]
  },
  {
   "cell_type": "markdown",
   "metadata": {},
   "source": [
    "### Imports"
   ]
  },
  {
   "cell_type": "code",
   "execution_count": 1,
   "outputs": [],
   "source": [
    "# This code is useful if you want to make changes in any of the imported libraries, e.g. to solve compatibility issues.\n",
    "%load_ext autoreload\n",
    "%autoreload 2"
   ],
   "metadata": {
    "collapsed": false
   }
  },
  {
   "cell_type": "code",
   "execution_count": 2,
   "outputs": [],
   "source": [
    "import numpy as np\n",
    "import pandas as pd\n",
    "import matplotlib.pyplot as plt\n",
    "import pickle\n",
    "# For preprocessing\n",
    "from sklearn.preprocessing import StandardScaler\n",
    "from sklearn_pandas import DataFrameMapper\n",
    "\n",
    "import torch # For building the networks\n",
    "import torchtuples as tt # Some useful functions\n",
    "\n",
    "from pycox.models import DeepHitSingle\n",
    "# from pycox.evaluation import EvalSurv"
   ],
   "metadata": {
    "collapsed": false
   }
  },
  {
   "cell_type": "code",
   "execution_count": 3,
   "outputs": [],
   "source": [
    "np.random.seed(1234)\n",
    "_ = torch.manual_seed(123)"
   ],
   "metadata": {
    "collapsed": false
   }
  },
  {
   "cell_type": "markdown",
   "source": [
    "### Load a medical dataset and preprocess data"
   ],
   "metadata": {
    "collapsed": false
   }
  },
  {
   "cell_type": "code",
   "execution_count": 4,
   "outputs": [],
   "source": [
    "df_train = pd.read_csv('data/exp3_heart_failure_dataset.csv')\n",
    "df_test = df_train.sample(frac=0.2)\n",
    "df_train = df_train.drop(df_test.index)\n",
    "df_val = df_train.sample(frac=0.2)\n",
    "df_train = df_train.drop(df_val.index)"
   ],
   "metadata": {
    "collapsed": false
   }
  },
  {
   "cell_type": "code",
   "execution_count": 5,
   "outputs": [
    {
     "data": {
      "text/plain": "    age  anaemia  creatinine_phosphokinase  diabetes  ejection_fraction  \\\n0  75.0        0                       582         0                 20   \n1  55.0        0                      7861         0                 38   \n2  65.0        0                       146         0                 20   \n3  50.0        1                       111         0                 20   \n4  65.0        1                       160         1                 20   \n\n   high_blood_pressure  platelets  serum_creatinine  serum_sodium  sex  \\\n0                    1  265000.00               1.9           130    1   \n1                    0  263358.03               1.1           136    1   \n2                    0  162000.00               1.3           129    1   \n3                    0  210000.00               1.9           137    1   \n4                    0  327000.00               2.7           116    0   \n\n   smoking  time  DEATH_EVENT  \n0        0     4            1  \n1        0     6            1  \n2        1     7            1  \n3        0     7            1  \n4        0     8            1  ",
      "text/html": "<div>\n<style scoped>\n    .dataframe tbody tr th:only-of-type {\n        vertical-align: middle;\n    }\n\n    .dataframe tbody tr th {\n        vertical-align: top;\n    }\n\n    .dataframe thead th {\n        text-align: right;\n    }\n</style>\n<table border=\"1\" class=\"dataframe\">\n  <thead>\n    <tr style=\"text-align: right;\">\n      <th></th>\n      <th>age</th>\n      <th>anaemia</th>\n      <th>creatinine_phosphokinase</th>\n      <th>diabetes</th>\n      <th>ejection_fraction</th>\n      <th>high_blood_pressure</th>\n      <th>platelets</th>\n      <th>serum_creatinine</th>\n      <th>serum_sodium</th>\n      <th>sex</th>\n      <th>smoking</th>\n      <th>time</th>\n      <th>DEATH_EVENT</th>\n    </tr>\n  </thead>\n  <tbody>\n    <tr>\n      <th>0</th>\n      <td>75.0</td>\n      <td>0</td>\n      <td>582</td>\n      <td>0</td>\n      <td>20</td>\n      <td>1</td>\n      <td>265000.00</td>\n      <td>1.9</td>\n      <td>130</td>\n      <td>1</td>\n      <td>0</td>\n      <td>4</td>\n      <td>1</td>\n    </tr>\n    <tr>\n      <th>1</th>\n      <td>55.0</td>\n      <td>0</td>\n      <td>7861</td>\n      <td>0</td>\n      <td>38</td>\n      <td>0</td>\n      <td>263358.03</td>\n      <td>1.1</td>\n      <td>136</td>\n      <td>1</td>\n      <td>0</td>\n      <td>6</td>\n      <td>1</td>\n    </tr>\n    <tr>\n      <th>2</th>\n      <td>65.0</td>\n      <td>0</td>\n      <td>146</td>\n      <td>0</td>\n      <td>20</td>\n      <td>0</td>\n      <td>162000.00</td>\n      <td>1.3</td>\n      <td>129</td>\n      <td>1</td>\n      <td>1</td>\n      <td>7</td>\n      <td>1</td>\n    </tr>\n    <tr>\n      <th>3</th>\n      <td>50.0</td>\n      <td>1</td>\n      <td>111</td>\n      <td>0</td>\n      <td>20</td>\n      <td>0</td>\n      <td>210000.00</td>\n      <td>1.9</td>\n      <td>137</td>\n      <td>1</td>\n      <td>0</td>\n      <td>7</td>\n      <td>1</td>\n    </tr>\n    <tr>\n      <th>4</th>\n      <td>65.0</td>\n      <td>1</td>\n      <td>160</td>\n      <td>1</td>\n      <td>20</td>\n      <td>0</td>\n      <td>327000.00</td>\n      <td>2.7</td>\n      <td>116</td>\n      <td>0</td>\n      <td>0</td>\n      <td>8</td>\n      <td>1</td>\n    </tr>\n  </tbody>\n</table>\n</div>"
     },
     "execution_count": 5,
     "metadata": {},
     "output_type": "execute_result"
    }
   ],
   "source": [
    "df_train.head()"
   ],
   "metadata": {
    "collapsed": false
   }
  },
  {
   "cell_type": "code",
   "execution_count": 6,
   "outputs": [],
   "source": [
    "cols_standardize = ['age', 'creatinine_phosphokinase', 'ejection_fraction', 'platelets', 'serum_creatinine', 'serum_sodium']\n",
    "cols_leave = ['anaemia', 'diabetes', 'high_blood_pressure', 'sex', 'smoking']\n",
    "\n",
    "standardize = [([col], StandardScaler()) for col in cols_standardize]\n",
    "leave = [(col, None) for col in cols_leave]\n",
    "\n",
    "x_mapper = DataFrameMapper(standardize + leave)"
   ],
   "metadata": {
    "collapsed": false
   }
  },
  {
   "cell_type": "code",
   "execution_count": 7,
   "outputs": [],
   "source": [
    "x_train = x_mapper.fit_transform(df_train).astype('float32')\n",
    "x_val = x_mapper.transform(df_val).astype('float32')\n",
    "x_test = x_mapper.transform(df_test).astype('float32')"
   ],
   "metadata": {
    "collapsed": false
   }
  },
  {
   "cell_type": "code",
   "execution_count": 8,
   "outputs": [],
   "source": [
    "num_durations = 10\n",
    "\n",
    "labtrans = DeepHitSingle.label_transform(num_durations)\n",
    "\n",
    "get_target = lambda df: (df['time'].values, df['DEATH_EVENT'].values)\n",
    "y_train = labtrans.fit_transform(*get_target(df_train))\n",
    "y_val = labtrans.transform(*get_target(df_val))\n",
    "\n",
    "x_train.transpose()\n",
    "\n",
    "train = (x_train, y_train)\n",
    "val = (x_val, y_val)\n",
    "\n",
    "# We don't need to transform the test labels\n",
    "durations_test, events_test = get_target(df_test)"
   ],
   "metadata": {
    "collapsed": false
   }
  },
  {
   "cell_type": "markdown",
   "source": [
    "### Create model and train it"
   ],
   "metadata": {
    "collapsed": false
   }
  },
  {
   "cell_type": "code",
   "execution_count": 9,
   "outputs": [],
   "source": [
    "in_features = x_train.shape[1]\n",
    "num_nodes = [32]\n",
    "out_features = labtrans.out_features\n",
    "batch_norm = True\n",
    "dropout = 0.1\n",
    "\n",
    "net = tt.practical.MLPVanilla(in_features, num_nodes, out_features, batch_norm, dropout)"
   ],
   "metadata": {
    "collapsed": false
   }
  },
  {
   "cell_type": "code",
   "execution_count": 10,
   "outputs": [],
   "source": [
    "model = DeepHitSingle(net, tt.optim.Adam(0.01), duration_index=labtrans.cuts)"
   ],
   "metadata": {
    "collapsed": false
   }
  },
  {
   "cell_type": "code",
   "execution_count": 11,
   "outputs": [],
   "source": [
    "batch_size = 64\n",
    "epochs = 100\n",
    "callbacks = [tt.cb.EarlyStopping()]"
   ],
   "metadata": {
    "collapsed": false
   }
  },
  {
   "cell_type": "code",
   "execution_count": 12,
   "outputs": [
    {
     "name": "stdout",
     "output_type": "stream",
     "text": [
      "0:\t[0s / 0s],\t\ttrain_loss: 0.6268,\tval_loss: 0.4434\n",
      "1:\t[0s / 0s],\t\ttrain_loss: 0.4209,\tval_loss: 0.4443\n",
      "2:\t[0s / 0s],\t\ttrain_loss: 0.4106,\tval_loss: 0.4575\n",
      "3:\t[0s / 0s],\t\ttrain_loss: 0.5328,\tval_loss: 0.4700\n",
      "4:\t[0s / 0s],\t\ttrain_loss: 0.3468,\tval_loss: 0.4909\n",
      "5:\t[0s / 0s],\t\ttrain_loss: 0.3502,\tval_loss: 0.5109\n",
      "6:\t[0s / 0s],\t\ttrain_loss: 0.4076,\tval_loss: 0.5072\n",
      "7:\t[0s / 0s],\t\ttrain_loss: 0.3621,\tval_loss: 0.4935\n",
      "8:\t[0s / 0s],\t\ttrain_loss: 0.3358,\tval_loss: 0.4838\n",
      "9:\t[0s / 0s],\t\ttrain_loss: 0.3289,\tval_loss: 0.4805\n",
      "10:\t[0s / 0s],\t\ttrain_loss: 0.3293,\tval_loss: 0.4817\n"
     ]
    }
   ],
   "source": [
    "log = model.fit(x_train, y_train, batch_size, epochs, callbacks, val_data=val)"
   ],
   "metadata": {
    "collapsed": false
   }
  },
  {
   "cell_type": "code",
   "execution_count": 13,
   "outputs": [
    {
     "data": {
      "text/plain": "<Figure size 640x480 with 1 Axes>",
      "image/png": "[encoded data removed]"
     },
     "metadata": {},
     "output_type": "display_data"
    }
   ],
   "source": [
    "_ = log.plot()"
   ],
   "metadata": {
    "collapsed": false
   }
  },
  {
   "cell_type": "markdown",
   "source": [
    "### Model results analysis\n",
    "This part is taken from the pycox tutorial"
   ],
   "metadata": {
    "collapsed": false
   }
  },
  {
   "cell_type": "code",
   "execution_count": 14,
   "outputs": [],
   "source": [
    "# print(log.to_pandas().val_loss.min())\n",
    "# print(model.score_in_batches(val))\n",
    "# surv = model.predict_surv_df(x_test)\n",
    "# surv.iloc[:, :5].plot(drawstyle='steps-post')\n",
    "# plt.ylabel('S(t | x)')\n",
    "# _ = plt.xlabel('Time')"
   ],
   "metadata": {
    "collapsed": false
   }
  },
  {
   "cell_type": "code",
   "execution_count": 15,
   "outputs": [],
   "source": [
    "# surv = model.interpolate(10).predict_surv_df(x_test)\n",
    "# surv.iloc[:, :5].plot(drawstyle='steps-post')\n",
    "# plt.ylabel('S(t | x)')\n",
    "# _ = plt.xlabel('Time')"
   ],
   "metadata": {
    "collapsed": false
   }
  },
  {
   "cell_type": "code",
   "execution_count": 16,
   "outputs": [],
   "source": [
    "# ev = EvalSurv(surv, durations_test, events_test, censor_surv='km')\n",
    "# print(ev.concordance_td('antolini'))\n",
    "# time_grid = np.linspace(durations_test.min(), durations_test.max(), 100)\n",
    "# ev.brier_score(time_grid).plot()\n",
    "# plt.ylabel('Brier score')\n",
    "# _ = plt.xlabel('Time')"
   ],
   "metadata": {
    "collapsed": false
   }
  },
  {
   "cell_type": "code",
   "execution_count": 17,
   "outputs": [],
   "source": [
    "# print(ev.integrated_brier_score(time_grid))\n",
    "# print(ev.integrated_nbll(time_grid))\n",
    "# ev.nbll(time_grid).plot()\n",
    "# plt.ylabel('NBLL')\n",
    "# _ = plt.xlabel('Time')"
   ],
   "metadata": {
    "collapsed": false
   }
  },
  {
   "cell_type": "markdown",
   "source": [
    "### Explaining model's predictions\n",
    "In this section we use explainers from captum library"
   ],
   "metadata": {
    "collapsed": false
   }
  },
  {
   "cell_type": "code",
   "execution_count": 18,
   "outputs": [],
   "source": [
    "from captum.attr import (\n",
    "    GradientShap,\n",
    "    DeepLift,\n",
    "    DeepLiftShap,\n",
    "    IntegratedGradients,\n",
    ")"
   ],
   "metadata": {
    "collapsed": false
   }
  },
  {
   "cell_type": "code",
   "execution_count": 19,
   "outputs": [
    {
     "name": "stdout",
     "output_type": "stream",
     "text": [
      "Integrated Gradients mean attributions: [ 0.07571832 -0.01729776  0.00825424 -0.01168827  0.02593719  0.0141332\n",
      " -0.0781095   0.01439504  0.05136583 -0.0324979  -0.04673778]\n",
      "Mean Convergence Delta: -0.00020467387225432015\n",
      "DeepLift mean attributions: [ 0.07568541 -0.01713078  0.00826762 -0.01160463  0.02589656  0.01407284\n",
      " -0.07813784  0.01445908  0.05133297 -0.03245682 -0.0467071 ]\n",
      "Mean Convergence Delta: 4.393307e-09\n"
     ]
    },
    {
     "name": "stderr",
     "output_type": "stream",
     "text": [
      "C:\\Users\\StanislawFrejlak\\anaconda3\\Lib\\site-packages\\captum\\attr\\_core\\deep_lift.py:336: UserWarning: Setting forward, backward hooks and attributes on non-linear\n",
      "               activations. The hooks and attributes will be removed\n",
      "            after the attribution is finished\n",
      "  warnings.warn(\n"
     ]
    }
   ],
   "source": [
    "model.eval()\n",
    "# baseline_dist = torch.zeros(191, 11, requires_grad=True) * 0.001\n",
    "inputs = torch.tensor(x_train, requires_grad=True) #.unsqueeze(dim=0)\n",
    "outputs = torch.tensor(y_train[1].astype('int64')) #, requires_grad=True)\n",
    "dl = DeepLift(model.net)\n",
    "ig = IntegratedGradients(model.net)\n",
    "attributions, delta = ig.attribute(inputs, target=outputs, return_convergence_delta=True) #  baseline_dist, target=outputs,\n",
    "print('Integrated Gradients mean attributions:', attributions.mean(dim=0).detach().numpy())\n",
    "print('Mean Convergence Delta:', delta.mean().detach().numpy())\n",
    "attributions, delta = dl.attribute(inputs, target=outputs, return_convergence_delta=True) #  baseline_dist, target=outputs,\n",
    "print('DeepLift mean attributions:', attributions.mean(dim=0).detach().numpy())\n",
    "print('Mean Convergence Delta:', delta.mean().detach().numpy())"
   ],
   "metadata": {
    "collapsed": false
   }
  },
  {
   "cell_type": "code",
   "execution_count": 20,
   "outputs": [
    {
     "name": "stderr",
     "output_type": "stream",
     "text": [
      "  0%|          | 0/191 [00:00<?, ?it/s]\n"
     ]
    },
    {
     "ename": "TypeError",
     "evalue": "'NoneType' object is not subscriptable",
     "output_type": "error",
     "traceback": [
      "\u001B[1;31m---------------------------------------------------------------------------\u001B[0m",
      "\u001B[1;31mTypeError\u001B[0m                                 Traceback (most recent call last)",
      "Cell \u001B[1;32mIn [20], line 4\u001B[0m\n\u001B[0;32m      2\u001B[0m dh_exp \u001B[38;5;241m=\u001B[39m SurvivalModelExplainer(model, pd\u001B[38;5;241m.\u001B[39mDataFrame(x_train), y_train[\u001B[38;5;241m1\u001B[39m])\n\u001B[0;32m      3\u001B[0m exp3_survshap_global_dh \u001B[38;5;241m=\u001B[39m ModelSurvSHAP(random_state\u001B[38;5;241m=\u001B[39m\u001B[38;5;241m42\u001B[39m)\n\u001B[1;32m----> 4\u001B[0m \u001B[43mexp3_survshap_global_dh\u001B[49m\u001B[38;5;241;43m.\u001B[39;49m\u001B[43mfit\u001B[49m\u001B[43m(\u001B[49m\u001B[43mdh_exp\u001B[49m\u001B[43m)\u001B[49m\n\u001B[0;32m      5\u001B[0m \u001B[38;5;28;01mwith\u001B[39;00m \u001B[38;5;28mopen\u001B[39m(\u001B[38;5;124m\"\u001B[39m\u001B[38;5;124mpickles/exp3_survshap_global_dh\u001B[39m\u001B[38;5;124m\"\u001B[39m, \u001B[38;5;124m\"\u001B[39m\u001B[38;5;124mwb\u001B[39m\u001B[38;5;124m\"\u001B[39m) \u001B[38;5;28;01mas\u001B[39;00m f:\n\u001B[0;32m      6\u001B[0m     pickle\u001B[38;5;241m.\u001B[39mdump(exp3_survshap_global_dh, f)\n",
      "File \u001B[1;32m~\\Documents\\GitHub\\survshap\\survshap\\model_explanations\\object.py:43\u001B[0m, in \u001B[0;36mModelSurvSHAP.fit\u001B[1;34m(self, explainer, timestamps, save_individual_explanations)\u001B[0m\n\u001B[0;32m     38\u001B[0m \u001B[38;5;28;01mdef\u001B[39;00m \u001B[38;5;21mfit\u001B[39m(\u001B[38;5;28mself\u001B[39m, explainer, timestamps\u001B[38;5;241m=\u001B[39m\u001B[38;5;28;01mNone\u001B[39;00m, save_individual_explanations\u001B[38;5;241m=\u001B[39m\u001B[38;5;28;01mTrue\u001B[39;00m):\n\u001B[0;32m     39\u001B[0m     (\n\u001B[0;32m     40\u001B[0m         \u001B[38;5;28mself\u001B[39m\u001B[38;5;241m.\u001B[39mfull_result,\n\u001B[0;32m     41\u001B[0m         \u001B[38;5;28mself\u001B[39m\u001B[38;5;241m.\u001B[39mindividual_explanations,\n\u001B[0;32m     42\u001B[0m         \u001B[38;5;28mself\u001B[39m\u001B[38;5;241m.\u001B[39mtimestamps,\n\u001B[1;32m---> 43\u001B[0m     ) \u001B[38;5;241m=\u001B[39m \u001B[43mcalculate_individual_explanations\u001B[49m\u001B[43m(\u001B[49m\n\u001B[0;32m     44\u001B[0m \u001B[43m        \u001B[49m\u001B[43mexplainer\u001B[49m\u001B[43m,\u001B[49m\n\u001B[0;32m     45\u001B[0m \u001B[43m        \u001B[49m\u001B[38;5;28;43mself\u001B[39;49m\u001B[38;5;241;43m.\u001B[39;49m\u001B[43mfunction_type\u001B[49m\u001B[43m,\u001B[49m\n\u001B[0;32m     46\u001B[0m \u001B[43m        \u001B[49m\u001B[38;5;28;43mself\u001B[39;49m\u001B[38;5;241;43m.\u001B[39;49m\u001B[43mpath\u001B[49m\u001B[43m,\u001B[49m\n\u001B[0;32m     47\u001B[0m \u001B[43m        \u001B[49m\u001B[38;5;28;43mself\u001B[39;49m\u001B[38;5;241;43m.\u001B[39;49m\u001B[43mB\u001B[49m\u001B[43m,\u001B[49m\n\u001B[0;32m     48\u001B[0m \u001B[43m        \u001B[49m\u001B[38;5;28;43mself\u001B[39;49m\u001B[38;5;241;43m.\u001B[39;49m\u001B[43mrandom_state\u001B[49m\u001B[43m,\u001B[49m\n\u001B[0;32m     49\u001B[0m \u001B[43m        \u001B[49m\u001B[38;5;28;43mself\u001B[39;49m\u001B[38;5;241;43m.\u001B[39;49m\u001B[43mcalculation_method\u001B[49m\u001B[43m,\u001B[49m\n\u001B[0;32m     50\u001B[0m \u001B[43m        \u001B[49m\u001B[38;5;28;43mself\u001B[39;49m\u001B[38;5;241;43m.\u001B[39;49m\u001B[43maggregation_method\u001B[49m\u001B[43m,\u001B[49m\n\u001B[0;32m     51\u001B[0m \u001B[43m        \u001B[49m\u001B[43mtimestamps\u001B[49m\u001B[43m,\u001B[49m\n\u001B[0;32m     52\u001B[0m \u001B[43m        \u001B[49m\u001B[43msave_individual_explanations\u001B[49m\u001B[43m,\u001B[49m\n\u001B[0;32m     53\u001B[0m \u001B[43m    \u001B[49m\u001B[43m)\u001B[49m\n\u001B[0;32m     55\u001B[0m     names \u001B[38;5;241m=\u001B[39m explainer\u001B[38;5;241m.\u001B[39my\u001B[38;5;241m.\u001B[39mdtype\u001B[38;5;241m.\u001B[39mnames\n\u001B[0;32m     56\u001B[0m     \u001B[38;5;28mself\u001B[39m\u001B[38;5;241m.\u001B[39mevent_ind \u001B[38;5;241m=\u001B[39m explainer\u001B[38;5;241m.\u001B[39my[names[\u001B[38;5;241m0\u001B[39m]]\n",
      "File \u001B[1;32m~\\Documents\\GitHub\\survshap\\survshap\\model_explanations\\utils.py:38\u001B[0m, in \u001B[0;36mcalculate_individual_explanations\u001B[1;34m(explainer, function_type, path, B, random_state, calculation_method, aggregation_method, timestamps, save_individual_explanations)\u001B[0m\n\u001B[0;32m     36\u001B[0m \u001B[38;5;28;01melse\u001B[39;00m:\n\u001B[0;32m     37\u001B[0m     y_true_i \u001B[38;5;241m=\u001B[39m \u001B[38;5;28;01mNone\u001B[39;00m\n\u001B[1;32m---> 38\u001B[0m \u001B[43msurvSHAP_obj\u001B[49m\u001B[38;5;241;43m.\u001B[39;49m\u001B[43mfit\u001B[49m\u001B[43m(\u001B[49m\u001B[43mexplainer\u001B[49m\u001B[43m,\u001B[49m\u001B[43m \u001B[49m\u001B[43mexplainer\u001B[49m\u001B[38;5;241;43m.\u001B[39;49m\u001B[43mdata\u001B[49m\u001B[38;5;241;43m.\u001B[39;49m\u001B[43miloc\u001B[49m\u001B[43m[\u001B[49m\u001B[43m[\u001B[49m\u001B[43mi\u001B[49m\u001B[43m]\u001B[49m\u001B[43m]\u001B[49m\u001B[43m,\u001B[49m\u001B[43m \u001B[49m\u001B[43mtimestamps\u001B[49m\u001B[43m,\u001B[49m\u001B[43m \u001B[49m\u001B[43my_true_i\u001B[49m\u001B[43m)\u001B[49m\n\u001B[0;32m     39\u001B[0m \u001B[38;5;28;01mif\u001B[39;00m save_individual_explanations:\n\u001B[0;32m     40\u001B[0m     individual_explanations\u001B[38;5;241m.\u001B[39mappend(survSHAP_obj)\n",
      "File \u001B[1;32m~\\Documents\\GitHub\\survshap\\survshap\\predict_explanations\\object.py:65\u001B[0m, in \u001B[0;36mPredictSurvSHAP.fit\u001B[1;34m(self, explainer, new_observation, timestamps, y_true)\u001B[0m\n\u001B[0;32m     63\u001B[0m new_observation \u001B[38;5;241m=\u001B[39m check_new_observation(new_observation, explainer)\n\u001B[0;32m     64\u001B[0m names \u001B[38;5;241m=\u001B[39m explainer\u001B[38;5;241m.\u001B[39my\u001B[38;5;241m.\u001B[39mdtype\u001B[38;5;241m.\u001B[39mnames\n\u001B[1;32m---> 65\u001B[0m \u001B[38;5;28mself\u001B[39m\u001B[38;5;241m.\u001B[39mevent_inds \u001B[38;5;241m=\u001B[39m explainer\u001B[38;5;241m.\u001B[39my[\u001B[43mnames\u001B[49m\u001B[43m[\u001B[49m\u001B[38;5;241;43m0\u001B[39;49m\u001B[43m]\u001B[49m]\n\u001B[0;32m     66\u001B[0m \u001B[38;5;28mself\u001B[39m\u001B[38;5;241m.\u001B[39mevent_times \u001B[38;5;241m=\u001B[39m explainer\u001B[38;5;241m.\u001B[39my[names[\u001B[38;5;241m1\u001B[39m]]\n\u001B[0;32m     67\u001B[0m \u001B[38;5;28;01mif\u001B[39;00m y_true \u001B[38;5;129;01mis\u001B[39;00m \u001B[38;5;129;01mnot\u001B[39;00m \u001B[38;5;28;01mNone\u001B[39;00m:\n",
      "\u001B[1;31mTypeError\u001B[0m: 'NoneType' object is not subscriptable"
     ]
    }
   ],
   "source": [
    "from survshap import SurvivalModelExplainer, ModelSurvSHAP\n",
    "dh_exp = SurvivalModelExplainer(model, pd.DataFrame(x_train), y_train[1])\n",
    "exp3_survshap_global_dh = ModelSurvSHAP(random_state=42)\n",
    "exp3_survshap_global_dh.fit(dh_exp)\n",
    "with open(\"pickles/exp3_survshap_global_dh\", \"wb\") as f:\n",
    "    pickle.dump(exp3_survshap_global_dh, f)"
   ],
   "metadata": {
    "collapsed": false
   }
  },
  {
   "cell_type": "code",
   "execution_count": null,
   "outputs": [],
   "source": [
    "with open(\"pickles/exp3_survshap_global_dh\", \"rb\") as f:\n",
    "    exp3_survshap_global_dh = pickle.load(f)"
   ],
   "metadata": {
    "collapsed": false
   }
  },
  {
   "cell_type": "code",
   "execution_count": null,
   "outputs": [],
   "source": [
    "example_dh = exp3_survshap_global_dh.individual_explanations[12]\n",
    "print(example_dh.result)\n",
    "melted_example_rsf = pd.melt(example_dh.result, id_vars=\"variable_name\", value_vars=example_dh.result.columns[6:])\n",
    "melted_example_rsf[\"variable\"] = melted_example_rsf[\"variable\"].str[4:].astype(float)\n",
    "melted_example_rsf.to_csv(\"results/exp3_example_dh.csv\", index=False)\n",
    "example_dh.simplified_result.to_csv(\"results/exp3_example_dh_agg.csv\", index=False)"
   ],
   "metadata": {
    "collapsed": false
   }
  }
 ],
 "metadata": {
  "kernelspec": {
   "display_name": "Python 3.10.5 ('survshap')",
   "language": "python",
   "name": "python3"
  },
  "language_info": {
   "codemirror_mode": {
    "name": "ipython",
    "version": 3
   },
   "file_extension": ".py",
   "mimetype": "text/x-python",
   "name": "python",
   "nbconvert_exporter": "python",
   "pygments_lexer": "ipython3",
   "version": "3.10.5"
  },
  "orig_nbformat": 4,
  "vscode": {
   "interpreter": {
    "hash": "2e89d17bf3f53615b213f4c00662e1677a8885f31ece09e136535e9b43ddada0"
   }
  }
 },
 "nbformat": 4,
 "nbformat_minor": 2
}
