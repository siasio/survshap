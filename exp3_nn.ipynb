{
 "cells": [
  {
   "cell_type": "markdown",
   "metadata": {},
   "source": [
    "# SurvSHAP vs DeepLift vs Integrated Gradients\n",
    "### K. Krajewski, M. Wojtala, S. Frejlak\n",
    "## Experiment 1: Evaluating explanations on synthetic data"
   ]
  },
  {
   "cell_type": "markdown",
   "metadata": {},
   "source": [
    "### Imports"
   ]
  },
  {
   "cell_type": "code",
   "execution_count": 21,
   "outputs": [
    {
     "name": "stdout",
     "output_type": "stream",
     "text": [
      "The autoreload extension is already loaded. To reload it, use:\n",
      "  %reload_ext autoreload\n"
     ]
    }
   ],
   "source": [
    "# This code is useful if you want to make changes in any of the imported libraries, e.g. to solve compatibility issues.\n",
    "%load_ext autoreload\n",
    "%autoreload 2"
   ],
   "metadata": {
    "collapsed": false
   }
  },
  {
   "cell_type": "code",
   "execution_count": 22,
   "outputs": [],
   "source": [
    "import numpy as np\n",
    "import pandas as pd\n",
    "import matplotlib.pyplot as plt\n",
    "# For preprocessing\n",
    "from sklearn.preprocessing import StandardScaler\n",
    "from sklearn_pandas import DataFrameMapper\n",
    "\n",
    "import torch # For building the networks\n",
    "import torchtuples as tt # Some useful functions\n",
    "\n",
    "from pycox.models import DeepHitSingle\n",
    "# from pycox.evaluation import EvalSurv"
   ],
   "metadata": {
    "collapsed": false
   }
  },
  {
   "cell_type": "code",
   "execution_count": 24,
   "outputs": [],
   "source": [
    "np.random.seed(1234)\n",
    "_ = torch.manual_seed(123)"
   ],
   "metadata": {
    "collapsed": false
   }
  },
  {
   "cell_type": "markdown",
   "source": [
    "### Load a medical dataset and preprocess data"
   ],
   "metadata": {
    "collapsed": false
   }
  },
  {
   "cell_type": "code",
   "execution_count": 25,
   "outputs": [],
   "source": [
    "df_train = pd.read_csv('data/exp3_heart_failure_dataset.csv')\n",
    "df_test = df_train.sample(frac=0.2)\n",
    "df_train = df_train.drop(df_test.index)\n",
    "df_val = df_train.sample(frac=0.2)\n",
    "df_train = df_train.drop(df_val.index)"
   ],
   "metadata": {
    "collapsed": false
   }
  },
  {
   "cell_type": "code",
   "execution_count": 26,
   "outputs": [
    {
     "data": {
      "text/plain": "    age  anaemia  creatinine_phosphokinase  diabetes  ejection_fraction  \\\n0  75.0        0                       582         0                 20   \n1  55.0        0                      7861         0                 38   \n2  65.0        0                       146         0                 20   \n3  50.0        1                       111         0                 20   \n4  65.0        1                       160         1                 20   \n\n   high_blood_pressure  platelets  serum_creatinine  serum_sodium  sex  \\\n0                    1  265000.00               1.9           130    1   \n1                    0  263358.03               1.1           136    1   \n2                    0  162000.00               1.3           129    1   \n3                    0  210000.00               1.9           137    1   \n4                    0  327000.00               2.7           116    0   \n\n   smoking  time  DEATH_EVENT  \n0        0     4            1  \n1        0     6            1  \n2        1     7            1  \n3        0     7            1  \n4        0     8            1  ",
      "text/html": "<div>\n<style scoped>\n    .dataframe tbody tr th:only-of-type {\n        vertical-align: middle;\n    }\n\n    .dataframe tbody tr th {\n        vertical-align: top;\n    }\n\n    .dataframe thead th {\n        text-align: right;\n    }\n</style>\n<table border=\"1\" class=\"dataframe\">\n  <thead>\n    <tr style=\"text-align: right;\">\n      <th></th>\n      <th>age</th>\n      <th>anaemia</th>\n      <th>creatinine_phosphokinase</th>\n      <th>diabetes</th>\n      <th>ejection_fraction</th>\n      <th>high_blood_pressure</th>\n      <th>platelets</th>\n      <th>serum_creatinine</th>\n      <th>serum_sodium</th>\n      <th>sex</th>\n      <th>smoking</th>\n      <th>time</th>\n      <th>DEATH_EVENT</th>\n    </tr>\n  </thead>\n  <tbody>\n    <tr>\n      <th>0</th>\n      <td>75.0</td>\n      <td>0</td>\n      <td>582</td>\n      <td>0</td>\n      <td>20</td>\n      <td>1</td>\n      <td>265000.00</td>\n      <td>1.9</td>\n      <td>130</td>\n      <td>1</td>\n      <td>0</td>\n      <td>4</td>\n      <td>1</td>\n    </tr>\n    <tr>\n      <th>1</th>\n      <td>55.0</td>\n      <td>0</td>\n      <td>7861</td>\n      <td>0</td>\n      <td>38</td>\n      <td>0</td>\n      <td>263358.03</td>\n      <td>1.1</td>\n      <td>136</td>\n      <td>1</td>\n      <td>0</td>\n      <td>6</td>\n      <td>1</td>\n    </tr>\n    <tr>\n      <th>2</th>\n      <td>65.0</td>\n      <td>0</td>\n      <td>146</td>\n      <td>0</td>\n      <td>20</td>\n      <td>0</td>\n      <td>162000.00</td>\n      <td>1.3</td>\n      <td>129</td>\n      <td>1</td>\n      <td>1</td>\n      <td>7</td>\n      <td>1</td>\n    </tr>\n    <tr>\n      <th>3</th>\n      <td>50.0</td>\n      <td>1</td>\n      <td>111</td>\n      <td>0</td>\n      <td>20</td>\n      <td>0</td>\n      <td>210000.00</td>\n      <td>1.9</td>\n      <td>137</td>\n      <td>1</td>\n      <td>0</td>\n      <td>7</td>\n      <td>1</td>\n    </tr>\n    <tr>\n      <th>4</th>\n      <td>65.0</td>\n      <td>1</td>\n      <td>160</td>\n      <td>1</td>\n      <td>20</td>\n      <td>0</td>\n      <td>327000.00</td>\n      <td>2.7</td>\n      <td>116</td>\n      <td>0</td>\n      <td>0</td>\n      <td>8</td>\n      <td>1</td>\n    </tr>\n  </tbody>\n</table>\n</div>"
     },
     "execution_count": 26,
     "metadata": {},
     "output_type": "execute_result"
    }
   ],
   "source": [
    "df_train.head()"
   ],
   "metadata": {
    "collapsed": false
   }
  },
  {
   "cell_type": "code",
   "execution_count": 27,
   "outputs": [],
   "source": [
    "cols_standardize = ['age', 'creatinine_phosphokinase', 'ejection_fraction', 'platelets', 'serum_creatinine', 'serum_sodium']\n",
    "cols_leave = ['anaemia', 'diabetes', 'high_blood_pressure', 'sex', 'smoking']\n",
    "\n",
    "standardize = [([col], StandardScaler()) for col in cols_standardize]\n",
    "leave = [(col, None) for col in cols_leave]\n",
    "\n",
    "x_mapper = DataFrameMapper(standardize + leave)"
   ],
   "metadata": {
    "collapsed": false
   }
  },
  {
   "cell_type": "code",
   "execution_count": 28,
   "outputs": [],
   "source": [
    "x_train = x_mapper.fit_transform(df_train).astype('float32')\n",
    "x_val = x_mapper.transform(df_val).astype('float32')\n",
    "x_test = x_mapper.transform(df_test).astype('float32')"
   ],
   "metadata": {
    "collapsed": false
   }
  },
  {
   "cell_type": "code",
   "execution_count": 66,
   "outputs": [],
   "source": [
    "num_durations = 10\n",
    "\n",
    "labtrans = DeepHitSingle.label_transform(num_durations)\n",
    "\n",
    "get_target = lambda df: (df['time'].values, df['DEATH_EVENT'].values)\n",
    "y_train = labtrans.fit_transform(*get_target(df_train))\n",
    "y_val = labtrans.transform(*get_target(df_val))\n",
    "\n",
    "x_train.transpose()\n",
    "\n",
    "train = (x_train, y_train)\n",
    "val = (x_val, y_val)\n",
    "\n",
    "# We don't need to transform the test labels\n",
    "durations_test, events_test = get_target(df_test)"
   ],
   "metadata": {
    "collapsed": false
   }
  },
  {
   "cell_type": "markdown",
   "source": [
    "### Create model and train it"
   ],
   "metadata": {
    "collapsed": false
   }
  },
  {
   "cell_type": "code",
   "execution_count": 71,
   "outputs": [],
   "source": [
    "in_features = x_train.shape[1]\n",
    "num_nodes = [16, 16]\n",
    "out_features = labtrans.out_features\n",
    "batch_norm = True\n",
    "dropout = 0.1\n",
    "\n",
    "net = tt.practical.MLPVanilla(in_features, num_nodes, out_features, batch_norm, dropout)"
   ],
   "metadata": {
    "collapsed": false
   }
  },
  {
   "cell_type": "code",
   "execution_count": 72,
   "outputs": [],
   "source": [
    "model = DeepHitSingle(net, tt.optim.Adam(0.01), duration_index=labtrans.cuts)"
   ],
   "metadata": {
    "collapsed": false
   }
  },
  {
   "cell_type": "code",
   "execution_count": 73,
   "outputs": [],
   "source": [
    "batch_size = 64\n",
    "epochs = 100\n",
    "callbacks = [tt.cb.EarlyStopping()]"
   ],
   "metadata": {
    "collapsed": false
   }
  },
  {
   "cell_type": "code",
   "execution_count": 74,
   "outputs": [
    {
     "name": "stdout",
     "output_type": "stream",
     "text": [
      "0:\t[0s / 0s],\t\ttrain_loss: 0.7055,\tval_loss: 0.4378\n",
      "1:\t[0s / 0s],\t\ttrain_loss: 0.4926,\tval_loss: 0.4411\n",
      "2:\t[0s / 0s],\t\ttrain_loss: 0.6027,\tval_loss: 0.4344\n",
      "3:\t[0s / 0s],\t\ttrain_loss: 0.4292,\tval_loss: 0.4302\n",
      "4:\t[0s / 0s],\t\ttrain_loss: 0.4303,\tval_loss: 0.4290\n",
      "5:\t[0s / 0s],\t\ttrain_loss: 0.4220,\tval_loss: 0.4271\n",
      "6:\t[0s / 0s],\t\ttrain_loss: 0.4219,\tval_loss: 0.4262\n",
      "7:\t[0s / 0s],\t\ttrain_loss: 0.3913,\tval_loss: 0.4304\n",
      "8:\t[0s / 0s],\t\ttrain_loss: 0.4023,\tval_loss: 0.4387\n",
      "9:\t[0s / 0s],\t\ttrain_loss: 0.3919,\tval_loss: 0.4423\n",
      "10:\t[0s / 0s],\t\ttrain_loss: 0.3698,\tval_loss: 0.4378\n",
      "11:\t[0s / 0s],\t\ttrain_loss: 0.3860,\tval_loss: 0.4322\n",
      "12:\t[0s / 0s],\t\ttrain_loss: 0.3554,\tval_loss: 0.4278\n",
      "13:\t[0s / 0s],\t\ttrain_loss: 0.3559,\tval_loss: 0.4247\n",
      "14:\t[0s / 0s],\t\ttrain_loss: 0.3595,\tval_loss: 0.4244\n",
      "15:\t[0s / 0s],\t\ttrain_loss: 0.3580,\tval_loss: 0.4263\n",
      "16:\t[0s / 0s],\t\ttrain_loss: 0.3325,\tval_loss: 0.4288\n",
      "17:\t[0s / 0s],\t\ttrain_loss: 0.3328,\tval_loss: 0.4337\n",
      "18:\t[0s / 0s],\t\ttrain_loss: 0.3364,\tval_loss: 0.4377\n",
      "19:\t[0s / 0s],\t\ttrain_loss: 0.3222,\tval_loss: 0.4380\n",
      "20:\t[0s / 0s],\t\ttrain_loss: 0.3431,\tval_loss: 0.4361\n",
      "21:\t[0s / 0s],\t\ttrain_loss: 0.3053,\tval_loss: 0.4319\n",
      "22:\t[0s / 0s],\t\ttrain_loss: 0.3141,\tval_loss: 0.4282\n",
      "23:\t[0s / 0s],\t\ttrain_loss: 0.3033,\tval_loss: 0.4307\n",
      "24:\t[0s / 0s],\t\ttrain_loss: 0.3024,\tval_loss: 0.4319\n"
     ]
    }
   ],
   "source": [
    "log = model.fit(x_train, y_train, batch_size, epochs, callbacks, val_data=val)"
   ],
   "metadata": {
    "collapsed": false
   }
  },
  {
   "cell_type": "code",
   "execution_count": 75,
   "outputs": [
    {
     "data": {
      "text/plain": "<Figure size 640x480 with 1 Axes>",
      "image/png": "[encoded data removed]"
     },
     "metadata": {},
     "output_type": "display_data"
    }
   ],
   "source": [
    "_ = log.plot()"
   ],
   "metadata": {
    "collapsed": false
   }
  },
  {
   "cell_type": "markdown",
   "source": [
    "### Model results analysis\n",
    "This part is taken from the pycox tutorial"
   ],
   "metadata": {
    "collapsed": false
   }
  },
  {
   "cell_type": "code",
   "execution_count": 76,
   "outputs": [],
   "source": [
    "# print(log.to_pandas().val_loss.min())\n",
    "# print(model.score_in_batches(val))\n",
    "# surv = model.predict_surv_df(x_test)\n",
    "# surv.iloc[:, :5].plot(drawstyle='steps-post')\n",
    "# plt.ylabel('S(t | x)')\n",
    "# _ = plt.xlabel('Time')"
   ],
   "metadata": {
    "collapsed": false
   }
  },
  {
   "cell_type": "code",
   "execution_count": 77,
   "outputs": [],
   "source": [
    "# surv = model.interpolate(10).predict_surv_df(x_test)\n",
    "# surv.iloc[:, :5].plot(drawstyle='steps-post')\n",
    "# plt.ylabel('S(t | x)')\n",
    "# _ = plt.xlabel('Time')"
   ],
   "metadata": {
    "collapsed": false
   }
  },
  {
   "cell_type": "code",
   "execution_count": 78,
   "outputs": [],
   "source": [
    "# ev = EvalSurv(surv, durations_test, events_test, censor_surv='km')\n",
    "# print(ev.concordance_td('antolini'))\n",
    "# time_grid = np.linspace(durations_test.min(), durations_test.max(), 100)\n",
    "# ev.brier_score(time_grid).plot()\n",
    "# plt.ylabel('Brier score')\n",
    "# _ = plt.xlabel('Time')"
   ],
   "metadata": {
    "collapsed": false
   }
  },
  {
   "cell_type": "code",
   "execution_count": 79,
   "outputs": [],
   "source": [
    "# print(ev.integrated_brier_score(time_grid))\n",
    "# print(ev.integrated_nbll(time_grid))\n",
    "# ev.nbll(time_grid).plot()\n",
    "# plt.ylabel('NBLL')\n",
    "# _ = plt.xlabel('Time')"
   ],
   "metadata": {
    "collapsed": false
   }
  },
  {
   "cell_type": "markdown",
   "source": [
    "### Explaining model's predictions\n",
    "In this section we use explainers from captum library"
   ],
   "metadata": {
    "collapsed": false
   }
  },
  {
   "cell_type": "code",
   "execution_count": 80,
   "outputs": [],
   "source": [
    "from captum.attr import (\n",
    "    GradientShap,\n",
    "    DeepLift,\n",
    "    DeepLiftShap,\n",
    "    IntegratedGradients,\n",
    ")"
   ],
   "metadata": {
    "collapsed": false
   }
  },
  {
   "cell_type": "code",
   "execution_count": 99,
   "outputs": [
    {
     "name": "stdout",
     "output_type": "stream",
     "text": [
      "Integrated Gradients mean attributions: [ 0.0292784   0.02505408 -0.03815171  0.01266383  0.01597387  0.06627826\n",
      " -0.03912117 -0.02868438  0.06274574  0.03201562  0.00618445]\n",
      "Mean Convergence Delta: 0.0008815474739631148\n",
      "DeepLift mean attributions: [ 0.02618182  0.01984281 -0.03617777  0.0109012   0.01511144  0.06467749\n",
      " -0.03416074 -0.02320135  0.05641534  0.03421191  0.00955333]\n",
      "Mean Convergence Delta: 2.8476042e-09\n"
     ]
    }
   ],
   "source": [
    "model.eval()\n",
    "# baseline_dist = torch.zeros(191, 11, requires_grad=True) * 0.001\n",
    "inputs = torch.tensor(x_train, requires_grad=True) #.unsqueeze(dim=0)\n",
    "outputs = torch.tensor(y_train[1].astype('int64')) #, requires_grad=True)\n",
    "dl = DeepLift(model.net)\n",
    "ig = IntegratedGradients(model.net)\n",
    "attributions, delta = ig.attribute(inputs, target=outputs, return_convergence_delta=True) #  baseline_dist, target=outputs,\n",
    "print('Integrated Gradients mean attributions:', attributions.mean(dim=0).detach().numpy())\n",
    "print('Mean Convergence Delta:', delta.mean().detach().numpy())\n",
    "attributions, delta = dl.attribute(inputs, target=outputs, return_convergence_delta=True) #  baseline_dist, target=outputs,\n",
    "print('DeepLift mean attributions:', attributions.mean(dim=0).detach().numpy())\n",
    "print('Mean Convergence Delta:', delta.mean().detach().numpy())"
   ],
   "metadata": {
    "collapsed": false
   }
  }
 ],
 "metadata": {
  "kernelspec": {
   "display_name": "Python 3.10.5 ('survshap')",
   "language": "python",
   "name": "python3"
  },
  "language_info": {
   "codemirror_mode": {
    "name": "ipython",
    "version": 3
   },
   "file_extension": ".py",
   "mimetype": "text/x-python",
   "name": "python",
   "nbconvert_exporter": "python",
   "pygments_lexer": "ipython3",
   "version": "3.10.5"
  },
  "orig_nbformat": 4,
  "vscode": {
   "interpreter": {
    "hash": "2e89d17bf3f53615b213f4c00662e1677a8885f31ece09e136535e9b43ddada0"
   }
  }
 },
 "nbformat": 4,
 "nbformat_minor": 2
}
