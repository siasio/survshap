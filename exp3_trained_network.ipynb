{
  "cells": [
    {
      "cell_type": "markdown",
      "metadata": {
        "id": "SnGKBU-hBX2P"
      },
      "source": [
        "# SurvSHAP vs DeepLift vs Integrated Gradients\n",
        "### J. Krajewski, S. Frejlak, M. Wojtala"
      ]
    },
    {
      "cell_type": "markdown",
      "metadata": {
        "id": "nK_gEpqaBX2R"
      },
      "source": [
        "### Experiment 1: evaluation on artificial data"
      ]
    },
    {
      "cell_type": "markdown",
      "metadata": {
        "id": "540jB6w-BX2R"
      },
      "source": [
        "#### Imports"
      ]
    },
    {
      "cell_type": "code",
      "execution_count": 1,
      "metadata": {
        "colab": {
          "base_uri": "https://localhost:8080/"
        },
        "id": "24gA1mQDBX2S",
        "outputId": "f5bd36ad-2c1f-489f-dfcf-5979c07885d5"
      },
      "outputs": [
        {
          "output_type": "stream",
          "name": "stdout",
          "text": [
            "Looking in indexes: https://pypi.org/simple, https://us-python.pkg.dev/colab-wheels/public/simple/\n",
            "Collecting torchtuples\n",
            "  Downloading torchtuples-0.2.2-py3-none-any.whl (41 kB)\n",
            "\u001b[2K     \u001b[90m━━━━━━━━━━━━━━━━━━━━━━━━━━━━━━━━━━━━━━━━\u001b[0m \u001b[32m41.9/41.9 KB\u001b[0m \u001b[31m3.5 MB/s\u001b[0m eta \u001b[36m0:00:00\u001b[0m\n",
            "\u001b[?25hRequirement already satisfied: numpy>=1.15.4 in /usr/local/lib/python3.8/dist-packages (from torchtuples) (1.21.6)\n",
            "Requirement already satisfied: matplotlib>=3.0.3 in /usr/local/lib/python3.8/dist-packages (from torchtuples) (3.2.2)\n",
            "Requirement already satisfied: pandas>=0.24.2 in /usr/local/lib/python3.8/dist-packages (from torchtuples) (1.3.5)\n",
            "Requirement already satisfied: pyparsing!=2.0.4,!=2.1.2,!=2.1.6,>=2.0.1 in /usr/local/lib/python3.8/dist-packages (from matplotlib>=3.0.3->torchtuples) (3.0.9)\n",
            "Requirement already satisfied: cycler>=0.10 in /usr/local/lib/python3.8/dist-packages (from matplotlib>=3.0.3->torchtuples) (0.11.0)\n",
            "Requirement already satisfied: kiwisolver>=1.0.1 in /usr/local/lib/python3.8/dist-packages (from matplotlib>=3.0.3->torchtuples) (1.4.4)\n",
            "Requirement already satisfied: python-dateutil>=2.1 in /usr/local/lib/python3.8/dist-packages (from matplotlib>=3.0.3->torchtuples) (2.8.2)\n",
            "Requirement already satisfied: pytz>=2017.3 in /usr/local/lib/python3.8/dist-packages (from pandas>=0.24.2->torchtuples) (2022.7)\n",
            "Requirement already satisfied: six>=1.5 in /usr/local/lib/python3.8/dist-packages (from python-dateutil>=2.1->matplotlib>=3.0.3->torchtuples) (1.15.0)\n",
            "Installing collected packages: torchtuples\n",
            "Successfully installed torchtuples-0.2.2\n",
            "Looking in indexes: https://pypi.org/simple, https://us-python.pkg.dev/colab-wheels/public/simple/\n",
            "Collecting pycox\n",
            "  Downloading pycox-0.2.3-py3-none-any.whl (73 kB)\n",
            "\u001b[2K     \u001b[90m━━━━━━━━━━━━━━━━━━━━━━━━━━━━━━━━━━━━━━━━\u001b[0m \u001b[32m73.7/73.7 KB\u001b[0m \u001b[31m3.8 MB/s\u001b[0m eta \u001b[36m0:00:00\u001b[0m\n",
            "\u001b[?25hRequirement already satisfied: h5py>=2.9.0 in /usr/local/lib/python3.8/dist-packages (from pycox) (3.1.0)\n",
            "Requirement already satisfied: scikit-learn>=0.21.2 in /usr/local/lib/python3.8/dist-packages (from pycox) (1.0.2)\n",
            "Collecting py7zr>=0.11.3\n",
            "  Downloading py7zr-0.20.2-py3-none-any.whl (65 kB)\n",
            "\u001b[2K     \u001b[90m━━━━━━━━━━━━━━━━━━━━━━━━━━━━━━━━━━━━━━━━\u001b[0m \u001b[32m65.8/65.8 KB\u001b[0m \u001b[31m6.5 MB/s\u001b[0m eta \u001b[36m0:00:00\u001b[0m\n",
            "\u001b[?25hRequirement already satisfied: numba>=0.44 in /usr/local/lib/python3.8/dist-packages (from pycox) (0.56.4)\n",
            "Requirement already satisfied: torchtuples>=0.2.0 in /usr/local/lib/python3.8/dist-packages (from pycox) (0.2.2)\n",
            "Requirement already satisfied: requests>=2.22.0 in /usr/local/lib/python3.8/dist-packages (from pycox) (2.25.1)\n",
            "Requirement already satisfied: feather-format>=0.4.0 in /usr/local/lib/python3.8/dist-packages (from pycox) (0.4.1)\n",
            "Requirement already satisfied: pyarrow>=0.4.0 in /usr/local/lib/python3.8/dist-packages (from feather-format>=0.4.0->pycox) (9.0.0)\n",
            "Requirement already satisfied: numpy>=1.17.5 in /usr/local/lib/python3.8/dist-packages (from h5py>=2.9.0->pycox) (1.21.6)\n",
            "Requirement already satisfied: setuptools in /usr/local/lib/python3.8/dist-packages (from numba>=0.44->pycox) (57.4.0)\n",
            "Requirement already satisfied: importlib-metadata in /usr/local/lib/python3.8/dist-packages (from numba>=0.44->pycox) (6.0.0)\n",
            "Requirement already satisfied: llvmlite<0.40,>=0.39.0dev0 in /usr/local/lib/python3.8/dist-packages (from numba>=0.44->pycox) (0.39.1)\n",
            "Collecting inflate64>=0.3.1\n",
            "  Downloading inflate64-0.3.1-cp38-cp38-manylinux_2_17_x86_64.manylinux2014_x86_64.whl (94 kB)\n",
            "\u001b[2K     \u001b[90m━━━━━━━━━━━━━━━━━━━━━━━━━━━━━━━━━━━━━━━━\u001b[0m \u001b[32m94.5/94.5 KB\u001b[0m \u001b[31m10.8 MB/s\u001b[0m eta \u001b[36m0:00:00\u001b[0m\n",
            "\u001b[?25hRequirement already satisfied: psutil in /usr/local/lib/python3.8/dist-packages (from py7zr>=0.11.3->pycox) (5.4.8)\n",
            "Collecting brotli>=1.0.9\n",
            "  Downloading Brotli-1.0.9-cp38-cp38-manylinux1_x86_64.whl (357 kB)\n",
            "\u001b[2K     \u001b[90m━━━━━━━━━━━━━━━━━━━━━━━━━━━━━━━━━━━━━━━\u001b[0m \u001b[32m357.2/357.2 KB\u001b[0m \u001b[31m7.4 MB/s\u001b[0m eta \u001b[36m0:00:00\u001b[0m\n",
            "\u001b[?25hCollecting pyzstd>=0.14.4\n",
            "  Downloading pyzstd-0.15.3-cp38-cp38-manylinux_2_17_x86_64.manylinux2014_x86_64.whl (378 kB)\n",
            "\u001b[2K     \u001b[90m━━━━━━━━━━━━━━━━━━━━━━━━━━━━━━━━━━━━━━━\u001b[0m \u001b[32m379.0/379.0 KB\u001b[0m \u001b[31m9.0 MB/s\u001b[0m eta \u001b[36m0:00:00\u001b[0m\n",
            "\u001b[?25hCollecting pyppmd<1.1.0,>=0.18.1\n",
            "  Downloading pyppmd-1.0.0-cp38-cp38-manylinux_2_17_x86_64.manylinux2014_x86_64.whl (139 kB)\n",
            "\u001b[2K     \u001b[90m━━━━━━━━━━━━━━━━━━━━━━━━━━━━━━━━━━━━━━\u001b[0m \u001b[32m139.7/139.7 KB\u001b[0m \u001b[31m14.2 MB/s\u001b[0m eta \u001b[36m0:00:00\u001b[0m\n",
            "\u001b[?25hCollecting multivolumefile>=0.2.3\n",
            "  Downloading multivolumefile-0.2.3-py3-none-any.whl (17 kB)\n",
            "Collecting texttable\n",
            "  Downloading texttable-1.6.7-py2.py3-none-any.whl (10 kB)\n",
            "Collecting pybcj>=0.6.0\n",
            "  Downloading pybcj-1.0.1-cp38-cp38-manylinux_2_17_x86_64.manylinux2014_x86_64.whl (50 kB)\n",
            "\u001b[2K     \u001b[90m━━━━━━━━━━━━━━━━━━━━━━━━━━━━━━━━━━━━━━━━\u001b[0m \u001b[32m50.8/50.8 KB\u001b[0m \u001b[31m5.1 MB/s\u001b[0m eta \u001b[36m0:00:00\u001b[0m\n",
            "\u001b[?25hCollecting pycryptodomex>=3.6.6\n",
            "  Downloading pycryptodomex-3.16.0-cp35-abi3-manylinux_2_5_x86_64.manylinux1_x86_64.manylinux_2_12_x86_64.manylinux2010_x86_64.whl (2.3 MB)\n",
            "\u001b[2K     \u001b[90m━━━━━━━━━━━━━━━━━━━━━━━━━━━━━━━━━━━━━━━━\u001b[0m \u001b[32m2.3/2.3 MB\u001b[0m \u001b[31m49.4 MB/s\u001b[0m eta \u001b[36m0:00:00\u001b[0m\n",
            "\u001b[?25hRequirement already satisfied: idna<3,>=2.5 in /usr/local/lib/python3.8/dist-packages (from requests>=2.22.0->pycox) (2.10)\n",
            "Requirement already satisfied: urllib3<1.27,>=1.21.1 in /usr/local/lib/python3.8/dist-packages (from requests>=2.22.0->pycox) (1.24.3)\n",
            "Requirement already satisfied: chardet<5,>=3.0.2 in /usr/local/lib/python3.8/dist-packages (from requests>=2.22.0->pycox) (4.0.0)\n",
            "Requirement already satisfied: certifi>=2017.4.17 in /usr/local/lib/python3.8/dist-packages (from requests>=2.22.0->pycox) (2022.12.7)\n",
            "Requirement already satisfied: joblib>=0.11 in /usr/local/lib/python3.8/dist-packages (from scikit-learn>=0.21.2->pycox) (1.2.0)\n",
            "Requirement already satisfied: scipy>=1.1.0 in /usr/local/lib/python3.8/dist-packages (from scikit-learn>=0.21.2->pycox) (1.7.3)\n",
            "Requirement already satisfied: threadpoolctl>=2.0.0 in /usr/local/lib/python3.8/dist-packages (from scikit-learn>=0.21.2->pycox) (3.1.0)\n",
            "Requirement already satisfied: matplotlib>=3.0.3 in /usr/local/lib/python3.8/dist-packages (from torchtuples>=0.2.0->pycox) (3.2.2)\n",
            "Requirement already satisfied: pandas>=0.24.2 in /usr/local/lib/python3.8/dist-packages (from torchtuples>=0.2.0->pycox) (1.3.5)\n",
            "Requirement already satisfied: cycler>=0.10 in /usr/local/lib/python3.8/dist-packages (from matplotlib>=3.0.3->torchtuples>=0.2.0->pycox) (0.11.0)\n",
            "Requirement already satisfied: pyparsing!=2.0.4,!=2.1.2,!=2.1.6,>=2.0.1 in /usr/local/lib/python3.8/dist-packages (from matplotlib>=3.0.3->torchtuples>=0.2.0->pycox) (3.0.9)\n",
            "Requirement already satisfied: kiwisolver>=1.0.1 in /usr/local/lib/python3.8/dist-packages (from matplotlib>=3.0.3->torchtuples>=0.2.0->pycox) (1.4.4)\n",
            "Requirement already satisfied: python-dateutil>=2.1 in /usr/local/lib/python3.8/dist-packages (from matplotlib>=3.0.3->torchtuples>=0.2.0->pycox) (2.8.2)\n",
            "Requirement already satisfied: pytz>=2017.3 in /usr/local/lib/python3.8/dist-packages (from pandas>=0.24.2->torchtuples>=0.2.0->pycox) (2022.7)\n",
            "Requirement already satisfied: zipp>=0.5 in /usr/local/lib/python3.8/dist-packages (from importlib-metadata->numba>=0.44->pycox) (3.11.0)\n",
            "Requirement already satisfied: six>=1.5 in /usr/local/lib/python3.8/dist-packages (from python-dateutil>=2.1->matplotlib>=3.0.3->torchtuples>=0.2.0->pycox) (1.15.0)\n",
            "Installing collected packages: texttable, brotli, pyzstd, pyppmd, pycryptodomex, pybcj, multivolumefile, inflate64, py7zr, pycox\n",
            "Successfully installed brotli-1.0.9 inflate64-0.3.1 multivolumefile-0.2.3 py7zr-0.20.2 pybcj-1.0.1 pycox-0.2.3 pycryptodomex-3.16.0 pyppmd-1.0.0 pyzstd-0.15.3 texttable-1.6.7\n"
          ]
        }
      ],
      "source": [
        "!pip3 install torchtuples\n",
        "!pip3 install pycox\n",
        "\n",
        "import pandas as pd\n",
        "import numpy as np\n",
        "from tqdm import tqdm\n",
        "import pickle\n",
        "from scipy.integrate import trapezoid\n",
        "\n",
        "import matplotlib.pyplot as plt\n",
        "\n",
        "# For preprocessing\n",
        "from sklearn.preprocessing import StandardScaler\n",
        "from sklearn_pandas import DataFrameMapper\n",
        "\n",
        "import torch # For building the networks\n",
        "import torchtuples as tt # Some useful functions\n",
        "\n",
        "from pycox.models import DeepHitSingle"
      ]
    },
    {
      "cell_type": "markdown",
      "metadata": {
        "id": "EU6wJnj3BX2T"
      },
      "source": [
        "The next part of experiment 1 will be here after overcoming technical difficulties..."
      ]
    },
    {
      "cell_type": "markdown",
      "metadata": {
        "id": "1B38BbjmBX2T"
      },
      "source": [
        "### Experiment 2: Real-world use case: predicting survival of patients with heart failure"
      ]
    },
    {
      "cell_type": "markdown",
      "metadata": {
        "id": "cQ5WhAd6BX2T"
      },
      "source": [
        "#### Preparing data and deep model"
      ]
    },
    {
      "cell_type": "code",
      "execution_count": 15,
      "metadata": {
        "id": "v76cKAzZBX2T",
        "outputId": "28ec35cf-b6f8-4c52-ba5d-4330ea85b789",
        "colab": {
          "base_uri": "https://localhost:8080/",
          "height": 206
        }
      },
      "outputs": [
        {
          "output_type": "execute_result",
          "data": {
            "text/plain": [
              "    age  anaemia  creatinine_phosphokinase  diabetes  ejection_fraction  \\\n",
              "0  75.0        0                       582         0                 20   \n",
              "1  55.0        0                      7861         0                 38   \n",
              "2  65.0        0                       146         0                 20   \n",
              "5  90.0        1                        47         0                 40   \n",
              "6  75.0        1                       246         0                 15   \n",
              "\n",
              "   high_blood_pressure  platelets  serum_creatinine  serum_sodium  sex  \\\n",
              "0                    1  265000.00               1.9           130    1   \n",
              "1                    0  263358.03               1.1           136    1   \n",
              "2                    0  162000.00               1.3           129    1   \n",
              "5                    1  204000.00               2.1           132    1   \n",
              "6                    0  127000.00               1.2           137    1   \n",
              "\n",
              "   smoking  time  DEATH_EVENT  \n",
              "0        0     4            1  \n",
              "1        0     6            1  \n",
              "2        1     7            1  \n",
              "5        1     8            1  \n",
              "6        0    10            1  "
            ],
            "text/html": [
              "\n",
              "  <div id=\"df-9a06010b-fd8f-47d9-804d-efee3df35567\">\n",
              "    <div class=\"colab-df-container\">\n",
              "      <div>\n",
              "<style scoped>\n",
              "    .dataframe tbody tr th:only-of-type {\n",
              "        vertical-align: middle;\n",
              "    }\n",
              "\n",
              "    .dataframe tbody tr th {\n",
              "        vertical-align: top;\n",
              "    }\n",
              "\n",
              "    .dataframe thead th {\n",
              "        text-align: right;\n",
              "    }\n",
              "</style>\n",
              "<table border=\"1\" class=\"dataframe\">\n",
              "  <thead>\n",
              "    <tr style=\"text-align: right;\">\n",
              "      <th></th>\n",
              "      <th>age</th>\n",
              "      <th>anaemia</th>\n",
              "      <th>creatinine_phosphokinase</th>\n",
              "      <th>diabetes</th>\n",
              "      <th>ejection_fraction</th>\n",
              "      <th>high_blood_pressure</th>\n",
              "      <th>platelets</th>\n",
              "      <th>serum_creatinine</th>\n",
              "      <th>serum_sodium</th>\n",
              "      <th>sex</th>\n",
              "      <th>smoking</th>\n",
              "      <th>time</th>\n",
              "      <th>DEATH_EVENT</th>\n",
              "    </tr>\n",
              "  </thead>\n",
              "  <tbody>\n",
              "    <tr>\n",
              "      <th>0</th>\n",
              "      <td>75.0</td>\n",
              "      <td>0</td>\n",
              "      <td>582</td>\n",
              "      <td>0</td>\n",
              "      <td>20</td>\n",
              "      <td>1</td>\n",
              "      <td>265000.00</td>\n",
              "      <td>1.9</td>\n",
              "      <td>130</td>\n",
              "      <td>1</td>\n",
              "      <td>0</td>\n",
              "      <td>4</td>\n",
              "      <td>1</td>\n",
              "    </tr>\n",
              "    <tr>\n",
              "      <th>1</th>\n",
              "      <td>55.0</td>\n",
              "      <td>0</td>\n",
              "      <td>7861</td>\n",
              "      <td>0</td>\n",
              "      <td>38</td>\n",
              "      <td>0</td>\n",
              "      <td>263358.03</td>\n",
              "      <td>1.1</td>\n",
              "      <td>136</td>\n",
              "      <td>1</td>\n",
              "      <td>0</td>\n",
              "      <td>6</td>\n",
              "      <td>1</td>\n",
              "    </tr>\n",
              "    <tr>\n",
              "      <th>2</th>\n",
              "      <td>65.0</td>\n",
              "      <td>0</td>\n",
              "      <td>146</td>\n",
              "      <td>0</td>\n",
              "      <td>20</td>\n",
              "      <td>0</td>\n",
              "      <td>162000.00</td>\n",
              "      <td>1.3</td>\n",
              "      <td>129</td>\n",
              "      <td>1</td>\n",
              "      <td>1</td>\n",
              "      <td>7</td>\n",
              "      <td>1</td>\n",
              "    </tr>\n",
              "    <tr>\n",
              "      <th>5</th>\n",
              "      <td>90.0</td>\n",
              "      <td>1</td>\n",
              "      <td>47</td>\n",
              "      <td>0</td>\n",
              "      <td>40</td>\n",
              "      <td>1</td>\n",
              "      <td>204000.00</td>\n",
              "      <td>2.1</td>\n",
              "      <td>132</td>\n",
              "      <td>1</td>\n",
              "      <td>1</td>\n",
              "      <td>8</td>\n",
              "      <td>1</td>\n",
              "    </tr>\n",
              "    <tr>\n",
              "      <th>6</th>\n",
              "      <td>75.0</td>\n",
              "      <td>1</td>\n",
              "      <td>246</td>\n",
              "      <td>0</td>\n",
              "      <td>15</td>\n",
              "      <td>0</td>\n",
              "      <td>127000.00</td>\n",
              "      <td>1.2</td>\n",
              "      <td>137</td>\n",
              "      <td>1</td>\n",
              "      <td>0</td>\n",
              "      <td>10</td>\n",
              "      <td>1</td>\n",
              "    </tr>\n",
              "  </tbody>\n",
              "</table>\n",
              "</div>\n",
              "      <button class=\"colab-df-convert\" onclick=\"convertToInteractive('df-9a06010b-fd8f-47d9-804d-efee3df35567')\"\n",
              "              title=\"Convert this dataframe to an interactive table.\"\n",
              "              style=\"display:none;\">\n",
              "        \n",
              "  <svg xmlns=\"http://www.w3.org/2000/svg\" height=\"24px\"viewBox=\"0 0 24 24\"\n",
              "       width=\"24px\">\n",
              "    <path d=\"M0 0h24v24H0V0z\" fill=\"none\"/>\n",
              "    <path d=\"M18.56 5.44l.94 2.06.94-2.06 2.06-.94-2.06-.94-.94-2.06-.94 2.06-2.06.94zm-11 1L8.5 8.5l.94-2.06 2.06-.94-2.06-.94L8.5 2.5l-.94 2.06-2.06.94zm10 10l.94 2.06.94-2.06 2.06-.94-2.06-.94-.94-2.06-.94 2.06-2.06.94z\"/><path d=\"M17.41 7.96l-1.37-1.37c-.4-.4-.92-.59-1.43-.59-.52 0-1.04.2-1.43.59L10.3 9.45l-7.72 7.72c-.78.78-.78 2.05 0 2.83L4 21.41c.39.39.9.59 1.41.59.51 0 1.02-.2 1.41-.59l7.78-7.78 2.81-2.81c.8-.78.8-2.07 0-2.86zM5.41 20L4 18.59l7.72-7.72 1.47 1.35L5.41 20z\"/>\n",
              "  </svg>\n",
              "      </button>\n",
              "      \n",
              "  <style>\n",
              "    .colab-df-container {\n",
              "      display:flex;\n",
              "      flex-wrap:wrap;\n",
              "      gap: 12px;\n",
              "    }\n",
              "\n",
              "    .colab-df-convert {\n",
              "      background-color: #E8F0FE;\n",
              "      border: none;\n",
              "      border-radius: 50%;\n",
              "      cursor: pointer;\n",
              "      display: none;\n",
              "      fill: #1967D2;\n",
              "      height: 32px;\n",
              "      padding: 0 0 0 0;\n",
              "      width: 32px;\n",
              "    }\n",
              "\n",
              "    .colab-df-convert:hover {\n",
              "      background-color: #E2EBFA;\n",
              "      box-shadow: 0px 1px 2px rgba(60, 64, 67, 0.3), 0px 1px 3px 1px rgba(60, 64, 67, 0.15);\n",
              "      fill: #174EA6;\n",
              "    }\n",
              "\n",
              "    [theme=dark] .colab-df-convert {\n",
              "      background-color: #3B4455;\n",
              "      fill: #D2E3FC;\n",
              "    }\n",
              "\n",
              "    [theme=dark] .colab-df-convert:hover {\n",
              "      background-color: #434B5C;\n",
              "      box-shadow: 0px 1px 3px 1px rgba(0, 0, 0, 0.15);\n",
              "      filter: drop-shadow(0px 1px 2px rgba(0, 0, 0, 0.3));\n",
              "      fill: #FFFFFF;\n",
              "    }\n",
              "  </style>\n",
              "\n",
              "      <script>\n",
              "        const buttonEl =\n",
              "          document.querySelector('#df-9a06010b-fd8f-47d9-804d-efee3df35567 button.colab-df-convert');\n",
              "        buttonEl.style.display =\n",
              "          google.colab.kernel.accessAllowed ? 'block' : 'none';\n",
              "\n",
              "        async function convertToInteractive(key) {\n",
              "          const element = document.querySelector('#df-9a06010b-fd8f-47d9-804d-efee3df35567');\n",
              "          const dataTable =\n",
              "            await google.colab.kernel.invokeFunction('convertToInteractive',\n",
              "                                                     [key], {});\n",
              "          if (!dataTable) return;\n",
              "\n",
              "          const docLinkHtml = 'Like what you see? Visit the ' +\n",
              "            '<a target=\"_blank\" href=https://colab.research.google.com/notebooks/data_table.ipynb>data table notebook</a>'\n",
              "            + ' to learn more about interactive tables.';\n",
              "          element.innerHTML = '';\n",
              "          dataTable['output_type'] = 'display_data';\n",
              "          await google.colab.output.renderOutput(dataTable, element);\n",
              "          const docLink = document.createElement('div');\n",
              "          docLink.innerHTML = docLinkHtml;\n",
              "          element.appendChild(docLink);\n",
              "        }\n",
              "      </script>\n",
              "    </div>\n",
              "  </div>\n",
              "  "
            ]
          },
          "metadata": {},
          "execution_count": 15
        }
      ],
      "source": [
        "df_raw = pd.read_csv('exp3_heart_failure_dataset.csv')\n",
        "\n",
        "df_train = pd.read_csv('exp3_heart_failure_dataset.csv')\n",
        "df_test = df_train.sample(frac=0.2)\n",
        "df_train = df_train.drop(df_test.index)\n",
        "df_val = df_train.sample(frac=0.2)\n",
        "df_train = df_train.drop(df_val.index)\n",
        "\n",
        "df_train.head()"
      ]
    },
    {
      "cell_type": "code",
      "execution_count": 16,
      "metadata": {
        "id": "tZVzoTsoBX2T"
      },
      "outputs": [],
      "source": [
        "cols_standardize = ['age', 'creatinine_phosphokinase', 'ejection_fraction', 'platelets', 'serum_creatinine', 'serum_sodium']\n",
        "cols_leave = ['anaemia', 'diabetes', 'high_blood_pressure', 'sex', 'smoking']\n",
        "\n",
        "standardize = [([col], StandardScaler()) for col in cols_standardize]\n",
        "leave = [(col, None) for col in cols_leave]\n",
        "\n",
        "x_mapper = DataFrameMapper(standardize + leave)"
      ]
    },
    {
      "cell_type": "code",
      "execution_count": 17,
      "metadata": {
        "id": "BYSUlDPFBX2U"
      },
      "outputs": [],
      "source": [
        "x_train = x_mapper.fit_transform(df_train).astype('float32')\n",
        "x_val = x_mapper.transform(df_val).astype('float32')\n",
        "x_test = x_mapper.transform(df_test).astype('float32')"
      ]
    },
    {
      "cell_type": "code",
      "execution_count": 18,
      "metadata": {
        "id": "b478Tz-xBX2U",
        "colab": {
          "base_uri": "https://localhost:8080/"
        },
        "outputId": "4b58ac1f-0030-464e-b8b9-16a9b1cddfd4"
      },
      "outputs": [
        {
          "output_type": "stream",
          "name": "stdout",
          "text": [
            "285\n"
          ]
        }
      ],
      "source": [
        "num_durations = max(df_raw['time'])\n",
        "\n",
        "print(num_durations)\n",
        "\n",
        "labtrans = DeepHitSingle.label_transform(num_durations)\n",
        "\n",
        "get_target = lambda df: (df['time'].values, df['DEATH_EVENT'].values)\n",
        "y_train = labtrans.fit_transform(*get_target(df_train))\n",
        "y_val = labtrans.transform(*get_target(df_val))\n",
        "\n",
        "x_train.transpose()\n",
        "\n",
        "train = (x_train, y_train)\n",
        "val = (x_val, y_val)\n",
        "\n",
        "# We don't need to transform the test labels\n",
        "durations_test, events_test = get_target(df_test)"
      ]
    },
    {
      "cell_type": "markdown",
      "metadata": {
        "id": "AgrRPwMIBX2U"
      },
      "source": [
        "#### Training deep model"
      ]
    },
    {
      "cell_type": "code",
      "execution_count": 53,
      "metadata": {
        "id": "x3c1hasqBX2U"
      },
      "outputs": [],
      "source": [
        "in_features = x_train.shape[1]\n",
        "num_nodes = [4, 4]\n",
        "out_features = labtrans.out_features\n",
        "batch_norm = True\n",
        "dropout = 0.0\n",
        "\n",
        "net = tt.practical.MLPVanilla(in_features, num_nodes, out_features, batch_norm, dropout)"
      ]
    },
    {
      "cell_type": "code",
      "execution_count": 54,
      "metadata": {
        "id": "jxfUivzUBX2V"
      },
      "outputs": [],
      "source": [
        "model = DeepHitSingle(net, tt.optim.Adam(0.0001), duration_index=labtrans.cuts)"
      ]
    },
    {
      "cell_type": "code",
      "execution_count": 55,
      "metadata": {
        "id": "6SMM5porBX2V"
      },
      "outputs": [],
      "source": [
        "batch_size = 64\n",
        "epochs = 1000\n",
        "callbacks = []# [tt.cb.EarlyStopping()]"
      ]
    },
    {
      "cell_type": "code",
      "execution_count": 56,
      "metadata": {
        "id": "Gh--RRYoBX2V",
        "colab": {
          "base_uri": "https://localhost:8080/"
        },
        "outputId": "57a7de01-623b-4565-9338-33d657b02db6"
      },
      "outputs": [
        {
          "output_type": "stream",
          "name": "stdout",
          "text": [
            "0:\t[0s / 0s],\t\ttrain_loss: 0.7301,\tval_loss: 0.7885\n",
            "1:\t[0s / 0s],\t\ttrain_loss: 0.7266,\tval_loss: 0.7877\n",
            "2:\t[0s / 0s],\t\ttrain_loss: 0.7248,\tval_loss: 0.7888\n",
            "3:\t[0s / 0s],\t\ttrain_loss: 0.7232,\tval_loss: 0.7904\n",
            "4:\t[0s / 0s],\t\ttrain_loss: 0.7229,\tval_loss: 0.7921\n",
            "5:\t[0s / 0s],\t\ttrain_loss: 0.7271,\tval_loss: 0.7940\n",
            "6:\t[0s / 0s],\t\ttrain_loss: 0.7236,\tval_loss: 0.7955\n",
            "7:\t[0s / 0s],\t\ttrain_loss: 0.7261,\tval_loss: 0.7967\n",
            "8:\t[0s / 0s],\t\ttrain_loss: 0.7250,\tval_loss: 0.7980\n",
            "9:\t[0s / 0s],\t\ttrain_loss: 0.7263,\tval_loss: 0.7986\n",
            "10:\t[0s / 0s],\t\ttrain_loss: 0.7244,\tval_loss: 0.7992\n",
            "11:\t[0s / 0s],\t\ttrain_loss: 0.7255,\tval_loss: 0.8002\n",
            "12:\t[0s / 0s],\t\ttrain_loss: 0.7253,\tval_loss: 0.8003\n",
            "13:\t[0s / 0s],\t\ttrain_loss: 0.7236,\tval_loss: 0.8004\n",
            "14:\t[0s / 0s],\t\ttrain_loss: 0.7244,\tval_loss: 0.8005\n",
            "15:\t[0s / 0s],\t\ttrain_loss: 0.7236,\tval_loss: 0.8004\n",
            "16:\t[0s / 0s],\t\ttrain_loss: 0.7257,\tval_loss: 0.8004\n",
            "17:\t[0s / 0s],\t\ttrain_loss: 0.7250,\tval_loss: 0.8004\n",
            "18:\t[0s / 0s],\t\ttrain_loss: 0.7213,\tval_loss: 0.8003\n",
            "19:\t[0s / 0s],\t\ttrain_loss: 0.7209,\tval_loss: 0.8002\n",
            "20:\t[0s / 0s],\t\ttrain_loss: 0.7255,\tval_loss: 0.8001\n",
            "21:\t[0s / 0s],\t\ttrain_loss: 0.7226,\tval_loss: 0.7998\n",
            "22:\t[0s / 0s],\t\ttrain_loss: 0.7213,\tval_loss: 0.7996\n",
            "23:\t[0s / 0s],\t\ttrain_loss: 0.7200,\tval_loss: 0.7996\n",
            "24:\t[0s / 0s],\t\ttrain_loss: 0.7181,\tval_loss: 0.7999\n",
            "25:\t[0s / 0s],\t\ttrain_loss: 0.7241,\tval_loss: 0.7997\n",
            "26:\t[0s / 0s],\t\ttrain_loss: 0.7229,\tval_loss: 0.7991\n",
            "27:\t[0s / 0s],\t\ttrain_loss: 0.7190,\tval_loss: 0.7991\n",
            "28:\t[0s / 0s],\t\ttrain_loss: 0.7218,\tval_loss: 0.7992\n",
            "29:\t[0s / 0s],\t\ttrain_loss: 0.7200,\tval_loss: 0.7989\n",
            "30:\t[0s / 0s],\t\ttrain_loss: 0.7202,\tval_loss: 0.7985\n",
            "31:\t[0s / 0s],\t\ttrain_loss: 0.7190,\tval_loss: 0.7983\n",
            "32:\t[0s / 0s],\t\ttrain_loss: 0.7210,\tval_loss: 0.7986\n",
            "33:\t[0s / 0s],\t\ttrain_loss: 0.7208,\tval_loss: 0.7982\n",
            "34:\t[0s / 0s],\t\ttrain_loss: 0.7190,\tval_loss: 0.7982\n",
            "35:\t[0s / 0s],\t\ttrain_loss: 0.7204,\tval_loss: 0.7979\n",
            "36:\t[0s / 0s],\t\ttrain_loss: 0.7200,\tval_loss: 0.7976\n",
            "37:\t[0s / 0s],\t\ttrain_loss: 0.7198,\tval_loss: 0.7973\n",
            "38:\t[0s / 0s],\t\ttrain_loss: 0.7179,\tval_loss: 0.7971\n",
            "39:\t[0s / 0s],\t\ttrain_loss: 0.7185,\tval_loss: 0.7970\n",
            "40:\t[0s / 0s],\t\ttrain_loss: 0.7168,\tval_loss: 0.7968\n",
            "41:\t[0s / 0s],\t\ttrain_loss: 0.7206,\tval_loss: 0.7967\n",
            "42:\t[0s / 0s],\t\ttrain_loss: 0.7184,\tval_loss: 0.7966\n",
            "43:\t[0s / 0s],\t\ttrain_loss: 0.7178,\tval_loss: 0.7967\n",
            "44:\t[0s / 0s],\t\ttrain_loss: 0.7176,\tval_loss: 0.7965\n",
            "45:\t[0s / 0s],\t\ttrain_loss: 0.7149,\tval_loss: 0.7964\n",
            "46:\t[0s / 0s],\t\ttrain_loss: 0.7196,\tval_loss: 0.7961\n",
            "47:\t[0s / 0s],\t\ttrain_loss: 0.7141,\tval_loss: 0.7955\n",
            "48:\t[0s / 0s],\t\ttrain_loss: 0.7197,\tval_loss: 0.7959\n",
            "49:\t[0s / 0s],\t\ttrain_loss: 0.7161,\tval_loss: 0.7958\n",
            "50:\t[0s / 0s],\t\ttrain_loss: 0.7176,\tval_loss: 0.7959\n",
            "51:\t[0s / 0s],\t\ttrain_loss: 0.7136,\tval_loss: 0.7957\n",
            "52:\t[0s / 0s],\t\ttrain_loss: 0.7174,\tval_loss: 0.7953\n",
            "53:\t[0s / 0s],\t\ttrain_loss: 0.7180,\tval_loss: 0.7950\n",
            "54:\t[0s / 0s],\t\ttrain_loss: 0.7189,\tval_loss: 0.7945\n",
            "55:\t[0s / 0s],\t\ttrain_loss: 0.7129,\tval_loss: 0.7943\n",
            "56:\t[0s / 0s],\t\ttrain_loss: 0.7152,\tval_loss: 0.7943\n",
            "57:\t[0s / 0s],\t\ttrain_loss: 0.7150,\tval_loss: 0.7941\n",
            "58:\t[0s / 0s],\t\ttrain_loss: 0.7137,\tval_loss: 0.7938\n",
            "59:\t[0s / 1s],\t\ttrain_loss: 0.7192,\tval_loss: 0.7937\n",
            "60:\t[0s / 1s],\t\ttrain_loss: 0.7156,\tval_loss: 0.7933\n",
            "61:\t[0s / 1s],\t\ttrain_loss: 0.7160,\tval_loss: 0.7931\n",
            "62:\t[0s / 1s],\t\ttrain_loss: 0.7157,\tval_loss: 0.7929\n",
            "63:\t[0s / 1s],\t\ttrain_loss: 0.7165,\tval_loss: 0.7928\n",
            "64:\t[0s / 1s],\t\ttrain_loss: 0.7169,\tval_loss: 0.7928\n",
            "65:\t[0s / 1s],\t\ttrain_loss: 0.7151,\tval_loss: 0.7927\n",
            "66:\t[0s / 1s],\t\ttrain_loss: 0.7149,\tval_loss: 0.7926\n",
            "67:\t[0s / 1s],\t\ttrain_loss: 0.7153,\tval_loss: 0.7926\n",
            "68:\t[0s / 1s],\t\ttrain_loss: 0.7135,\tval_loss: 0.7925\n",
            "69:\t[0s / 1s],\t\ttrain_loss: 0.7169,\tval_loss: 0.7925\n",
            "70:\t[0s / 1s],\t\ttrain_loss: 0.7151,\tval_loss: 0.7921\n",
            "71:\t[0s / 1s],\t\ttrain_loss: 0.7121,\tval_loss: 0.7919\n",
            "72:\t[0s / 1s],\t\ttrain_loss: 0.7133,\tval_loss: 0.7916\n",
            "73:\t[0s / 1s],\t\ttrain_loss: 0.7134,\tval_loss: 0.7916\n",
            "74:\t[0s / 1s],\t\ttrain_loss: 0.7130,\tval_loss: 0.7917\n",
            "75:\t[0s / 1s],\t\ttrain_loss: 0.7104,\tval_loss: 0.7915\n",
            "76:\t[0s / 1s],\t\ttrain_loss: 0.7098,\tval_loss: 0.7913\n",
            "77:\t[0s / 1s],\t\ttrain_loss: 0.7132,\tval_loss: 0.7915\n",
            "78:\t[0s / 1s],\t\ttrain_loss: 0.7114,\tval_loss: 0.7913\n",
            "79:\t[0s / 1s],\t\ttrain_loss: 0.7132,\tval_loss: 0.7910\n",
            "80:\t[0s / 1s],\t\ttrain_loss: 0.7126,\tval_loss: 0.7908\n",
            "81:\t[0s / 1s],\t\ttrain_loss: 0.7101,\tval_loss: 0.7909\n",
            "82:\t[0s / 1s],\t\ttrain_loss: 0.7064,\tval_loss: 0.7907\n",
            "83:\t[0s / 1s],\t\ttrain_loss: 0.7147,\tval_loss: 0.7906\n",
            "84:\t[0s / 1s],\t\ttrain_loss: 0.7113,\tval_loss: 0.7904\n",
            "85:\t[0s / 1s],\t\ttrain_loss: 0.7126,\tval_loss: 0.7906\n",
            "86:\t[0s / 1s],\t\ttrain_loss: 0.7117,\tval_loss: 0.7904\n",
            "87:\t[0s / 1s],\t\ttrain_loss: 0.7111,\tval_loss: 0.7902\n",
            "88:\t[0s / 1s],\t\ttrain_loss: 0.7100,\tval_loss: 0.7900\n",
            "89:\t[0s / 1s],\t\ttrain_loss: 0.7102,\tval_loss: 0.7899\n",
            "90:\t[0s / 1s],\t\ttrain_loss: 0.7103,\tval_loss: 0.7895\n",
            "91:\t[0s / 1s],\t\ttrain_loss: 0.7111,\tval_loss: 0.7892\n",
            "92:\t[0s / 1s],\t\ttrain_loss: 0.7089,\tval_loss: 0.7892\n",
            "93:\t[0s / 1s],\t\ttrain_loss: 0.7112,\tval_loss: 0.7892\n",
            "94:\t[0s / 1s],\t\ttrain_loss: 0.7085,\tval_loss: 0.7890\n",
            "95:\t[0s / 1s],\t\ttrain_loss: 0.7095,\tval_loss: 0.7889\n",
            "96:\t[0s / 1s],\t\ttrain_loss: 0.7104,\tval_loss: 0.7889\n",
            "97:\t[0s / 1s],\t\ttrain_loss: 0.7123,\tval_loss: 0.7887\n",
            "98:\t[0s / 1s],\t\ttrain_loss: 0.7101,\tval_loss: 0.7882\n",
            "99:\t[0s / 1s],\t\ttrain_loss: 0.7066,\tval_loss: 0.7880\n",
            "100:\t[0s / 1s],\t\ttrain_loss: 0.7071,\tval_loss: 0.7880\n",
            "101:\t[0s / 1s],\t\ttrain_loss: 0.7094,\tval_loss: 0.7880\n",
            "102:\t[0s / 1s],\t\ttrain_loss: 0.7095,\tval_loss: 0.7878\n",
            "103:\t[0s / 1s],\t\ttrain_loss: 0.7081,\tval_loss: 0.7880\n",
            "104:\t[0s / 1s],\t\ttrain_loss: 0.7096,\tval_loss: 0.7876\n",
            "105:\t[0s / 1s],\t\ttrain_loss: 0.7092,\tval_loss: 0.7873\n",
            "106:\t[0s / 1s],\t\ttrain_loss: 0.7075,\tval_loss: 0.7872\n",
            "107:\t[0s / 1s],\t\ttrain_loss: 0.7098,\tval_loss: 0.7869\n",
            "108:\t[0s / 1s],\t\ttrain_loss: 0.7084,\tval_loss: 0.7868\n",
            "109:\t[0s / 1s],\t\ttrain_loss: 0.7081,\tval_loss: 0.7865\n",
            "110:\t[0s / 1s],\t\ttrain_loss: 0.7046,\tval_loss: 0.7864\n",
            "111:\t[0s / 1s],\t\ttrain_loss: 0.7077,\tval_loss: 0.7861\n",
            "112:\t[0s / 1s],\t\ttrain_loss: 0.7086,\tval_loss: 0.7859\n",
            "113:\t[0s / 1s],\t\ttrain_loss: 0.7083,\tval_loss: 0.7857\n",
            "114:\t[0s / 1s],\t\ttrain_loss: 0.7074,\tval_loss: 0.7858\n",
            "115:\t[0s / 1s],\t\ttrain_loss: 0.7056,\tval_loss: 0.7855\n",
            "116:\t[0s / 1s],\t\ttrain_loss: 0.7067,\tval_loss: 0.7857\n",
            "117:\t[0s / 2s],\t\ttrain_loss: 0.7047,\tval_loss: 0.7854\n",
            "118:\t[0s / 2s],\t\ttrain_loss: 0.7052,\tval_loss: 0.7855\n",
            "119:\t[0s / 2s],\t\ttrain_loss: 0.7079,\tval_loss: 0.7856\n",
            "120:\t[0s / 2s],\t\ttrain_loss: 0.7049,\tval_loss: 0.7853\n",
            "121:\t[0s / 2s],\t\ttrain_loss: 0.7065,\tval_loss: 0.7850\n",
            "122:\t[0s / 2s],\t\ttrain_loss: 0.7068,\tval_loss: 0.7846\n",
            "123:\t[0s / 2s],\t\ttrain_loss: 0.7049,\tval_loss: 0.7844\n",
            "124:\t[0s / 2s],\t\ttrain_loss: 0.7036,\tval_loss: 0.7843\n",
            "125:\t[0s / 2s],\t\ttrain_loss: 0.7053,\tval_loss: 0.7843\n",
            "126:\t[0s / 2s],\t\ttrain_loss: 0.7038,\tval_loss: 0.7842\n",
            "127:\t[0s / 2s],\t\ttrain_loss: 0.7029,\tval_loss: 0.7841\n",
            "128:\t[0s / 2s],\t\ttrain_loss: 0.7060,\tval_loss: 0.7839\n",
            "129:\t[0s / 2s],\t\ttrain_loss: 0.7075,\tval_loss: 0.7836\n",
            "130:\t[0s / 2s],\t\ttrain_loss: 0.7061,\tval_loss: 0.7836\n",
            "131:\t[0s / 2s],\t\ttrain_loss: 0.7021,\tval_loss: 0.7834\n",
            "132:\t[0s / 2s],\t\ttrain_loss: 0.7049,\tval_loss: 0.7833\n",
            "133:\t[0s / 2s],\t\ttrain_loss: 0.7050,\tval_loss: 0.7831\n",
            "134:\t[0s / 2s],\t\ttrain_loss: 0.7024,\tval_loss: 0.7829\n",
            "135:\t[0s / 2s],\t\ttrain_loss: 0.7043,\tval_loss: 0.7826\n",
            "136:\t[0s / 2s],\t\ttrain_loss: 0.7037,\tval_loss: 0.7828\n",
            "137:\t[0s / 2s],\t\ttrain_loss: 0.7028,\tval_loss: 0.7826\n",
            "138:\t[0s / 2s],\t\ttrain_loss: 0.7017,\tval_loss: 0.7824\n",
            "139:\t[0s / 2s],\t\ttrain_loss: 0.7018,\tval_loss: 0.7823\n",
            "140:\t[0s / 2s],\t\ttrain_loss: 0.7004,\tval_loss: 0.7823\n",
            "141:\t[0s / 2s],\t\ttrain_loss: 0.7054,\tval_loss: 0.7822\n",
            "142:\t[0s / 2s],\t\ttrain_loss: 0.7022,\tval_loss: 0.7821\n",
            "143:\t[0s / 2s],\t\ttrain_loss: 0.7022,\tval_loss: 0.7819\n",
            "144:\t[0s / 2s],\t\ttrain_loss: 0.7008,\tval_loss: 0.7818\n",
            "145:\t[0s / 2s],\t\ttrain_loss: 0.7018,\tval_loss: 0.7817\n",
            "146:\t[0s / 2s],\t\ttrain_loss: 0.7021,\tval_loss: 0.7817\n",
            "147:\t[0s / 2s],\t\ttrain_loss: 0.6997,\tval_loss: 0.7816\n",
            "148:\t[0s / 2s],\t\ttrain_loss: 0.7035,\tval_loss: 0.7813\n",
            "149:\t[0s / 2s],\t\ttrain_loss: 0.7005,\tval_loss: 0.7810\n",
            "150:\t[0s / 2s],\t\ttrain_loss: 0.6996,\tval_loss: 0.7811\n",
            "151:\t[0s / 2s],\t\ttrain_loss: 0.6993,\tval_loss: 0.7809\n",
            "152:\t[0s / 2s],\t\ttrain_loss: 0.7016,\tval_loss: 0.7811\n",
            "153:\t[0s / 2s],\t\ttrain_loss: 0.7002,\tval_loss: 0.7808\n",
            "154:\t[0s / 2s],\t\ttrain_loss: 0.6984,\tval_loss: 0.7808\n",
            "155:\t[0s / 2s],\t\ttrain_loss: 0.7014,\tval_loss: 0.7808\n",
            "156:\t[0s / 2s],\t\ttrain_loss: 0.6997,\tval_loss: 0.7807\n",
            "157:\t[0s / 2s],\t\ttrain_loss: 0.7000,\tval_loss: 0.7802\n",
            "158:\t[0s / 2s],\t\ttrain_loss: 0.6981,\tval_loss: 0.7799\n",
            "159:\t[0s / 2s],\t\ttrain_loss: 0.7003,\tval_loss: 0.7798\n",
            "160:\t[0s / 2s],\t\ttrain_loss: 0.7023,\tval_loss: 0.7798\n",
            "161:\t[0s / 2s],\t\ttrain_loss: 0.6996,\tval_loss: 0.7796\n",
            "162:\t[0s / 2s],\t\ttrain_loss: 0.6996,\tval_loss: 0.7794\n",
            "163:\t[0s / 2s],\t\ttrain_loss: 0.6991,\tval_loss: 0.7794\n",
            "164:\t[0s / 2s],\t\ttrain_loss: 0.7014,\tval_loss: 0.7793\n",
            "165:\t[0s / 2s],\t\ttrain_loss: 0.6980,\tval_loss: 0.7794\n",
            "166:\t[0s / 2s],\t\ttrain_loss: 0.6985,\tval_loss: 0.7789\n",
            "167:\t[0s / 2s],\t\ttrain_loss: 0.6984,\tval_loss: 0.7788\n",
            "168:\t[0s / 2s],\t\ttrain_loss: 0.6983,\tval_loss: 0.7785\n",
            "169:\t[0s / 2s],\t\ttrain_loss: 0.6968,\tval_loss: 0.7784\n",
            "170:\t[0s / 2s],\t\ttrain_loss: 0.6987,\tval_loss: 0.7784\n",
            "171:\t[0s / 2s],\t\ttrain_loss: 0.6997,\tval_loss: 0.7782\n",
            "172:\t[0s / 2s],\t\ttrain_loss: 0.6989,\tval_loss: 0.7781\n",
            "173:\t[0s / 2s],\t\ttrain_loss: 0.6968,\tval_loss: 0.7779\n",
            "174:\t[0s / 2s],\t\ttrain_loss: 0.6965,\tval_loss: 0.7777\n",
            "175:\t[0s / 2s],\t\ttrain_loss: 0.6983,\tval_loss: 0.7776\n",
            "176:\t[0s / 3s],\t\ttrain_loss: 0.6976,\tval_loss: 0.7773\n",
            "177:\t[0s / 3s],\t\ttrain_loss: 0.6985,\tval_loss: 0.7773\n",
            "178:\t[0s / 3s],\t\ttrain_loss: 0.7005,\tval_loss: 0.7773\n",
            "179:\t[0s / 3s],\t\ttrain_loss: 0.6971,\tval_loss: 0.7772\n",
            "180:\t[0s / 3s],\t\ttrain_loss: 0.6962,\tval_loss: 0.7772\n",
            "181:\t[0s / 3s],\t\ttrain_loss: 0.6950,\tval_loss: 0.7770\n",
            "182:\t[0s / 3s],\t\ttrain_loss: 0.6914,\tval_loss: 0.7769\n",
            "183:\t[0s / 3s],\t\ttrain_loss: 0.6960,\tval_loss: 0.7769\n",
            "184:\t[0s / 3s],\t\ttrain_loss: 0.6947,\tval_loss: 0.7768\n",
            "185:\t[0s / 3s],\t\ttrain_loss: 0.6940,\tval_loss: 0.7766\n",
            "186:\t[0s / 3s],\t\ttrain_loss: 0.6926,\tval_loss: 0.7765\n",
            "187:\t[0s / 3s],\t\ttrain_loss: 0.6930,\tval_loss: 0.7763\n",
            "188:\t[0s / 3s],\t\ttrain_loss: 0.6967,\tval_loss: 0.7763\n",
            "189:\t[0s / 3s],\t\ttrain_loss: 0.6974,\tval_loss: 0.7762\n",
            "190:\t[0s / 3s],\t\ttrain_loss: 0.6989,\tval_loss: 0.7760\n",
            "191:\t[0s / 3s],\t\ttrain_loss: 0.6938,\tval_loss: 0.7759\n",
            "192:\t[0s / 3s],\t\ttrain_loss: 0.6951,\tval_loss: 0.7759\n",
            "193:\t[0s / 3s],\t\ttrain_loss: 0.6961,\tval_loss: 0.7758\n",
            "194:\t[0s / 3s],\t\ttrain_loss: 0.6960,\tval_loss: 0.7759\n",
            "195:\t[0s / 3s],\t\ttrain_loss: 0.6931,\tval_loss: 0.7763\n",
            "196:\t[0s / 3s],\t\ttrain_loss: 0.6955,\tval_loss: 0.7762\n",
            "197:\t[0s / 3s],\t\ttrain_loss: 0.6933,\tval_loss: 0.7761\n",
            "198:\t[0s / 3s],\t\ttrain_loss: 0.6938,\tval_loss: 0.7761\n",
            "199:\t[0s / 3s],\t\ttrain_loss: 0.6921,\tval_loss: 0.7757\n",
            "200:\t[0s / 3s],\t\ttrain_loss: 0.6975,\tval_loss: 0.7754\n",
            "201:\t[0s / 3s],\t\ttrain_loss: 0.6944,\tval_loss: 0.7754\n",
            "202:\t[0s / 3s],\t\ttrain_loss: 0.6931,\tval_loss: 0.7752\n",
            "203:\t[0s / 3s],\t\ttrain_loss: 0.6914,\tval_loss: 0.7750\n",
            "204:\t[0s / 3s],\t\ttrain_loss: 0.6921,\tval_loss: 0.7749\n",
            "205:\t[0s / 3s],\t\ttrain_loss: 0.6951,\tval_loss: 0.7749\n",
            "206:\t[0s / 3s],\t\ttrain_loss: 0.6899,\tval_loss: 0.7748\n",
            "207:\t[0s / 3s],\t\ttrain_loss: 0.6958,\tval_loss: 0.7751\n",
            "208:\t[0s / 3s],\t\ttrain_loss: 0.6927,\tval_loss: 0.7747\n",
            "209:\t[0s / 3s],\t\ttrain_loss: 0.6938,\tval_loss: 0.7745\n",
            "210:\t[0s / 3s],\t\ttrain_loss: 0.6913,\tval_loss: 0.7744\n",
            "211:\t[0s / 3s],\t\ttrain_loss: 0.6928,\tval_loss: 0.7743\n",
            "212:\t[0s / 3s],\t\ttrain_loss: 0.6934,\tval_loss: 0.7743\n",
            "213:\t[0s / 3s],\t\ttrain_loss: 0.6926,\tval_loss: 0.7742\n",
            "214:\t[0s / 3s],\t\ttrain_loss: 0.6912,\tval_loss: 0.7739\n",
            "215:\t[0s / 3s],\t\ttrain_loss: 0.6951,\tval_loss: 0.7739\n",
            "216:\t[0s / 3s],\t\ttrain_loss: 0.6912,\tval_loss: 0.7739\n",
            "217:\t[0s / 3s],\t\ttrain_loss: 0.6912,\tval_loss: 0.7739\n",
            "218:\t[0s / 3s],\t\ttrain_loss: 0.6903,\tval_loss: 0.7737\n",
            "219:\t[0s / 3s],\t\ttrain_loss: 0.6914,\tval_loss: 0.7738\n",
            "220:\t[0s / 3s],\t\ttrain_loss: 0.6913,\tval_loss: 0.7738\n",
            "221:\t[0s / 3s],\t\ttrain_loss: 0.6905,\tval_loss: 0.7737\n",
            "222:\t[0s / 3s],\t\ttrain_loss: 0.6899,\tval_loss: 0.7736\n",
            "223:\t[0s / 3s],\t\ttrain_loss: 0.6929,\tval_loss: 0.7735\n",
            "224:\t[0s / 3s],\t\ttrain_loss: 0.6901,\tval_loss: 0.7735\n",
            "225:\t[0s / 3s],\t\ttrain_loss: 0.6907,\tval_loss: 0.7735\n",
            "226:\t[0s / 3s],\t\ttrain_loss: 0.6917,\tval_loss: 0.7735\n",
            "227:\t[0s / 3s],\t\ttrain_loss: 0.6910,\tval_loss: 0.7734\n",
            "228:\t[0s / 3s],\t\ttrain_loss: 0.6867,\tval_loss: 0.7732\n",
            "229:\t[0s / 3s],\t\ttrain_loss: 0.6907,\tval_loss: 0.7733\n",
            "230:\t[0s / 3s],\t\ttrain_loss: 0.6901,\tval_loss: 0.7731\n",
            "231:\t[0s / 3s],\t\ttrain_loss: 0.6865,\tval_loss: 0.7732\n",
            "232:\t[0s / 3s],\t\ttrain_loss: 0.6904,\tval_loss: 0.7733\n",
            "233:\t[0s / 3s],\t\ttrain_loss: 0.6928,\tval_loss: 0.7732\n",
            "234:\t[0s / 3s],\t\ttrain_loss: 0.6855,\tval_loss: 0.7730\n",
            "235:\t[0s / 3s],\t\ttrain_loss: 0.6886,\tval_loss: 0.7730\n",
            "236:\t[0s / 4s],\t\ttrain_loss: 0.6904,\tval_loss: 0.7729\n",
            "237:\t[0s / 4s],\t\ttrain_loss: 0.6868,\tval_loss: 0.7728\n",
            "238:\t[0s / 4s],\t\ttrain_loss: 0.6878,\tval_loss: 0.7727\n",
            "239:\t[0s / 4s],\t\ttrain_loss: 0.6879,\tval_loss: 0.7727\n",
            "240:\t[0s / 4s],\t\ttrain_loss: 0.6899,\tval_loss: 0.7726\n",
            "241:\t[0s / 4s],\t\ttrain_loss: 0.6869,\tval_loss: 0.7724\n",
            "242:\t[0s / 4s],\t\ttrain_loss: 0.6852,\tval_loss: 0.7724\n",
            "243:\t[0s / 4s],\t\ttrain_loss: 0.6870,\tval_loss: 0.7725\n",
            "244:\t[0s / 4s],\t\ttrain_loss: 0.6867,\tval_loss: 0.7724\n",
            "245:\t[0s / 4s],\t\ttrain_loss: 0.6887,\tval_loss: 0.7723\n",
            "246:\t[0s / 4s],\t\ttrain_loss: 0.6889,\tval_loss: 0.7720\n",
            "247:\t[0s / 4s],\t\ttrain_loss: 0.6868,\tval_loss: 0.7721\n",
            "248:\t[0s / 4s],\t\ttrain_loss: 0.6858,\tval_loss: 0.7723\n",
            "249:\t[0s / 4s],\t\ttrain_loss: 0.6882,\tval_loss: 0.7723\n",
            "250:\t[0s / 4s],\t\ttrain_loss: 0.6859,\tval_loss: 0.7721\n",
            "251:\t[0s / 4s],\t\ttrain_loss: 0.6892,\tval_loss: 0.7721\n",
            "252:\t[0s / 4s],\t\ttrain_loss: 0.6868,\tval_loss: 0.7719\n",
            "253:\t[0s / 4s],\t\ttrain_loss: 0.6848,\tval_loss: 0.7720\n",
            "254:\t[0s / 4s],\t\ttrain_loss: 0.6863,\tval_loss: 0.7718\n",
            "255:\t[0s / 4s],\t\ttrain_loss: 0.6879,\tval_loss: 0.7720\n",
            "256:\t[0s / 4s],\t\ttrain_loss: 0.6856,\tval_loss: 0.7722\n",
            "257:\t[0s / 4s],\t\ttrain_loss: 0.6862,\tval_loss: 0.7722\n",
            "258:\t[0s / 4s],\t\ttrain_loss: 0.6855,\tval_loss: 0.7721\n",
            "259:\t[0s / 4s],\t\ttrain_loss: 0.6876,\tval_loss: 0.7720\n",
            "260:\t[0s / 4s],\t\ttrain_loss: 0.6873,\tval_loss: 0.7718\n",
            "261:\t[0s / 4s],\t\ttrain_loss: 0.6854,\tval_loss: 0.7718\n",
            "262:\t[0s / 4s],\t\ttrain_loss: 0.6845,\tval_loss: 0.7716\n",
            "263:\t[0s / 4s],\t\ttrain_loss: 0.6841,\tval_loss: 0.7715\n",
            "264:\t[0s / 4s],\t\ttrain_loss: 0.6834,\tval_loss: 0.7715\n",
            "265:\t[0s / 4s],\t\ttrain_loss: 0.6856,\tval_loss: 0.7715\n",
            "266:\t[0s / 4s],\t\ttrain_loss: 0.6824,\tval_loss: 0.7713\n",
            "267:\t[0s / 4s],\t\ttrain_loss: 0.6839,\tval_loss: 0.7714\n",
            "268:\t[0s / 4s],\t\ttrain_loss: 0.6806,\tval_loss: 0.7712\n",
            "269:\t[0s / 4s],\t\ttrain_loss: 0.6832,\tval_loss: 0.7709\n",
            "270:\t[0s / 4s],\t\ttrain_loss: 0.6835,\tval_loss: 0.7708\n",
            "271:\t[0s / 4s],\t\ttrain_loss: 0.6830,\tval_loss: 0.7708\n",
            "272:\t[0s / 4s],\t\ttrain_loss: 0.6834,\tval_loss: 0.7707\n",
            "273:\t[0s / 4s],\t\ttrain_loss: 0.6819,\tval_loss: 0.7707\n",
            "274:\t[0s / 4s],\t\ttrain_loss: 0.6861,\tval_loss: 0.7707\n",
            "275:\t[0s / 4s],\t\ttrain_loss: 0.6851,\tval_loss: 0.7705\n",
            "276:\t[0s / 4s],\t\ttrain_loss: 0.6837,\tval_loss: 0.7706\n",
            "277:\t[0s / 4s],\t\ttrain_loss: 0.6807,\tval_loss: 0.7703\n",
            "278:\t[0s / 4s],\t\ttrain_loss: 0.6826,\tval_loss: 0.7704\n",
            "279:\t[0s / 4s],\t\ttrain_loss: 0.6846,\tval_loss: 0.7706\n",
            "280:\t[0s / 4s],\t\ttrain_loss: 0.6830,\tval_loss: 0.7707\n",
            "281:\t[0s / 4s],\t\ttrain_loss: 0.6827,\tval_loss: 0.7705\n",
            "282:\t[0s / 4s],\t\ttrain_loss: 0.6844,\tval_loss: 0.7705\n",
            "283:\t[0s / 4s],\t\ttrain_loss: 0.6825,\tval_loss: 0.7702\n",
            "284:\t[0s / 4s],\t\ttrain_loss: 0.6818,\tval_loss: 0.7703\n",
            "285:\t[0s / 4s],\t\ttrain_loss: 0.6827,\tval_loss: 0.7702\n",
            "286:\t[0s / 4s],\t\ttrain_loss: 0.6782,\tval_loss: 0.7702\n",
            "287:\t[0s / 4s],\t\ttrain_loss: 0.6837,\tval_loss: 0.7700\n",
            "288:\t[0s / 4s],\t\ttrain_loss: 0.6811,\tval_loss: 0.7700\n",
            "289:\t[0s / 4s],\t\ttrain_loss: 0.6794,\tval_loss: 0.7700\n",
            "290:\t[0s / 5s],\t\ttrain_loss: 0.6826,\tval_loss: 0.7697\n",
            "291:\t[0s / 5s],\t\ttrain_loss: 0.6793,\tval_loss: 0.7696\n",
            "292:\t[0s / 5s],\t\ttrain_loss: 0.6806,\tval_loss: 0.7697\n",
            "293:\t[0s / 5s],\t\ttrain_loss: 0.6804,\tval_loss: 0.7697\n",
            "294:\t[0s / 5s],\t\ttrain_loss: 0.6800,\tval_loss: 0.7697\n",
            "295:\t[0s / 5s],\t\ttrain_loss: 0.6803,\tval_loss: 0.7698\n",
            "296:\t[0s / 5s],\t\ttrain_loss: 0.6818,\tval_loss: 0.7697\n",
            "297:\t[0s / 5s],\t\ttrain_loss: 0.6804,\tval_loss: 0.7695\n",
            "298:\t[0s / 5s],\t\ttrain_loss: 0.6816,\tval_loss: 0.7697\n",
            "299:\t[0s / 5s],\t\ttrain_loss: 0.6809,\tval_loss: 0.7698\n",
            "300:\t[0s / 5s],\t\ttrain_loss: 0.6813,\tval_loss: 0.7697\n",
            "301:\t[0s / 5s],\t\ttrain_loss: 0.6795,\tval_loss: 0.7696\n",
            "302:\t[0s / 5s],\t\ttrain_loss: 0.6805,\tval_loss: 0.7695\n",
            "303:\t[0s / 5s],\t\ttrain_loss: 0.6801,\tval_loss: 0.7695\n",
            "304:\t[0s / 5s],\t\ttrain_loss: 0.6825,\tval_loss: 0.7696\n",
            "305:\t[0s / 5s],\t\ttrain_loss: 0.6784,\tval_loss: 0.7695\n",
            "306:\t[0s / 5s],\t\ttrain_loss: 0.6791,\tval_loss: 0.7693\n",
            "307:\t[0s / 5s],\t\ttrain_loss: 0.6795,\tval_loss: 0.7692\n",
            "308:\t[0s / 5s],\t\ttrain_loss: 0.6769,\tval_loss: 0.7691\n",
            "309:\t[0s / 5s],\t\ttrain_loss: 0.6771,\tval_loss: 0.7692\n",
            "310:\t[0s / 5s],\t\ttrain_loss: 0.6774,\tval_loss: 0.7691\n",
            "311:\t[0s / 5s],\t\ttrain_loss: 0.6796,\tval_loss: 0.7688\n",
            "312:\t[0s / 5s],\t\ttrain_loss: 0.6770,\tval_loss: 0.7687\n",
            "313:\t[0s / 5s],\t\ttrain_loss: 0.6771,\tval_loss: 0.7686\n",
            "314:\t[0s / 5s],\t\ttrain_loss: 0.6785,\tval_loss: 0.7686\n",
            "315:\t[0s / 5s],\t\ttrain_loss: 0.6773,\tval_loss: 0.7684\n",
            "316:\t[0s / 5s],\t\ttrain_loss: 0.6795,\tval_loss: 0.7684\n",
            "317:\t[0s / 5s],\t\ttrain_loss: 0.6810,\tval_loss: 0.7686\n",
            "318:\t[0s / 5s],\t\ttrain_loss: 0.6793,\tval_loss: 0.7685\n",
            "319:\t[0s / 5s],\t\ttrain_loss: 0.6763,\tval_loss: 0.7684\n",
            "320:\t[0s / 5s],\t\ttrain_loss: 0.6765,\tval_loss: 0.7684\n",
            "321:\t[0s / 5s],\t\ttrain_loss: 0.6762,\tval_loss: 0.7681\n",
            "322:\t[0s / 5s],\t\ttrain_loss: 0.6770,\tval_loss: 0.7681\n",
            "323:\t[0s / 5s],\t\ttrain_loss: 0.6768,\tval_loss: 0.7680\n",
            "324:\t[0s / 5s],\t\ttrain_loss: 0.6768,\tval_loss: 0.7678\n",
            "325:\t[0s / 5s],\t\ttrain_loss: 0.6761,\tval_loss: 0.7679\n",
            "326:\t[0s / 5s],\t\ttrain_loss: 0.6768,\tval_loss: 0.7679\n",
            "327:\t[0s / 5s],\t\ttrain_loss: 0.6772,\tval_loss: 0.7679\n",
            "328:\t[0s / 5s],\t\ttrain_loss: 0.6748,\tval_loss: 0.7680\n",
            "329:\t[0s / 5s],\t\ttrain_loss: 0.6728,\tval_loss: 0.7679\n",
            "330:\t[0s / 5s],\t\ttrain_loss: 0.6757,\tval_loss: 0.7678\n",
            "331:\t[0s / 5s],\t\ttrain_loss: 0.6747,\tval_loss: 0.7678\n",
            "332:\t[0s / 5s],\t\ttrain_loss: 0.6746,\tval_loss: 0.7679\n",
            "333:\t[0s / 5s],\t\ttrain_loss: 0.6746,\tval_loss: 0.7678\n",
            "334:\t[0s / 5s],\t\ttrain_loss: 0.6767,\tval_loss: 0.7676\n",
            "335:\t[0s / 5s],\t\ttrain_loss: 0.6765,\tval_loss: 0.7676\n",
            "336:\t[0s / 5s],\t\ttrain_loss: 0.6767,\tval_loss: 0.7674\n",
            "337:\t[0s / 5s],\t\ttrain_loss: 0.6718,\tval_loss: 0.7674\n",
            "338:\t[0s / 5s],\t\ttrain_loss: 0.6758,\tval_loss: 0.7673\n",
            "339:\t[0s / 5s],\t\ttrain_loss: 0.6738,\tval_loss: 0.7673\n",
            "340:\t[0s / 5s],\t\ttrain_loss: 0.6770,\tval_loss: 0.7674\n",
            "341:\t[0s / 5s],\t\ttrain_loss: 0.6748,\tval_loss: 0.7673\n",
            "342:\t[0s / 5s],\t\ttrain_loss: 0.6798,\tval_loss: 0.7672\n",
            "343:\t[0s / 5s],\t\ttrain_loss: 0.6732,\tval_loss: 0.7670\n",
            "344:\t[0s / 5s],\t\ttrain_loss: 0.6766,\tval_loss: 0.7673\n",
            "345:\t[0s / 5s],\t\ttrain_loss: 0.6757,\tval_loss: 0.7673\n",
            "346:\t[0s / 5s],\t\ttrain_loss: 0.6699,\tval_loss: 0.7672\n",
            "347:\t[0s / 5s],\t\ttrain_loss: 0.6721,\tval_loss: 0.7671\n",
            "348:\t[0s / 5s],\t\ttrain_loss: 0.6735,\tval_loss: 0.7669\n",
            "349:\t[0s / 5s],\t\ttrain_loss: 0.6746,\tval_loss: 0.7670\n",
            "350:\t[0s / 5s],\t\ttrain_loss: 0.6750,\tval_loss: 0.7669\n",
            "351:\t[0s / 5s],\t\ttrain_loss: 0.6711,\tval_loss: 0.7668\n",
            "352:\t[0s / 5s],\t\ttrain_loss: 0.6731,\tval_loss: 0.7666\n",
            "353:\t[0s / 5s],\t\ttrain_loss: 0.6731,\tval_loss: 0.7664\n",
            "354:\t[0s / 6s],\t\ttrain_loss: 0.6723,\tval_loss: 0.7667\n",
            "355:\t[0s / 6s],\t\ttrain_loss: 0.6724,\tval_loss: 0.7665\n",
            "356:\t[0s / 6s],\t\ttrain_loss: 0.6718,\tval_loss: 0.7664\n",
            "357:\t[0s / 6s],\t\ttrain_loss: 0.6755,\tval_loss: 0.7664\n",
            "358:\t[0s / 6s],\t\ttrain_loss: 0.6742,\tval_loss: 0.7662\n",
            "359:\t[0s / 6s],\t\ttrain_loss: 0.6741,\tval_loss: 0.7663\n",
            "360:\t[0s / 6s],\t\ttrain_loss: 0.6703,\tval_loss: 0.7662\n",
            "361:\t[0s / 6s],\t\ttrain_loss: 0.6708,\tval_loss: 0.7663\n",
            "362:\t[0s / 6s],\t\ttrain_loss: 0.6675,\tval_loss: 0.7661\n",
            "363:\t[0s / 6s],\t\ttrain_loss: 0.6712,\tval_loss: 0.7663\n",
            "364:\t[0s / 6s],\t\ttrain_loss: 0.6697,\tval_loss: 0.7662\n",
            "365:\t[0s / 6s],\t\ttrain_loss: 0.6721,\tval_loss: 0.7661\n",
            "366:\t[0s / 6s],\t\ttrain_loss: 0.6712,\tval_loss: 0.7661\n",
            "367:\t[0s / 6s],\t\ttrain_loss: 0.6702,\tval_loss: 0.7664\n",
            "368:\t[0s / 6s],\t\ttrain_loss: 0.6695,\tval_loss: 0.7661\n",
            "369:\t[0s / 6s],\t\ttrain_loss: 0.6701,\tval_loss: 0.7660\n",
            "370:\t[0s / 6s],\t\ttrain_loss: 0.6710,\tval_loss: 0.7661\n",
            "371:\t[0s / 6s],\t\ttrain_loss: 0.6720,\tval_loss: 0.7661\n",
            "372:\t[0s / 6s],\t\ttrain_loss: 0.6708,\tval_loss: 0.7661\n",
            "373:\t[0s / 6s],\t\ttrain_loss: 0.6704,\tval_loss: 0.7658\n",
            "374:\t[0s / 6s],\t\ttrain_loss: 0.6707,\tval_loss: 0.7657\n",
            "375:\t[0s / 6s],\t\ttrain_loss: 0.6692,\tval_loss: 0.7657\n",
            "376:\t[0s / 6s],\t\ttrain_loss: 0.6699,\tval_loss: 0.7656\n",
            "377:\t[0s / 6s],\t\ttrain_loss: 0.6692,\tval_loss: 0.7655\n",
            "378:\t[0s / 6s],\t\ttrain_loss: 0.6710,\tval_loss: 0.7656\n",
            "379:\t[0s / 6s],\t\ttrain_loss: 0.6688,\tval_loss: 0.7655\n",
            "380:\t[0s / 6s],\t\ttrain_loss: 0.6703,\tval_loss: 0.7654\n",
            "381:\t[0s / 6s],\t\ttrain_loss: 0.6681,\tval_loss: 0.7650\n",
            "382:\t[0s / 6s],\t\ttrain_loss: 0.6713,\tval_loss: 0.7651\n",
            "383:\t[0s / 6s],\t\ttrain_loss: 0.6723,\tval_loss: 0.7649\n",
            "384:\t[0s / 6s],\t\ttrain_loss: 0.6684,\tval_loss: 0.7648\n",
            "385:\t[0s / 6s],\t\ttrain_loss: 0.6682,\tval_loss: 0.7646\n",
            "386:\t[0s / 6s],\t\ttrain_loss: 0.6680,\tval_loss: 0.7646\n",
            "387:\t[0s / 6s],\t\ttrain_loss: 0.6696,\tval_loss: 0.7647\n",
            "388:\t[0s / 6s],\t\ttrain_loss: 0.6672,\tval_loss: 0.7646\n",
            "389:\t[0s / 6s],\t\ttrain_loss: 0.6666,\tval_loss: 0.7646\n",
            "390:\t[0s / 6s],\t\ttrain_loss: 0.6696,\tval_loss: 0.7646\n",
            "391:\t[0s / 6s],\t\ttrain_loss: 0.6684,\tval_loss: 0.7646\n",
            "392:\t[0s / 6s],\t\ttrain_loss: 0.6679,\tval_loss: 0.7645\n",
            "393:\t[0s / 6s],\t\ttrain_loss: 0.6704,\tval_loss: 0.7645\n",
            "394:\t[0s / 6s],\t\ttrain_loss: 0.6672,\tval_loss: 0.7645\n",
            "395:\t[0s / 6s],\t\ttrain_loss: 0.6655,\tval_loss: 0.7647\n",
            "396:\t[0s / 6s],\t\ttrain_loss: 0.6681,\tval_loss: 0.7645\n",
            "397:\t[0s / 6s],\t\ttrain_loss: 0.6645,\tval_loss: 0.7646\n",
            "398:\t[0s / 6s],\t\ttrain_loss: 0.6648,\tval_loss: 0.7643\n",
            "399:\t[0s / 6s],\t\ttrain_loss: 0.6651,\tval_loss: 0.7642\n",
            "400:\t[0s / 6s],\t\ttrain_loss: 0.6672,\tval_loss: 0.7641\n",
            "401:\t[0s / 6s],\t\ttrain_loss: 0.6658,\tval_loss: 0.7639\n",
            "402:\t[0s / 6s],\t\ttrain_loss: 0.6670,\tval_loss: 0.7638\n",
            "403:\t[0s / 6s],\t\ttrain_loss: 0.6646,\tval_loss: 0.7637\n",
            "404:\t[0s / 6s],\t\ttrain_loss: 0.6662,\tval_loss: 0.7636\n",
            "405:\t[0s / 6s],\t\ttrain_loss: 0.6645,\tval_loss: 0.7636\n",
            "406:\t[0s / 6s],\t\ttrain_loss: 0.6645,\tval_loss: 0.7636\n",
            "407:\t[0s / 6s],\t\ttrain_loss: 0.6665,\tval_loss: 0.7635\n",
            "408:\t[0s / 6s],\t\ttrain_loss: 0.6637,\tval_loss: 0.7634\n",
            "409:\t[0s / 6s],\t\ttrain_loss: 0.6639,\tval_loss: 0.7633\n",
            "410:\t[0s / 6s],\t\ttrain_loss: 0.6636,\tval_loss: 0.7633\n",
            "411:\t[0s / 6s],\t\ttrain_loss: 0.6602,\tval_loss: 0.7632\n",
            "412:\t[0s / 6s],\t\ttrain_loss: 0.6608,\tval_loss: 0.7632\n",
            "413:\t[0s / 6s],\t\ttrain_loss: 0.6653,\tval_loss: 0.7631\n",
            "414:\t[0s / 6s],\t\ttrain_loss: 0.6636,\tval_loss: 0.7631\n",
            "415:\t[0s / 6s],\t\ttrain_loss: 0.6636,\tval_loss: 0.7630\n",
            "416:\t[0s / 7s],\t\ttrain_loss: 0.6632,\tval_loss: 0.7632\n",
            "417:\t[0s / 7s],\t\ttrain_loss: 0.6619,\tval_loss: 0.7631\n",
            "418:\t[0s / 7s],\t\ttrain_loss: 0.6614,\tval_loss: 0.7630\n",
            "419:\t[0s / 7s],\t\ttrain_loss: 0.6622,\tval_loss: 0.7630\n",
            "420:\t[0s / 7s],\t\ttrain_loss: 0.6661,\tval_loss: 0.7629\n",
            "421:\t[0s / 7s],\t\ttrain_loss: 0.6627,\tval_loss: 0.7633\n",
            "422:\t[0s / 7s],\t\ttrain_loss: 0.6646,\tval_loss: 0.7632\n",
            "423:\t[0s / 7s],\t\ttrain_loss: 0.6628,\tval_loss: 0.7631\n",
            "424:\t[0s / 7s],\t\ttrain_loss: 0.6611,\tval_loss: 0.7632\n",
            "425:\t[0s / 7s],\t\ttrain_loss: 0.6630,\tval_loss: 0.7630\n",
            "426:\t[0s / 7s],\t\ttrain_loss: 0.6601,\tval_loss: 0.7631\n",
            "427:\t[0s / 7s],\t\ttrain_loss: 0.6625,\tval_loss: 0.7630\n",
            "428:\t[0s / 7s],\t\ttrain_loss: 0.6592,\tval_loss: 0.7631\n",
            "429:\t[0s / 7s],\t\ttrain_loss: 0.6637,\tval_loss: 0.7628\n",
            "430:\t[0s / 7s],\t\ttrain_loss: 0.6647,\tval_loss: 0.7627\n",
            "431:\t[0s / 7s],\t\ttrain_loss: 0.6612,\tval_loss: 0.7627\n",
            "432:\t[0s / 7s],\t\ttrain_loss: 0.6618,\tval_loss: 0.7623\n",
            "433:\t[0s / 7s],\t\ttrain_loss: 0.6624,\tval_loss: 0.7625\n",
            "434:\t[0s / 7s],\t\ttrain_loss: 0.6582,\tval_loss: 0.7623\n",
            "435:\t[0s / 7s],\t\ttrain_loss: 0.6584,\tval_loss: 0.7624\n",
            "436:\t[0s / 7s],\t\ttrain_loss: 0.6590,\tval_loss: 0.7622\n",
            "437:\t[0s / 7s],\t\ttrain_loss: 0.6611,\tval_loss: 0.7622\n",
            "438:\t[0s / 7s],\t\ttrain_loss: 0.6641,\tval_loss: 0.7622\n",
            "439:\t[0s / 7s],\t\ttrain_loss: 0.6577,\tval_loss: 0.7622\n",
            "440:\t[0s / 7s],\t\ttrain_loss: 0.6618,\tval_loss: 0.7621\n",
            "441:\t[0s / 7s],\t\ttrain_loss: 0.6582,\tval_loss: 0.7621\n",
            "442:\t[0s / 7s],\t\ttrain_loss: 0.6591,\tval_loss: 0.7620\n",
            "443:\t[0s / 7s],\t\ttrain_loss: 0.6610,\tval_loss: 0.7620\n",
            "444:\t[0s / 7s],\t\ttrain_loss: 0.6622,\tval_loss: 0.7617\n",
            "445:\t[0s / 7s],\t\ttrain_loss: 0.6592,\tval_loss: 0.7617\n",
            "446:\t[0s / 7s],\t\ttrain_loss: 0.6602,\tval_loss: 0.7619\n",
            "447:\t[0s / 7s],\t\ttrain_loss: 0.6541,\tval_loss: 0.7617\n",
            "448:\t[0s / 7s],\t\ttrain_loss: 0.6573,\tval_loss: 0.7616\n",
            "449:\t[0s / 7s],\t\ttrain_loss: 0.6606,\tval_loss: 0.7619\n",
            "450:\t[0s / 7s],\t\ttrain_loss: 0.6576,\tval_loss: 0.7618\n",
            "451:\t[0s / 7s],\t\ttrain_loss: 0.6570,\tval_loss: 0.7616\n",
            "452:\t[0s / 7s],\t\ttrain_loss: 0.6571,\tval_loss: 0.7617\n",
            "453:\t[0s / 7s],\t\ttrain_loss: 0.6589,\tval_loss: 0.7616\n",
            "454:\t[0s / 7s],\t\ttrain_loss: 0.6632,\tval_loss: 0.7616\n",
            "455:\t[0s / 7s],\t\ttrain_loss: 0.6580,\tval_loss: 0.7616\n",
            "456:\t[0s / 7s],\t\ttrain_loss: 0.6571,\tval_loss: 0.7617\n",
            "457:\t[0s / 7s],\t\ttrain_loss: 0.6586,\tval_loss: 0.7615\n",
            "458:\t[0s / 7s],\t\ttrain_loss: 0.6574,\tval_loss: 0.7613\n",
            "459:\t[0s / 7s],\t\ttrain_loss: 0.6570,\tval_loss: 0.7612\n",
            "460:\t[0s / 7s],\t\ttrain_loss: 0.6588,\tval_loss: 0.7613\n",
            "461:\t[0s / 7s],\t\ttrain_loss: 0.6560,\tval_loss: 0.7614\n",
            "462:\t[0s / 7s],\t\ttrain_loss: 0.6552,\tval_loss: 0.7614\n",
            "463:\t[0s / 7s],\t\ttrain_loss: 0.6606,\tval_loss: 0.7611\n",
            "464:\t[0s / 7s],\t\ttrain_loss: 0.6584,\tval_loss: 0.7614\n",
            "465:\t[0s / 7s],\t\ttrain_loss: 0.6570,\tval_loss: 0.7611\n",
            "466:\t[0s / 7s],\t\ttrain_loss: 0.6563,\tval_loss: 0.7611\n",
            "467:\t[0s / 7s],\t\ttrain_loss: 0.6559,\tval_loss: 0.7616\n",
            "468:\t[0s / 7s],\t\ttrain_loss: 0.6557,\tval_loss: 0.7612\n",
            "469:\t[0s / 8s],\t\ttrain_loss: 0.6546,\tval_loss: 0.7611\n",
            "470:\t[0s / 8s],\t\ttrain_loss: 0.6580,\tval_loss: 0.7610\n",
            "471:\t[0s / 8s],\t\ttrain_loss: 0.6565,\tval_loss: 0.7609\n",
            "472:\t[0s / 8s],\t\ttrain_loss: 0.6600,\tval_loss: 0.7607\n",
            "473:\t[0s / 8s],\t\ttrain_loss: 0.6559,\tval_loss: 0.7606\n",
            "474:\t[0s / 8s],\t\ttrain_loss: 0.6559,\tval_loss: 0.7605\n",
            "475:\t[0s / 8s],\t\ttrain_loss: 0.6555,\tval_loss: 0.7603\n",
            "476:\t[0s / 8s],\t\ttrain_loss: 0.6543,\tval_loss: 0.7604\n",
            "477:\t[0s / 8s],\t\ttrain_loss: 0.6580,\tval_loss: 0.7604\n",
            "478:\t[0s / 8s],\t\ttrain_loss: 0.6575,\tval_loss: 0.7604\n",
            "479:\t[0s / 8s],\t\ttrain_loss: 0.6590,\tval_loss: 0.7605\n",
            "480:\t[0s / 8s],\t\ttrain_loss: 0.6541,\tval_loss: 0.7604\n",
            "481:\t[0s / 8s],\t\ttrain_loss: 0.6540,\tval_loss: 0.7607\n",
            "482:\t[0s / 8s],\t\ttrain_loss: 0.6545,\tval_loss: 0.7608\n",
            "483:\t[0s / 8s],\t\ttrain_loss: 0.6534,\tval_loss: 0.7607\n",
            "484:\t[0s / 8s],\t\ttrain_loss: 0.6547,\tval_loss: 0.7606\n",
            "485:\t[0s / 8s],\t\ttrain_loss: 0.6510,\tval_loss: 0.7604\n",
            "486:\t[0s / 8s],\t\ttrain_loss: 0.6560,\tval_loss: 0.7606\n",
            "487:\t[0s / 8s],\t\ttrain_loss: 0.6534,\tval_loss: 0.7605\n",
            "488:\t[0s / 8s],\t\ttrain_loss: 0.6551,\tval_loss: 0.7603\n",
            "489:\t[0s / 8s],\t\ttrain_loss: 0.6526,\tval_loss: 0.7604\n",
            "490:\t[0s / 8s],\t\ttrain_loss: 0.6526,\tval_loss: 0.7602\n",
            "491:\t[0s / 8s],\t\ttrain_loss: 0.6530,\tval_loss: 0.7600\n",
            "492:\t[0s / 8s],\t\ttrain_loss: 0.6554,\tval_loss: 0.7600\n",
            "493:\t[0s / 8s],\t\ttrain_loss: 0.6497,\tval_loss: 0.7599\n",
            "494:\t[0s / 8s],\t\ttrain_loss: 0.6525,\tval_loss: 0.7598\n",
            "495:\t[0s / 8s],\t\ttrain_loss: 0.6521,\tval_loss: 0.7597\n",
            "496:\t[0s / 8s],\t\ttrain_loss: 0.6531,\tval_loss: 0.7596\n",
            "497:\t[0s / 8s],\t\ttrain_loss: 0.6528,\tval_loss: 0.7597\n",
            "498:\t[0s / 8s],\t\ttrain_loss: 0.6531,\tval_loss: 0.7597\n",
            "499:\t[0s / 8s],\t\ttrain_loss: 0.6496,\tval_loss: 0.7597\n",
            "500:\t[0s / 8s],\t\ttrain_loss: 0.6504,\tval_loss: 0.7597\n",
            "501:\t[0s / 8s],\t\ttrain_loss: 0.6515,\tval_loss: 0.7595\n",
            "502:\t[0s / 8s],\t\ttrain_loss: 0.6485,\tval_loss: 0.7592\n",
            "503:\t[0s / 8s],\t\ttrain_loss: 0.6511,\tval_loss: 0.7593\n",
            "504:\t[0s / 8s],\t\ttrain_loss: 0.6514,\tval_loss: 0.7594\n",
            "505:\t[0s / 8s],\t\ttrain_loss: 0.6525,\tval_loss: 0.7595\n",
            "506:\t[0s / 8s],\t\ttrain_loss: 0.6502,\tval_loss: 0.7595\n",
            "507:\t[0s / 8s],\t\ttrain_loss: 0.6531,\tval_loss: 0.7601\n",
            "508:\t[0s / 8s],\t\ttrain_loss: 0.6523,\tval_loss: 0.7600\n",
            "509:\t[0s / 8s],\t\ttrain_loss: 0.6495,\tval_loss: 0.7598\n",
            "510:\t[0s / 8s],\t\ttrain_loss: 0.6488,\tval_loss: 0.7595\n",
            "511:\t[0s / 8s],\t\ttrain_loss: 0.6510,\tval_loss: 0.7596\n",
            "512:\t[0s / 8s],\t\ttrain_loss: 0.6490,\tval_loss: 0.7594\n",
            "513:\t[0s / 8s],\t\ttrain_loss: 0.6499,\tval_loss: 0.7592\n",
            "514:\t[0s / 8s],\t\ttrain_loss: 0.6506,\tval_loss: 0.7591\n",
            "515:\t[0s / 8s],\t\ttrain_loss: 0.6498,\tval_loss: 0.7593\n",
            "516:\t[0s / 8s],\t\ttrain_loss: 0.6508,\tval_loss: 0.7592\n",
            "517:\t[0s / 8s],\t\ttrain_loss: 0.6514,\tval_loss: 0.7589\n",
            "518:\t[0s / 8s],\t\ttrain_loss: 0.6486,\tval_loss: 0.7589\n",
            "519:\t[0s / 8s],\t\ttrain_loss: 0.6483,\tval_loss: 0.7589\n",
            "520:\t[0s / 8s],\t\ttrain_loss: 0.6496,\tval_loss: 0.7588\n",
            "521:\t[0s / 8s],\t\ttrain_loss: 0.6493,\tval_loss: 0.7587\n",
            "522:\t[0s / 8s],\t\ttrain_loss: 0.6476,\tval_loss: 0.7587\n",
            "523:\t[0s / 8s],\t\ttrain_loss: 0.6493,\tval_loss: 0.7587\n",
            "524:\t[0s / 8s],\t\ttrain_loss: 0.6496,\tval_loss: 0.7588\n",
            "525:\t[0s / 8s],\t\ttrain_loss: 0.6485,\tval_loss: 0.7591\n",
            "526:\t[0s / 8s],\t\ttrain_loss: 0.6476,\tval_loss: 0.7589\n",
            "527:\t[0s / 8s],\t\ttrain_loss: 0.6481,\tval_loss: 0.7588\n",
            "528:\t[0s / 8s],\t\ttrain_loss: 0.6484,\tval_loss: 0.7587\n",
            "529:\t[0s / 8s],\t\ttrain_loss: 0.6457,\tval_loss: 0.7589\n",
            "530:\t[0s / 8s],\t\ttrain_loss: 0.6462,\tval_loss: 0.7590\n",
            "531:\t[0s / 8s],\t\ttrain_loss: 0.6486,\tval_loss: 0.7589\n",
            "532:\t[0s / 9s],\t\ttrain_loss: 0.6474,\tval_loss: 0.7587\n",
            "533:\t[0s / 9s],\t\ttrain_loss: 0.6449,\tval_loss: 0.7588\n",
            "534:\t[0s / 9s],\t\ttrain_loss: 0.6491,\tval_loss: 0.7587\n",
            "535:\t[0s / 9s],\t\ttrain_loss: 0.6444,\tval_loss: 0.7585\n",
            "536:\t[0s / 9s],\t\ttrain_loss: 0.6500,\tval_loss: 0.7581\n",
            "537:\t[0s / 9s],\t\ttrain_loss: 0.6476,\tval_loss: 0.7580\n",
            "538:\t[0s / 9s],\t\ttrain_loss: 0.6478,\tval_loss: 0.7579\n",
            "539:\t[0s / 9s],\t\ttrain_loss: 0.6461,\tval_loss: 0.7580\n",
            "540:\t[0s / 9s],\t\ttrain_loss: 0.6479,\tval_loss: 0.7580\n",
            "541:\t[0s / 9s],\t\ttrain_loss: 0.6477,\tval_loss: 0.7579\n",
            "542:\t[0s / 9s],\t\ttrain_loss: 0.6461,\tval_loss: 0.7581\n",
            "543:\t[0s / 9s],\t\ttrain_loss: 0.6459,\tval_loss: 0.7582\n",
            "544:\t[0s / 9s],\t\ttrain_loss: 0.6461,\tval_loss: 0.7580\n",
            "545:\t[0s / 9s],\t\ttrain_loss: 0.6476,\tval_loss: 0.7580\n",
            "546:\t[0s / 9s],\t\ttrain_loss: 0.6448,\tval_loss: 0.7579\n",
            "547:\t[0s / 9s],\t\ttrain_loss: 0.6439,\tval_loss: 0.7579\n",
            "548:\t[0s / 9s],\t\ttrain_loss: 0.6475,\tval_loss: 0.7578\n",
            "549:\t[0s / 9s],\t\ttrain_loss: 0.6478,\tval_loss: 0.7578\n",
            "550:\t[0s / 9s],\t\ttrain_loss: 0.6438,\tval_loss: 0.7578\n",
            "551:\t[0s / 9s],\t\ttrain_loss: 0.6442,\tval_loss: 0.7575\n",
            "552:\t[0s / 9s],\t\ttrain_loss: 0.6447,\tval_loss: 0.7574\n",
            "553:\t[0s / 9s],\t\ttrain_loss: 0.6440,\tval_loss: 0.7574\n",
            "554:\t[0s / 9s],\t\ttrain_loss: 0.6432,\tval_loss: 0.7574\n",
            "555:\t[0s / 9s],\t\ttrain_loss: 0.6437,\tval_loss: 0.7575\n",
            "556:\t[0s / 9s],\t\ttrain_loss: 0.6451,\tval_loss: 0.7573\n",
            "557:\t[0s / 9s],\t\ttrain_loss: 0.6453,\tval_loss: 0.7573\n",
            "558:\t[0s / 9s],\t\ttrain_loss: 0.6431,\tval_loss: 0.7574\n",
            "559:\t[0s / 9s],\t\ttrain_loss: 0.6442,\tval_loss: 0.7576\n",
            "560:\t[0s / 9s],\t\ttrain_loss: 0.6442,\tval_loss: 0.7575\n",
            "561:\t[0s / 9s],\t\ttrain_loss: 0.6435,\tval_loss: 0.7577\n",
            "562:\t[0s / 9s],\t\ttrain_loss: 0.6429,\tval_loss: 0.7575\n",
            "563:\t[0s / 9s],\t\ttrain_loss: 0.6440,\tval_loss: 0.7574\n",
            "564:\t[0s / 9s],\t\ttrain_loss: 0.6401,\tval_loss: 0.7572\n",
            "565:\t[0s / 9s],\t\ttrain_loss: 0.6470,\tval_loss: 0.7572\n",
            "566:\t[0s / 9s],\t\ttrain_loss: 0.6430,\tval_loss: 0.7573\n",
            "567:\t[0s / 9s],\t\ttrain_loss: 0.6432,\tval_loss: 0.7570\n",
            "568:\t[0s / 9s],\t\ttrain_loss: 0.6410,\tval_loss: 0.7569\n",
            "569:\t[0s / 9s],\t\ttrain_loss: 0.6414,\tval_loss: 0.7565\n",
            "570:\t[0s / 9s],\t\ttrain_loss: 0.6454,\tval_loss: 0.7564\n",
            "571:\t[0s / 9s],\t\ttrain_loss: 0.6412,\tval_loss: 0.7566\n",
            "572:\t[0s / 9s],\t\ttrain_loss: 0.6416,\tval_loss: 0.7566\n",
            "573:\t[0s / 9s],\t\ttrain_loss: 0.6429,\tval_loss: 0.7565\n",
            "574:\t[0s / 9s],\t\ttrain_loss: 0.6407,\tval_loss: 0.7564\n",
            "575:\t[0s / 9s],\t\ttrain_loss: 0.6426,\tval_loss: 0.7563\n",
            "576:\t[0s / 9s],\t\ttrain_loss: 0.6390,\tval_loss: 0.7561\n",
            "577:\t[0s / 9s],\t\ttrain_loss: 0.6405,\tval_loss: 0.7559\n",
            "578:\t[0s / 9s],\t\ttrain_loss: 0.6434,\tval_loss: 0.7561\n",
            "579:\t[0s / 9s],\t\ttrain_loss: 0.6442,\tval_loss: 0.7562\n",
            "580:\t[0s / 9s],\t\ttrain_loss: 0.6419,\tval_loss: 0.7563\n",
            "581:\t[0s / 9s],\t\ttrain_loss: 0.6419,\tval_loss: 0.7564\n",
            "582:\t[0s / 9s],\t\ttrain_loss: 0.6395,\tval_loss: 0.7562\n",
            "583:\t[0s / 9s],\t\ttrain_loss: 0.6368,\tval_loss: 0.7560\n",
            "584:\t[0s / 9s],\t\ttrain_loss: 0.6392,\tval_loss: 0.7558\n",
            "585:\t[0s / 9s],\t\ttrain_loss: 0.6401,\tval_loss: 0.7558\n",
            "586:\t[0s / 9s],\t\ttrain_loss: 0.6415,\tval_loss: 0.7559\n",
            "587:\t[0s / 9s],\t\ttrain_loss: 0.6416,\tval_loss: 0.7559\n",
            "588:\t[0s / 9s],\t\ttrain_loss: 0.6435,\tval_loss: 0.7556\n",
            "589:\t[0s / 9s],\t\ttrain_loss: 0.6408,\tval_loss: 0.7553\n",
            "590:\t[0s / 9s],\t\ttrain_loss: 0.6414,\tval_loss: 0.7553\n",
            "591:\t[0s / 9s],\t\ttrain_loss: 0.6417,\tval_loss: 0.7554\n",
            "592:\t[0s / 9s],\t\ttrain_loss: 0.6395,\tval_loss: 0.7553\n",
            "593:\t[0s / 9s],\t\ttrain_loss: 0.6412,\tval_loss: 0.7554\n",
            "594:\t[0s / 9s],\t\ttrain_loss: 0.6339,\tval_loss: 0.7554\n",
            "595:\t[0s / 9s],\t\ttrain_loss: 0.6419,\tval_loss: 0.7554\n",
            "596:\t[0s / 9s],\t\ttrain_loss: 0.6379,\tval_loss: 0.7555\n",
            "597:\t[0s / 9s],\t\ttrain_loss: 0.6404,\tval_loss: 0.7553\n",
            "598:\t[0s / 9s],\t\ttrain_loss: 0.6379,\tval_loss: 0.7555\n",
            "599:\t[0s / 10s],\t\ttrain_loss: 0.6333,\tval_loss: 0.7553\n",
            "600:\t[0s / 10s],\t\ttrain_loss: 0.6398,\tval_loss: 0.7554\n",
            "601:\t[0s / 10s],\t\ttrain_loss: 0.6359,\tval_loss: 0.7553\n",
            "602:\t[0s / 10s],\t\ttrain_loss: 0.6398,\tval_loss: 0.7553\n",
            "603:\t[0s / 10s],\t\ttrain_loss: 0.6378,\tval_loss: 0.7550\n",
            "604:\t[0s / 10s],\t\ttrain_loss: 0.6395,\tval_loss: 0.7551\n",
            "605:\t[0s / 10s],\t\ttrain_loss: 0.6407,\tval_loss: 0.7550\n",
            "606:\t[0s / 10s],\t\ttrain_loss: 0.6405,\tval_loss: 0.7550\n",
            "607:\t[0s / 10s],\t\ttrain_loss: 0.6353,\tval_loss: 0.7551\n",
            "608:\t[0s / 10s],\t\ttrain_loss: 0.6359,\tval_loss: 0.7549\n",
            "609:\t[0s / 10s],\t\ttrain_loss: 0.6351,\tval_loss: 0.7551\n",
            "610:\t[0s / 10s],\t\ttrain_loss: 0.6360,\tval_loss: 0.7550\n",
            "611:\t[0s / 10s],\t\ttrain_loss: 0.6347,\tval_loss: 0.7549\n",
            "612:\t[0s / 10s],\t\ttrain_loss: 0.6363,\tval_loss: 0.7549\n",
            "613:\t[0s / 10s],\t\ttrain_loss: 0.6349,\tval_loss: 0.7552\n",
            "614:\t[0s / 10s],\t\ttrain_loss: 0.6359,\tval_loss: 0.7552\n",
            "615:\t[0s / 10s],\t\ttrain_loss: 0.6379,\tval_loss: 0.7549\n",
            "616:\t[0s / 10s],\t\ttrain_loss: 0.6376,\tval_loss: 0.7548\n",
            "617:\t[0s / 10s],\t\ttrain_loss: 0.6306,\tval_loss: 0.7545\n",
            "618:\t[0s / 10s],\t\ttrain_loss: 0.6359,\tval_loss: 0.7547\n",
            "619:\t[0s / 10s],\t\ttrain_loss: 0.6321,\tval_loss: 0.7546\n",
            "620:\t[0s / 10s],\t\ttrain_loss: 0.6369,\tval_loss: 0.7546\n",
            "621:\t[0s / 10s],\t\ttrain_loss: 0.6373,\tval_loss: 0.7545\n",
            "622:\t[0s / 10s],\t\ttrain_loss: 0.6375,\tval_loss: 0.7545\n",
            "623:\t[0s / 10s],\t\ttrain_loss: 0.6377,\tval_loss: 0.7546\n",
            "624:\t[0s / 10s],\t\ttrain_loss: 0.6331,\tval_loss: 0.7545\n",
            "625:\t[0s / 10s],\t\ttrain_loss: 0.6342,\tval_loss: 0.7545\n",
            "626:\t[0s / 10s],\t\ttrain_loss: 0.6348,\tval_loss: 0.7545\n",
            "627:\t[0s / 10s],\t\ttrain_loss: 0.6340,\tval_loss: 0.7545\n",
            "628:\t[0s / 10s],\t\ttrain_loss: 0.6333,\tval_loss: 0.7544\n",
            "629:\t[0s / 10s],\t\ttrain_loss: 0.6337,\tval_loss: 0.7543\n",
            "630:\t[0s / 10s],\t\ttrain_loss: 0.6358,\tval_loss: 0.7543\n",
            "631:\t[0s / 10s],\t\ttrain_loss: 0.6347,\tval_loss: 0.7541\n",
            "632:\t[0s / 10s],\t\ttrain_loss: 0.6342,\tval_loss: 0.7540\n",
            "633:\t[0s / 10s],\t\ttrain_loss: 0.6286,\tval_loss: 0.7538\n",
            "634:\t[0s / 10s],\t\ttrain_loss: 0.6324,\tval_loss: 0.7537\n",
            "635:\t[0s / 10s],\t\ttrain_loss: 0.6314,\tval_loss: 0.7537\n",
            "636:\t[0s / 10s],\t\ttrain_loss: 0.6343,\tval_loss: 0.7538\n",
            "637:\t[0s / 10s],\t\ttrain_loss: 0.6306,\tval_loss: 0.7537\n",
            "638:\t[0s / 10s],\t\ttrain_loss: 0.6330,\tval_loss: 0.7533\n",
            "639:\t[0s / 10s],\t\ttrain_loss: 0.6320,\tval_loss: 0.7534\n",
            "640:\t[0s / 10s],\t\ttrain_loss: 0.6337,\tval_loss: 0.7540\n",
            "641:\t[0s / 10s],\t\ttrain_loss: 0.6306,\tval_loss: 0.7539\n",
            "642:\t[0s / 10s],\t\ttrain_loss: 0.6305,\tval_loss: 0.7537\n",
            "643:\t[0s / 10s],\t\ttrain_loss: 0.6321,\tval_loss: 0.7537\n",
            "644:\t[0s / 10s],\t\ttrain_loss: 0.6323,\tval_loss: 0.7536\n",
            "645:\t[0s / 10s],\t\ttrain_loss: 0.6329,\tval_loss: 0.7535\n",
            "646:\t[0s / 10s],\t\ttrain_loss: 0.6319,\tval_loss: 0.7534\n",
            "647:\t[0s / 10s],\t\ttrain_loss: 0.6349,\tval_loss: 0.7535\n",
            "648:\t[0s / 10s],\t\ttrain_loss: 0.6260,\tval_loss: 0.7535\n",
            "649:\t[0s / 10s],\t\ttrain_loss: 0.6332,\tval_loss: 0.7535\n",
            "650:\t[0s / 10s],\t\ttrain_loss: 0.6299,\tval_loss: 0.7529\n",
            "651:\t[0s / 10s],\t\ttrain_loss: 0.6325,\tval_loss: 0.7527\n",
            "652:\t[0s / 10s],\t\ttrain_loss: 0.6313,\tval_loss: 0.7528\n",
            "653:\t[0s / 10s],\t\ttrain_loss: 0.6284,\tval_loss: 0.7529\n",
            "654:\t[0s / 10s],\t\ttrain_loss: 0.6291,\tval_loss: 0.7529\n",
            "655:\t[0s / 10s],\t\ttrain_loss: 0.6294,\tval_loss: 0.7529\n",
            "656:\t[0s / 10s],\t\ttrain_loss: 0.6313,\tval_loss: 0.7528\n",
            "657:\t[0s / 10s],\t\ttrain_loss: 0.6347,\tval_loss: 0.7528\n",
            "658:\t[0s / 10s],\t\ttrain_loss: 0.6280,\tval_loss: 0.7526\n",
            "659:\t[0s / 10s],\t\ttrain_loss: 0.6320,\tval_loss: 0.7531\n",
            "660:\t[0s / 10s],\t\ttrain_loss: 0.6294,\tval_loss: 0.7530\n",
            "661:\t[0s / 11s],\t\ttrain_loss: 0.6296,\tval_loss: 0.7530\n",
            "662:\t[0s / 11s],\t\ttrain_loss: 0.6317,\tval_loss: 0.7532\n",
            "663:\t[0s / 11s],\t\ttrain_loss: 0.6310,\tval_loss: 0.7531\n",
            "664:\t[0s / 11s],\t\ttrain_loss: 0.6325,\tval_loss: 0.7532\n",
            "665:\t[0s / 11s],\t\ttrain_loss: 0.6288,\tval_loss: 0.7532\n",
            "666:\t[0s / 11s],\t\ttrain_loss: 0.6267,\tval_loss: 0.7534\n",
            "667:\t[0s / 11s],\t\ttrain_loss: 0.6292,\tval_loss: 0.7529\n",
            "668:\t[0s / 11s],\t\ttrain_loss: 0.6281,\tval_loss: 0.7529\n",
            "669:\t[0s / 11s],\t\ttrain_loss: 0.6254,\tval_loss: 0.7528\n",
            "670:\t[0s / 11s],\t\ttrain_loss: 0.6313,\tval_loss: 0.7529\n",
            "671:\t[0s / 11s],\t\ttrain_loss: 0.6302,\tval_loss: 0.7529\n",
            "672:\t[0s / 11s],\t\ttrain_loss: 0.6314,\tval_loss: 0.7528\n",
            "673:\t[0s / 11s],\t\ttrain_loss: 0.6274,\tval_loss: 0.7526\n",
            "674:\t[0s / 11s],\t\ttrain_loss: 0.6259,\tval_loss: 0.7525\n",
            "675:\t[0s / 11s],\t\ttrain_loss: 0.6300,\tval_loss: 0.7527\n",
            "676:\t[0s / 11s],\t\ttrain_loss: 0.6273,\tval_loss: 0.7522\n",
            "677:\t[0s / 11s],\t\ttrain_loss: 0.6237,\tval_loss: 0.7522\n",
            "678:\t[0s / 11s],\t\ttrain_loss: 0.6283,\tval_loss: 0.7521\n",
            "679:\t[0s / 11s],\t\ttrain_loss: 0.6242,\tval_loss: 0.7522\n",
            "680:\t[0s / 11s],\t\ttrain_loss: 0.6296,\tval_loss: 0.7523\n",
            "681:\t[0s / 11s],\t\ttrain_loss: 0.6331,\tval_loss: 0.7522\n",
            "682:\t[0s / 11s],\t\ttrain_loss: 0.6271,\tval_loss: 0.7521\n",
            "683:\t[0s / 11s],\t\ttrain_loss: 0.6266,\tval_loss: 0.7519\n",
            "684:\t[0s / 11s],\t\ttrain_loss: 0.6231,\tval_loss: 0.7519\n",
            "685:\t[0s / 11s],\t\ttrain_loss: 0.6283,\tval_loss: 0.7517\n",
            "686:\t[0s / 11s],\t\ttrain_loss: 0.6250,\tval_loss: 0.7518\n",
            "687:\t[0s / 11s],\t\ttrain_loss: 0.6281,\tval_loss: 0.7518\n",
            "688:\t[0s / 11s],\t\ttrain_loss: 0.6270,\tval_loss: 0.7517\n",
            "689:\t[0s / 11s],\t\ttrain_loss: 0.6264,\tval_loss: 0.7519\n",
            "690:\t[0s / 11s],\t\ttrain_loss: 0.6270,\tval_loss: 0.7520\n",
            "691:\t[0s / 11s],\t\ttrain_loss: 0.6264,\tval_loss: 0.7519\n",
            "692:\t[0s / 11s],\t\ttrain_loss: 0.6293,\tval_loss: 0.7518\n",
            "693:\t[0s / 11s],\t\ttrain_loss: 0.6240,\tval_loss: 0.7518\n",
            "694:\t[0s / 11s],\t\ttrain_loss: 0.6240,\tval_loss: 0.7520\n",
            "695:\t[0s / 11s],\t\ttrain_loss: 0.6251,\tval_loss: 0.7521\n",
            "696:\t[0s / 11s],\t\ttrain_loss: 0.6226,\tval_loss: 0.7524\n",
            "697:\t[0s / 11s],\t\ttrain_loss: 0.6227,\tval_loss: 0.7522\n",
            "698:\t[0s / 11s],\t\ttrain_loss: 0.6247,\tval_loss: 0.7525\n",
            "699:\t[0s / 11s],\t\ttrain_loss: 0.6243,\tval_loss: 0.7523\n",
            "700:\t[0s / 11s],\t\ttrain_loss: 0.6232,\tval_loss: 0.7520\n",
            "701:\t[0s / 11s],\t\ttrain_loss: 0.6226,\tval_loss: 0.7523\n",
            "702:\t[0s / 11s],\t\ttrain_loss: 0.6266,\tval_loss: 0.7521\n",
            "703:\t[0s / 11s],\t\ttrain_loss: 0.6230,\tval_loss: 0.7521\n",
            "704:\t[0s / 11s],\t\ttrain_loss: 0.6261,\tval_loss: 0.7520\n",
            "705:\t[0s / 11s],\t\ttrain_loss: 0.6249,\tval_loss: 0.7518\n",
            "706:\t[0s / 11s],\t\ttrain_loss: 0.6235,\tval_loss: 0.7517\n",
            "707:\t[0s / 11s],\t\ttrain_loss: 0.6221,\tval_loss: 0.7517\n",
            "708:\t[0s / 11s],\t\ttrain_loss: 0.6224,\tval_loss: 0.7516\n",
            "709:\t[0s / 11s],\t\ttrain_loss: 0.6254,\tval_loss: 0.7517\n",
            "710:\t[0s / 11s],\t\ttrain_loss: 0.6240,\tval_loss: 0.7520\n",
            "711:\t[0s / 11s],\t\ttrain_loss: 0.6267,\tval_loss: 0.7518\n",
            "712:\t[0s / 11s],\t\ttrain_loss: 0.6231,\tval_loss: 0.7520\n",
            "713:\t[0s / 11s],\t\ttrain_loss: 0.6206,\tval_loss: 0.7519\n",
            "714:\t[0s / 11s],\t\ttrain_loss: 0.6275,\tval_loss: 0.7516\n",
            "715:\t[0s / 11s],\t\ttrain_loss: 0.6241,\tval_loss: 0.7516\n",
            "716:\t[0s / 11s],\t\ttrain_loss: 0.6242,\tval_loss: 0.7518\n",
            "717:\t[0s / 11s],\t\ttrain_loss: 0.6220,\tval_loss: 0.7518\n",
            "718:\t[0s / 11s],\t\ttrain_loss: 0.6256,\tval_loss: 0.7522\n",
            "719:\t[0s / 11s],\t\ttrain_loss: 0.6224,\tval_loss: 0.7522\n",
            "720:\t[0s / 11s],\t\ttrain_loss: 0.6226,\tval_loss: 0.7519\n",
            "721:\t[0s / 12s],\t\ttrain_loss: 0.6203,\tval_loss: 0.7516\n",
            "722:\t[0s / 12s],\t\ttrain_loss: 0.6237,\tval_loss: 0.7511\n",
            "723:\t[0s / 12s],\t\ttrain_loss: 0.6226,\tval_loss: 0.7512\n",
            "724:\t[0s / 12s],\t\ttrain_loss: 0.6214,\tval_loss: 0.7512\n",
            "725:\t[0s / 12s],\t\ttrain_loss: 0.6249,\tval_loss: 0.7512\n",
            "726:\t[0s / 12s],\t\ttrain_loss: 0.6229,\tval_loss: 0.7516\n",
            "727:\t[0s / 12s],\t\ttrain_loss: 0.6223,\tval_loss: 0.7514\n",
            "728:\t[0s / 12s],\t\ttrain_loss: 0.6231,\tval_loss: 0.7514\n",
            "729:\t[0s / 12s],\t\ttrain_loss: 0.6215,\tval_loss: 0.7514\n",
            "730:\t[0s / 12s],\t\ttrain_loss: 0.6217,\tval_loss: 0.7518\n",
            "731:\t[0s / 12s],\t\ttrain_loss: 0.6214,\tval_loss: 0.7514\n",
            "732:\t[0s / 12s],\t\ttrain_loss: 0.6235,\tval_loss: 0.7514\n",
            "733:\t[0s / 12s],\t\ttrain_loss: 0.6182,\tval_loss: 0.7514\n",
            "734:\t[0s / 12s],\t\ttrain_loss: 0.6222,\tval_loss: 0.7513\n",
            "735:\t[0s / 12s],\t\ttrain_loss: 0.6238,\tval_loss: 0.7513\n",
            "736:\t[0s / 12s],\t\ttrain_loss: 0.6215,\tval_loss: 0.7511\n",
            "737:\t[0s / 12s],\t\ttrain_loss: 0.6199,\tval_loss: 0.7508\n",
            "738:\t[0s / 12s],\t\ttrain_loss: 0.6195,\tval_loss: 0.7509\n",
            "739:\t[0s / 12s],\t\ttrain_loss: 0.6203,\tval_loss: 0.7515\n",
            "740:\t[0s / 12s],\t\ttrain_loss: 0.6192,\tval_loss: 0.7515\n",
            "741:\t[0s / 12s],\t\ttrain_loss: 0.6228,\tval_loss: 0.7514\n",
            "742:\t[0s / 12s],\t\ttrain_loss: 0.6224,\tval_loss: 0.7514\n",
            "743:\t[0s / 12s],\t\ttrain_loss: 0.6183,\tval_loss: 0.7510\n",
            "744:\t[0s / 12s],\t\ttrain_loss: 0.6183,\tval_loss: 0.7511\n",
            "745:\t[0s / 12s],\t\ttrain_loss: 0.6181,\tval_loss: 0.7510\n",
            "746:\t[0s / 12s],\t\ttrain_loss: 0.6177,\tval_loss: 0.7506\n",
            "747:\t[0s / 12s],\t\ttrain_loss: 0.6181,\tval_loss: 0.7508\n",
            "748:\t[0s / 12s],\t\ttrain_loss: 0.6188,\tval_loss: 0.7509\n",
            "749:\t[0s / 12s],\t\ttrain_loss: 0.6194,\tval_loss: 0.7513\n",
            "750:\t[0s / 12s],\t\ttrain_loss: 0.6177,\tval_loss: 0.7513\n",
            "751:\t[0s / 12s],\t\ttrain_loss: 0.6176,\tval_loss: 0.7514\n",
            "752:\t[0s / 12s],\t\ttrain_loss: 0.6176,\tval_loss: 0.7514\n",
            "753:\t[0s / 12s],\t\ttrain_loss: 0.6206,\tval_loss: 0.7514\n",
            "754:\t[0s / 12s],\t\ttrain_loss: 0.6164,\tval_loss: 0.7520\n",
            "755:\t[0s / 12s],\t\ttrain_loss: 0.6210,\tval_loss: 0.7518\n",
            "756:\t[0s / 12s],\t\ttrain_loss: 0.6182,\tval_loss: 0.7518\n",
            "757:\t[0s / 12s],\t\ttrain_loss: 0.6200,\tval_loss: 0.7516\n",
            "758:\t[0s / 12s],\t\ttrain_loss: 0.6179,\tval_loss: 0.7521\n",
            "759:\t[0s / 12s],\t\ttrain_loss: 0.6144,\tval_loss: 0.7520\n",
            "760:\t[0s / 12s],\t\ttrain_loss: 0.6215,\tval_loss: 0.7519\n",
            "761:\t[0s / 12s],\t\ttrain_loss: 0.6155,\tval_loss: 0.7518\n",
            "762:\t[0s / 12s],\t\ttrain_loss: 0.6181,\tval_loss: 0.7516\n",
            "763:\t[0s / 12s],\t\ttrain_loss: 0.6158,\tval_loss: 0.7517\n",
            "764:\t[0s / 12s],\t\ttrain_loss: 0.6185,\tval_loss: 0.7516\n",
            "765:\t[0s / 12s],\t\ttrain_loss: 0.6166,\tval_loss: 0.7516\n",
            "766:\t[0s / 12s],\t\ttrain_loss: 0.6192,\tval_loss: 0.7514\n",
            "767:\t[0s / 12s],\t\ttrain_loss: 0.6167,\tval_loss: 0.7510\n",
            "768:\t[0s / 12s],\t\ttrain_loss: 0.6165,\tval_loss: 0.7511\n",
            "769:\t[0s / 12s],\t\ttrain_loss: 0.6173,\tval_loss: 0.7512\n",
            "770:\t[0s / 12s],\t\ttrain_loss: 0.6142,\tval_loss: 0.7511\n",
            "771:\t[0s / 12s],\t\ttrain_loss: 0.6128,\tval_loss: 0.7512\n",
            "772:\t[0s / 12s],\t\ttrain_loss: 0.6191,\tval_loss: 0.7511\n",
            "773:\t[0s / 12s],\t\ttrain_loss: 0.6185,\tval_loss: 0.7514\n",
            "774:\t[0s / 12s],\t\ttrain_loss: 0.6156,\tval_loss: 0.7513\n",
            "775:\t[0s / 12s],\t\ttrain_loss: 0.6146,\tval_loss: 0.7513\n",
            "776:\t[0s / 12s],\t\ttrain_loss: 0.6133,\tval_loss: 0.7512\n",
            "777:\t[0s / 12s],\t\ttrain_loss: 0.6135,\tval_loss: 0.7514\n",
            "778:\t[0s / 12s],\t\ttrain_loss: 0.6145,\tval_loss: 0.7513\n",
            "779:\t[0s / 12s],\t\ttrain_loss: 0.6187,\tval_loss: 0.7514\n",
            "780:\t[0s / 12s],\t\ttrain_loss: 0.6151,\tval_loss: 0.7513\n",
            "781:\t[0s / 12s],\t\ttrain_loss: 0.6154,\tval_loss: 0.7513\n",
            "782:\t[0s / 12s],\t\ttrain_loss: 0.6144,\tval_loss: 0.7516\n",
            "783:\t[0s / 12s],\t\ttrain_loss: 0.6140,\tval_loss: 0.7512\n",
            "784:\t[0s / 13s],\t\ttrain_loss: 0.6126,\tval_loss: 0.7511\n",
            "785:\t[0s / 13s],\t\ttrain_loss: 0.6131,\tval_loss: 0.7507\n",
            "786:\t[0s / 13s],\t\ttrain_loss: 0.6152,\tval_loss: 0.7503\n",
            "787:\t[0s / 13s],\t\ttrain_loss: 0.6122,\tval_loss: 0.7503\n",
            "788:\t[0s / 13s],\t\ttrain_loss: 0.6128,\tval_loss: 0.7504\n",
            "789:\t[0s / 13s],\t\ttrain_loss: 0.6101,\tval_loss: 0.7504\n",
            "790:\t[0s / 13s],\t\ttrain_loss: 0.6152,\tval_loss: 0.7505\n",
            "791:\t[0s / 13s],\t\ttrain_loss: 0.6086,\tval_loss: 0.7506\n",
            "792:\t[0s / 13s],\t\ttrain_loss: 0.6121,\tval_loss: 0.7506\n",
            "793:\t[0s / 13s],\t\ttrain_loss: 0.6085,\tval_loss: 0.7506\n",
            "794:\t[0s / 13s],\t\ttrain_loss: 0.6139,\tval_loss: 0.7514\n",
            "795:\t[0s / 13s],\t\ttrain_loss: 0.6102,\tval_loss: 0.7513\n",
            "796:\t[0s / 13s],\t\ttrain_loss: 0.6121,\tval_loss: 0.7511\n",
            "797:\t[0s / 13s],\t\ttrain_loss: 0.6090,\tval_loss: 0.7509\n",
            "798:\t[0s / 13s],\t\ttrain_loss: 0.6096,\tval_loss: 0.7508\n",
            "799:\t[0s / 13s],\t\ttrain_loss: 0.6099,\tval_loss: 0.7508\n",
            "800:\t[0s / 13s],\t\ttrain_loss: 0.6135,\tval_loss: 0.7507\n",
            "801:\t[0s / 13s],\t\ttrain_loss: 0.6141,\tval_loss: 0.7504\n",
            "802:\t[0s / 13s],\t\ttrain_loss: 0.6104,\tval_loss: 0.7504\n",
            "803:\t[0s / 13s],\t\ttrain_loss: 0.6105,\tval_loss: 0.7504\n",
            "804:\t[0s / 13s],\t\ttrain_loss: 0.6137,\tval_loss: 0.7510\n",
            "805:\t[0s / 13s],\t\ttrain_loss: 0.6107,\tval_loss: 0.7510\n",
            "806:\t[0s / 13s],\t\ttrain_loss: 0.6115,\tval_loss: 0.7507\n",
            "807:\t[0s / 13s],\t\ttrain_loss: 0.6107,\tval_loss: 0.7504\n",
            "808:\t[0s / 13s],\t\ttrain_loss: 0.6073,\tval_loss: 0.7509\n",
            "809:\t[0s / 13s],\t\ttrain_loss: 0.6099,\tval_loss: 0.7508\n",
            "810:\t[0s / 13s],\t\ttrain_loss: 0.6104,\tval_loss: 0.7507\n",
            "811:\t[0s / 13s],\t\ttrain_loss: 0.6113,\tval_loss: 0.7508\n",
            "812:\t[0s / 13s],\t\ttrain_loss: 0.6083,\tval_loss: 0.7508\n",
            "813:\t[0s / 13s],\t\ttrain_loss: 0.6084,\tval_loss: 0.7506\n",
            "814:\t[0s / 13s],\t\ttrain_loss: 0.6068,\tval_loss: 0.7505\n",
            "815:\t[0s / 13s],\t\ttrain_loss: 0.6093,\tval_loss: 0.7506\n",
            "816:\t[0s / 13s],\t\ttrain_loss: 0.6146,\tval_loss: 0.7511\n",
            "817:\t[0s / 13s],\t\ttrain_loss: 0.6111,\tval_loss: 0.7511\n",
            "818:\t[0s / 13s],\t\ttrain_loss: 0.6100,\tval_loss: 0.7511\n",
            "819:\t[0s / 13s],\t\ttrain_loss: 0.6103,\tval_loss: 0.7508\n",
            "820:\t[0s / 13s],\t\ttrain_loss: 0.6094,\tval_loss: 0.7509\n",
            "821:\t[0s / 13s],\t\ttrain_loss: 0.6091,\tval_loss: 0.7507\n",
            "822:\t[0s / 13s],\t\ttrain_loss: 0.6063,\tval_loss: 0.7510\n",
            "823:\t[0s / 13s],\t\ttrain_loss: 0.6084,\tval_loss: 0.7502\n",
            "824:\t[0s / 13s],\t\ttrain_loss: 0.6089,\tval_loss: 0.7506\n",
            "825:\t[0s / 13s],\t\ttrain_loss: 0.6074,\tval_loss: 0.7506\n",
            "826:\t[0s / 13s],\t\ttrain_loss: 0.6059,\tval_loss: 0.7510\n",
            "827:\t[0s / 13s],\t\ttrain_loss: 0.6100,\tval_loss: 0.7510\n",
            "828:\t[0s / 13s],\t\ttrain_loss: 0.6101,\tval_loss: 0.7510\n",
            "829:\t[0s / 13s],\t\ttrain_loss: 0.6098,\tval_loss: 0.7507\n",
            "830:\t[0s / 13s],\t\ttrain_loss: 0.6094,\tval_loss: 0.7507\n",
            "831:\t[0s / 13s],\t\ttrain_loss: 0.6127,\tval_loss: 0.7506\n",
            "832:\t[0s / 13s],\t\ttrain_loss: 0.6073,\tval_loss: 0.7510\n",
            "833:\t[0s / 13s],\t\ttrain_loss: 0.6079,\tval_loss: 0.7507\n",
            "834:\t[0s / 13s],\t\ttrain_loss: 0.6066,\tval_loss: 0.7506\n",
            "835:\t[0s / 13s],\t\ttrain_loss: 0.6077,\tval_loss: 0.7505\n",
            "836:\t[0s / 13s],\t\ttrain_loss: 0.6092,\tval_loss: 0.7510\n",
            "837:\t[0s / 13s],\t\ttrain_loss: 0.6105,\tval_loss: 0.7509\n",
            "838:\t[0s / 13s],\t\ttrain_loss: 0.6080,\tval_loss: 0.7509\n",
            "839:\t[0s / 13s],\t\ttrain_loss: 0.6040,\tval_loss: 0.7509\n",
            "840:\t[0s / 13s],\t\ttrain_loss: 0.6053,\tval_loss: 0.7509\n",
            "841:\t[0s / 13s],\t\ttrain_loss: 0.6088,\tval_loss: 0.7511\n",
            "842:\t[0s / 13s],\t\ttrain_loss: 0.6034,\tval_loss: 0.7511\n",
            "843:\t[0s / 13s],\t\ttrain_loss: 0.6054,\tval_loss: 0.7510\n",
            "844:\t[0s / 13s],\t\ttrain_loss: 0.6076,\tval_loss: 0.7511\n",
            "845:\t[0s / 13s],\t\ttrain_loss: 0.6054,\tval_loss: 0.7506\n",
            "846:\t[0s / 13s],\t\ttrain_loss: 0.6064,\tval_loss: 0.7506\n",
            "847:\t[0s / 13s],\t\ttrain_loss: 0.6022,\tval_loss: 0.7504\n",
            "848:\t[0s / 13s],\t\ttrain_loss: 0.6087,\tval_loss: 0.7505\n",
            "849:\t[0s / 13s],\t\ttrain_loss: 0.6054,\tval_loss: 0.7504\n",
            "850:\t[0s / 13s],\t\ttrain_loss: 0.6048,\tval_loss: 0.7508\n",
            "851:\t[0s / 13s],\t\ttrain_loss: 0.6047,\tval_loss: 0.7511\n",
            "852:\t[0s / 13s],\t\ttrain_loss: 0.6039,\tval_loss: 0.7510\n",
            "853:\t[0s / 14s],\t\ttrain_loss: 0.6042,\tval_loss: 0.7509\n",
            "854:\t[0s / 14s],\t\ttrain_loss: 0.6048,\tval_loss: 0.7506\n",
            "855:\t[0s / 14s],\t\ttrain_loss: 0.6079,\tval_loss: 0.7507\n",
            "856:\t[0s / 14s],\t\ttrain_loss: 0.6035,\tval_loss: 0.7502\n",
            "857:\t[0s / 14s],\t\ttrain_loss: 0.6046,\tval_loss: 0.7499\n",
            "858:\t[0s / 14s],\t\ttrain_loss: 0.6023,\tval_loss: 0.7502\n",
            "859:\t[0s / 14s],\t\ttrain_loss: 0.6080,\tval_loss: 0.7506\n",
            "860:\t[0s / 14s],\t\ttrain_loss: 0.6044,\tval_loss: 0.7506\n",
            "861:\t[0s / 14s],\t\ttrain_loss: 0.6060,\tval_loss: 0.7506\n",
            "862:\t[0s / 14s],\t\ttrain_loss: 0.6030,\tval_loss: 0.7504\n",
            "863:\t[0s / 14s],\t\ttrain_loss: 0.6074,\tval_loss: 0.7506\n",
            "864:\t[0s / 14s],\t\ttrain_loss: 0.6028,\tval_loss: 0.7508\n",
            "865:\t[0s / 14s],\t\ttrain_loss: 0.6097,\tval_loss: 0.7507\n",
            "866:\t[0s / 14s],\t\ttrain_loss: 0.6036,\tval_loss: 0.7507\n",
            "867:\t[0s / 14s],\t\ttrain_loss: 0.6052,\tval_loss: 0.7510\n",
            "868:\t[0s / 14s],\t\ttrain_loss: 0.6051,\tval_loss: 0.7509\n",
            "869:\t[0s / 14s],\t\ttrain_loss: 0.6036,\tval_loss: 0.7514\n",
            "870:\t[0s / 14s],\t\ttrain_loss: 0.6019,\tval_loss: 0.7511\n",
            "871:\t[0s / 14s],\t\ttrain_loss: 0.5994,\tval_loss: 0.7508\n",
            "872:\t[0s / 14s],\t\ttrain_loss: 0.6009,\tval_loss: 0.7508\n",
            "873:\t[0s / 14s],\t\ttrain_loss: 0.6012,\tval_loss: 0.7510\n",
            "874:\t[0s / 14s],\t\ttrain_loss: 0.6029,\tval_loss: 0.7510\n",
            "875:\t[0s / 14s],\t\ttrain_loss: 0.6061,\tval_loss: 0.7506\n",
            "876:\t[0s / 14s],\t\ttrain_loss: 0.6019,\tval_loss: 0.7507\n",
            "877:\t[0s / 14s],\t\ttrain_loss: 0.6023,\tval_loss: 0.7510\n",
            "878:\t[0s / 14s],\t\ttrain_loss: 0.5982,\tval_loss: 0.7506\n",
            "879:\t[0s / 14s],\t\ttrain_loss: 0.6027,\tval_loss: 0.7507\n",
            "880:\t[0s / 14s],\t\ttrain_loss: 0.6038,\tval_loss: 0.7507\n",
            "881:\t[0s / 14s],\t\ttrain_loss: 0.6033,\tval_loss: 0.7507\n",
            "882:\t[0s / 14s],\t\ttrain_loss: 0.6010,\tval_loss: 0.7507\n",
            "883:\t[0s / 14s],\t\ttrain_loss: 0.6019,\tval_loss: 0.7504\n",
            "884:\t[0s / 14s],\t\ttrain_loss: 0.6021,\tval_loss: 0.7505\n",
            "885:\t[0s / 14s],\t\ttrain_loss: 0.5999,\tval_loss: 0.7506\n",
            "886:\t[0s / 14s],\t\ttrain_loss: 0.6028,\tval_loss: 0.7507\n",
            "887:\t[0s / 14s],\t\ttrain_loss: 0.6024,\tval_loss: 0.7509\n",
            "888:\t[0s / 14s],\t\ttrain_loss: 0.6024,\tval_loss: 0.7510\n",
            "889:\t[0s / 14s],\t\ttrain_loss: 0.6029,\tval_loss: 0.7509\n",
            "890:\t[0s / 14s],\t\ttrain_loss: 0.6016,\tval_loss: 0.7510\n",
            "891:\t[0s / 14s],\t\ttrain_loss: 0.6008,\tval_loss: 0.7508\n",
            "892:\t[0s / 14s],\t\ttrain_loss: 0.6045,\tval_loss: 0.7510\n",
            "893:\t[0s / 14s],\t\ttrain_loss: 0.6040,\tval_loss: 0.7508\n",
            "894:\t[0s / 14s],\t\ttrain_loss: 0.6035,\tval_loss: 0.7509\n",
            "895:\t[0s / 14s],\t\ttrain_loss: 0.5956,\tval_loss: 0.7505\n",
            "896:\t[0s / 14s],\t\ttrain_loss: 0.6036,\tval_loss: 0.7507\n",
            "897:\t[0s / 14s],\t\ttrain_loss: 0.5990,\tval_loss: 0.7510\n",
            "898:\t[0s / 14s],\t\ttrain_loss: 0.5977,\tval_loss: 0.7511\n",
            "899:\t[0s / 14s],\t\ttrain_loss: 0.5980,\tval_loss: 0.7510\n",
            "900:\t[0s / 14s],\t\ttrain_loss: 0.5970,\tval_loss: 0.7507\n",
            "901:\t[0s / 14s],\t\ttrain_loss: 0.6043,\tval_loss: 0.7511\n",
            "902:\t[0s / 14s],\t\ttrain_loss: 0.5940,\tval_loss: 0.7511\n",
            "903:\t[0s / 14s],\t\ttrain_loss: 0.5936,\tval_loss: 0.7512\n",
            "904:\t[0s / 14s],\t\ttrain_loss: 0.6006,\tval_loss: 0.7512\n",
            "905:\t[0s / 14s],\t\ttrain_loss: 0.5967,\tval_loss: 0.7510\n",
            "906:\t[0s / 14s],\t\ttrain_loss: 0.5950,\tval_loss: 0.7509\n",
            "907:\t[0s / 14s],\t\ttrain_loss: 0.6000,\tval_loss: 0.7511\n",
            "908:\t[0s / 14s],\t\ttrain_loss: 0.5966,\tval_loss: 0.7509\n",
            "909:\t[0s / 14s],\t\ttrain_loss: 0.5981,\tval_loss: 0.7507\n",
            "910:\t[0s / 14s],\t\ttrain_loss: 0.5980,\tval_loss: 0.7507\n",
            "911:\t[0s / 14s],\t\ttrain_loss: 0.6008,\tval_loss: 0.7509\n",
            "912:\t[0s / 14s],\t\ttrain_loss: 0.5972,\tval_loss: 0.7508\n",
            "913:\t[0s / 14s],\t\ttrain_loss: 0.5924,\tval_loss: 0.7510\n",
            "914:\t[0s / 14s],\t\ttrain_loss: 0.6027,\tval_loss: 0.7509\n",
            "915:\t[0s / 15s],\t\ttrain_loss: 0.5959,\tval_loss: 0.7512\n",
            "916:\t[0s / 15s],\t\ttrain_loss: 0.5952,\tval_loss: 0.7510\n",
            "917:\t[0s / 15s],\t\ttrain_loss: 0.5980,\tval_loss: 0.7507\n",
            "918:\t[0s / 15s],\t\ttrain_loss: 0.5953,\tval_loss: 0.7508\n",
            "919:\t[0s / 15s],\t\ttrain_loss: 0.5968,\tval_loss: 0.7503\n",
            "920:\t[0s / 15s],\t\ttrain_loss: 0.5990,\tval_loss: 0.7507\n",
            "921:\t[0s / 15s],\t\ttrain_loss: 0.5972,\tval_loss: 0.7508\n",
            "922:\t[0s / 15s],\t\ttrain_loss: 0.5941,\tval_loss: 0.7507\n",
            "923:\t[0s / 15s],\t\ttrain_loss: 0.5972,\tval_loss: 0.7508\n",
            "924:\t[0s / 15s],\t\ttrain_loss: 0.5919,\tval_loss: 0.7512\n",
            "925:\t[0s / 15s],\t\ttrain_loss: 0.5967,\tval_loss: 0.7514\n",
            "926:\t[0s / 15s],\t\ttrain_loss: 0.5921,\tval_loss: 0.7511\n",
            "927:\t[0s / 15s],\t\ttrain_loss: 0.5969,\tval_loss: 0.7511\n",
            "928:\t[0s / 15s],\t\ttrain_loss: 0.6016,\tval_loss: 0.7515\n",
            "929:\t[0s / 15s],\t\ttrain_loss: 0.5970,\tval_loss: 0.7514\n",
            "930:\t[0s / 15s],\t\ttrain_loss: 0.5963,\tval_loss: 0.7511\n",
            "931:\t[0s / 15s],\t\ttrain_loss: 0.5931,\tval_loss: 0.7510\n",
            "932:\t[0s / 15s],\t\ttrain_loss: 0.5968,\tval_loss: 0.7511\n",
            "933:\t[0s / 15s],\t\ttrain_loss: 0.6025,\tval_loss: 0.7509\n",
            "934:\t[0s / 15s],\t\ttrain_loss: 0.5961,\tval_loss: 0.7508\n",
            "935:\t[0s / 15s],\t\ttrain_loss: 0.5959,\tval_loss: 0.7505\n",
            "936:\t[0s / 15s],\t\ttrain_loss: 0.5927,\tval_loss: 0.7506\n",
            "937:\t[0s / 15s],\t\ttrain_loss: 0.5924,\tval_loss: 0.7506\n",
            "938:\t[0s / 15s],\t\ttrain_loss: 0.5961,\tval_loss: 0.7509\n",
            "939:\t[0s / 15s],\t\ttrain_loss: 0.5939,\tval_loss: 0.7511\n",
            "940:\t[0s / 15s],\t\ttrain_loss: 0.5916,\tval_loss: 0.7511\n",
            "941:\t[0s / 15s],\t\ttrain_loss: 0.5960,\tval_loss: 0.7513\n",
            "942:\t[0s / 15s],\t\ttrain_loss: 0.5926,\tval_loss: 0.7510\n",
            "943:\t[0s / 15s],\t\ttrain_loss: 0.5977,\tval_loss: 0.7512\n",
            "944:\t[0s / 15s],\t\ttrain_loss: 0.5949,\tval_loss: 0.7514\n",
            "945:\t[0s / 15s],\t\ttrain_loss: 0.5928,\tval_loss: 0.7516\n",
            "946:\t[0s / 15s],\t\ttrain_loss: 0.5985,\tval_loss: 0.7517\n",
            "947:\t[0s / 15s],\t\ttrain_loss: 0.5935,\tval_loss: 0.7522\n",
            "948:\t[0s / 15s],\t\ttrain_loss: 0.5952,\tval_loss: 0.7524\n",
            "949:\t[0s / 15s],\t\ttrain_loss: 0.5969,\tval_loss: 0.7521\n",
            "950:\t[0s / 15s],\t\ttrain_loss: 0.5940,\tval_loss: 0.7518\n",
            "951:\t[0s / 15s],\t\ttrain_loss: 0.5943,\tval_loss: 0.7517\n",
            "952:\t[0s / 15s],\t\ttrain_loss: 0.5950,\tval_loss: 0.7516\n",
            "953:\t[0s / 15s],\t\ttrain_loss: 0.5923,\tval_loss: 0.7516\n",
            "954:\t[0s / 15s],\t\ttrain_loss: 0.5938,\tval_loss: 0.7516\n",
            "955:\t[0s / 15s],\t\ttrain_loss: 0.5950,\tval_loss: 0.7518\n",
            "956:\t[0s / 15s],\t\ttrain_loss: 0.5919,\tval_loss: 0.7515\n",
            "957:\t[0s / 15s],\t\ttrain_loss: 0.5915,\tval_loss: 0.7512\n",
            "958:\t[0s / 15s],\t\ttrain_loss: 0.5905,\tval_loss: 0.7514\n",
            "959:\t[0s / 15s],\t\ttrain_loss: 0.5945,\tval_loss: 0.7519\n",
            "960:\t[0s / 15s],\t\ttrain_loss: 0.5908,\tval_loss: 0.7519\n",
            "961:\t[0s / 15s],\t\ttrain_loss: 0.5924,\tval_loss: 0.7518\n",
            "962:\t[0s / 15s],\t\ttrain_loss: 0.5939,\tval_loss: 0.7519\n",
            "963:\t[0s / 15s],\t\ttrain_loss: 0.5930,\tval_loss: 0.7517\n",
            "964:\t[0s / 15s],\t\ttrain_loss: 0.5898,\tval_loss: 0.7518\n",
            "965:\t[0s / 15s],\t\ttrain_loss: 0.5916,\tval_loss: 0.7517\n",
            "966:\t[0s / 15s],\t\ttrain_loss: 0.5890,\tval_loss: 0.7519\n",
            "967:\t[0s / 15s],\t\ttrain_loss: 0.5916,\tval_loss: 0.7521\n",
            "968:\t[0s / 15s],\t\ttrain_loss: 0.5908,\tval_loss: 0.7522\n",
            "969:\t[0s / 15s],\t\ttrain_loss: 0.5943,\tval_loss: 0.7520\n",
            "970:\t[0s / 15s],\t\ttrain_loss: 0.5924,\tval_loss: 0.7518\n",
            "971:\t[0s / 15s],\t\ttrain_loss: 0.5860,\tval_loss: 0.7516\n",
            "972:\t[0s / 15s],\t\ttrain_loss: 0.5896,\tval_loss: 0.7520\n",
            "973:\t[0s / 15s],\t\ttrain_loss: 0.5893,\tval_loss: 0.7518\n",
            "974:\t[0s / 15s],\t\ttrain_loss: 0.5905,\tval_loss: 0.7519\n",
            "975:\t[0s / 15s],\t\ttrain_loss: 0.5939,\tval_loss: 0.7520\n",
            "976:\t[0s / 15s],\t\ttrain_loss: 0.5922,\tval_loss: 0.7521\n",
            "977:\t[0s / 15s],\t\ttrain_loss: 0.5880,\tval_loss: 0.7522\n",
            "978:\t[0s / 15s],\t\ttrain_loss: 0.5879,\tval_loss: 0.7524\n",
            "979:\t[0s / 16s],\t\ttrain_loss: 0.5890,\tval_loss: 0.7524\n",
            "980:\t[0s / 16s],\t\ttrain_loss: 0.5890,\tval_loss: 0.7523\n",
            "981:\t[0s / 16s],\t\ttrain_loss: 0.5880,\tval_loss: 0.7524\n",
            "982:\t[0s / 16s],\t\ttrain_loss: 0.5911,\tval_loss: 0.7526\n",
            "983:\t[0s / 16s],\t\ttrain_loss: 0.5870,\tval_loss: 0.7522\n",
            "984:\t[0s / 16s],\t\ttrain_loss: 0.5888,\tval_loss: 0.7522\n",
            "985:\t[0s / 16s],\t\ttrain_loss: 0.5883,\tval_loss: 0.7520\n",
            "986:\t[0s / 16s],\t\ttrain_loss: 0.5907,\tval_loss: 0.7519\n",
            "987:\t[0s / 16s],\t\ttrain_loss: 0.5887,\tval_loss: 0.7516\n",
            "988:\t[0s / 16s],\t\ttrain_loss: 0.5927,\tval_loss: 0.7517\n",
            "989:\t[0s / 16s],\t\ttrain_loss: 0.5877,\tval_loss: 0.7517\n",
            "990:\t[0s / 16s],\t\ttrain_loss: 0.5849,\tval_loss: 0.7519\n",
            "991:\t[0s / 16s],\t\ttrain_loss: 0.5865,\tval_loss: 0.7519\n",
            "992:\t[0s / 16s],\t\ttrain_loss: 0.5880,\tval_loss: 0.7519\n",
            "993:\t[0s / 16s],\t\ttrain_loss: 0.5890,\tval_loss: 0.7520\n",
            "994:\t[0s / 16s],\t\ttrain_loss: 0.5888,\tval_loss: 0.7523\n",
            "995:\t[0s / 16s],\t\ttrain_loss: 0.5859,\tval_loss: 0.7521\n",
            "996:\t[0s / 16s],\t\ttrain_loss: 0.5890,\tval_loss: 0.7523\n",
            "997:\t[0s / 16s],\t\ttrain_loss: 0.5897,\tval_loss: 0.7525\n",
            "998:\t[0s / 16s],\t\ttrain_loss: 0.5834,\tval_loss: 0.7523\n",
            "999:\t[0s / 16s],\t\ttrain_loss: 0.5849,\tval_loss: 0.7527\n"
          ]
        }
      ],
      "source": [
        "log = model.fit(x_train, y_train, batch_size, epochs, callbacks, val_data=val)"
      ]
    },
    {
      "cell_type": "code",
      "execution_count": 57,
      "metadata": {
        "id": "ZPyjEUpJBX2V",
        "colab": {
          "base_uri": "https://localhost:8080/",
          "height": 265
        },
        "outputId": "50d23588-41f6-45c5-f6cb-7772d1bf1f75"
      },
      "outputs": [
        {
          "output_type": "display_data",
          "data": {
            "text/plain": [
              "<Figure size 432x288 with 1 Axes>"
            ],
            "image/png": "[encoded data removed]"
          },
          "metadata": {
            "needs_background": "light"
          }
        }
      ],
      "source": [
        "_ = log.plot()"
      ]
    },
    {
      "cell_type": "code",
      "source": [
        "with open('model.pkl', 'wb') as handle:\n",
        "    pickle.dump(model, handle)"
      ],
      "metadata": {
        "id": "FZV_s5VZq9cz"
      },
      "execution_count": 58,
      "outputs": []
    },
    {
      "cell_type": "code",
      "source": [
        "with open('model.pkl', 'rb') as handle:\n",
        "    model = pickle.load(handle)\n",
        "\n",
        "model.predict(x_test)"
      ],
      "metadata": {
        "colab": {
          "base_uri": "https://localhost:8080/"
        },
        "id": "d2dfzlfArCNs",
        "outputId": "a7a75462-326f-440b-d52b-2e12720ff2af"
      },
      "execution_count": 59,
      "outputs": [
        {
          "output_type": "execute_result",
          "data": {
            "text/plain": [
              "array([[-0.80579257, -0.06047598, -0.21869615, ..., -0.16926554,\n",
              "         1.5976084 ,  1.3592151 ],\n",
              "       [ 1.2771596 , -0.16854069, -0.06414043, ...,  0.2799807 ,\n",
              "        -1.1733227 ,  0.08273032],\n",
              "       [-1.5523633 ,  0.2004762 ,  0.8982996 , ...,  0.63209486,\n",
              "        -0.8374862 ,  0.381315  ],\n",
              "       ...,\n",
              "       [-1.1036918 , -0.8833101 , -0.12218248, ...,  0.15601525,\n",
              "         2.48328   ,  2.1874738 ],\n",
              "       [-2.3777509 ,  0.10324715,  1.2256161 , ...,  1.0773143 ,\n",
              "        -0.8762    ,  0.27426374],\n",
              "       [-0.98724514,  0.00282621,  0.9005886 , ...,  0.957989  ,\n",
              "        -1.4805168 , -0.03055987]], dtype=float32)"
            ]
          },
          "metadata": {},
          "execution_count": 59
        }
      ]
    },
    {
      "cell_type": "markdown",
      "metadata": {
        "id": "4lBM4sbxBX2V"
      },
      "source": [
        "#### Preparing data and non-deep models "
      ]
    },
    {
      "cell_type": "code",
      "execution_count": null,
      "metadata": {
        "id": "roVzLxHpBX2W"
      },
      "outputs": [],
      "source": [
        "real_data = pd.read_csv(\"data/exp3_heart_failure_dataset.csv\")\n",
        "real_data.rename(columns={\"DEATH_EVENT\": \"event\"}, inplace=True)"
      ]
    },
    {
      "cell_type": "code",
      "execution_count": null,
      "metadata": {
        "id": "3Gx2ntsbBX2W"
      },
      "outputs": [],
      "source": [
        "from sksurv.util import Surv\n",
        "X = real_data[[\"age\", \"creatinine_phosphokinase\", \"ejection_fraction\", \"platelets\", \n",
        "                \"serum_creatinine\", \"serum_sodium\", \"sex\", \"smoking\"]]\n",
        "y = Surv.from_dataframe(\"event\", \"time\", real_data)"
      ]
    },
    {
      "cell_type": "code",
      "execution_count": null,
      "metadata": {
        "id": "44nNB-mQBX2W",
        "outputId": "5b37f69c-8bf1-4200-ecdd-8ba2209ba73d"
      },
      "outputs": [
        {
          "data": {
            "text/plain": [
              "0.8758763084605781"
            ]
          },
          "execution_count": 4,
          "metadata": {},
          "output_type": "execute_result"
        }
      ],
      "source": [
        "from sksurv.ensemble import RandomSurvivalForest\n",
        "rsf = RandomSurvivalForest(random_state=42, n_estimators=120, max_depth=8, min_samples_leaf=4, max_features=3)\n",
        "rsf.fit(X, y)\n",
        "rsf.score(X, y)"
      ]
    },
    {
      "cell_type": "markdown",
      "metadata": {
        "id": "oKrOeTOGBX2W"
      },
      "source": [
        "#### Creating explanations"
      ]
    },
    {
      "cell_type": "code",
      "execution_count": null,
      "metadata": {
        "id": "V7TfwjdEBX2W"
      },
      "outputs": [],
      "source": [
        "from survshap import SurvivalModelExplainer, ModelSurvSHAP\n",
        "from survlime import SurvLIME\n",
        "rsf_exp = SurvivalModelExplainer(rsf, X, y)"
      ]
    },
    {
      "cell_type": "code",
      "execution_count": null,
      "metadata": {
        "id": "JWbd6T9VBX2X",
        "outputId": "1abc239c-38c7-4ad2-97c5-c97a317f05eb"
      },
      "outputs": [
        {
          "name": "stderr",
          "output_type": "stream",
          "text": [
            "100%|██████████| 299/299 [32:46<00:00,  6.58s/it]\n"
          ]
        }
      ],
      "source": [
        "exp3_survshap_global_rsf = ModelSurvSHAP(random_state=42)\n",
        "exp3_survshap_global_rsf.fit(rsf_exp)"
      ]
    },
    {
      "cell_type": "code",
      "execution_count": null,
      "metadata": {
        "id": "jaGkcLcPBX2X"
      },
      "outputs": [],
      "source": [
        "with open(\"pickles/exp3_survshap_global_rsf\", \"wb\") as f:\n",
        "    pickle.dump(exp3_survshap_global_rsf, f)"
      ]
    },
    {
      "cell_type": "code",
      "execution_count": null,
      "metadata": {
        "id": "l95P5nrcBX2X",
        "outputId": "0bf6dab5-78ad-457f-bdb3-184b4e640736"
      },
      "outputs": [
        {
          "name": "stderr",
          "output_type": "stream",
          "text": [
            "100%|██████████| 299/299 [04:00<00:00,  1.24it/s]\n"
          ]
        }
      ],
      "source": [
        "n_obs = len(X)\n",
        "sls = [None for i in range(n_obs)]\n",
        "funcs_dist = [None for i in range(n_obs)]\n",
        "for i in tqdm(range(n_obs)):\n",
        "    survlime = SurvLIME(N=1000)\n",
        "    survlime.fit(rsf_exp, X.iloc[[i]], k=2, timestamps=rsf.predict_survival_function(X.iloc[[0]])[0].x)\n",
        "    sls[i] = survlime"
      ]
    },
    {
      "cell_type": "code",
      "execution_count": null,
      "metadata": {
        "id": "8W6MRH-RBX2X"
      },
      "outputs": [],
      "source": [
        "with open(\"pickles/exp3_survlime_global_rsf\", \"wb\") as f:\n",
        "    pickle.dump(sls, f)"
      ]
    },
    {
      "cell_type": "markdown",
      "metadata": {
        "id": "3FZeYmpiBX2X"
      },
      "source": [
        "#### Results analysis"
      ]
    },
    {
      "cell_type": "code",
      "execution_count": null,
      "metadata": {
        "id": "lNs4Vb9UBX2X"
      },
      "outputs": [],
      "source": [
        "with open(\"pickles/exp3_survshap_global_rsf\", \"rb\") as f:\n",
        "    exp3_survshap_global_rsf = pickle.load(f)"
      ]
    },
    {
      "cell_type": "code",
      "execution_count": null,
      "metadata": {
        "id": "ZTNywu41BX2Y"
      },
      "outputs": [],
      "source": [
        "with open(\"pickles/exp3_survlime_global_rsf\", \"rb\") as f:\n",
        "    exp3_survlime_global_rsf = pickle.load(f)"
      ]
    },
    {
      "cell_type": "markdown",
      "metadata": {
        "id": "CKIQQpJHBX2Y"
      },
      "source": [
        "##### Plot examples"
      ]
    },
    {
      "cell_type": "code",
      "execution_count": null,
      "metadata": {
        "id": "7j6tGMpcBX2Y"
      },
      "outputs": [],
      "source": [
        "example_rsf = exp3_survshap_global_rsf.individual_explanations[12]"
      ]
    },
    {
      "cell_type": "code",
      "execution_count": null,
      "metadata": {
        "id": "-2kTAJaTBX2Y"
      },
      "outputs": [],
      "source": [
        "melted_example_rsf = pd.melt(example_rsf.result, id_vars=\"variable_name\", value_vars=example_rsf.result.columns[6:])\n",
        "melted_example_rsf[\"variable\"] = melted_example_rsf[\"variable\"].str[4:].astype(float)\n",
        "melted_example_rsf.to_csv(\"results/exp3_example_rsf.csv\", index=False)\n",
        "example_rsf.simplified_result.to_csv(\"results/exp3_example_rsf_agg.csv\", index=False)"
      ]
    },
    {
      "cell_type": "code",
      "execution_count": null,
      "metadata": {
        "id": "vVM2hobMBX2Y"
      },
      "outputs": [],
      "source": [
        "example_rsf2 = exp3_survshap_global_rsf.individual_explanations[14]\n",
        "melted_example_rsf_2 = pd.melt(example_rsf2.result, id_vars=\"variable_name\", value_vars=example_rsf2.result.columns[6:])\n",
        "melted_example_rsf_2[\"variable\"] = melted_example_rsf_2[\"variable\"].str[4:].astype(float)\n",
        "melted_example_rsf_2.to_csv(\"results/exp3_example_rsf_2.csv\", index=False)"
      ]
    },
    {
      "cell_type": "markdown",
      "metadata": {
        "id": "b8E5pttvBX2Y"
      },
      "source": [
        "##### Importance rankings"
      ]
    },
    {
      "cell_type": "code",
      "execution_count": null,
      "metadata": {
        "id": "wTcaV7hsBX2Y"
      },
      "outputs": [],
      "source": [
        "def get_orderings_and_ranks_shap(explanations):\n",
        "    importance_orderings = []\n",
        "    importance_ranks = []\n",
        "    for explanation in explanations:\n",
        "        df = explanation.result.copy()\n",
        "        df[\"aggregated_change\"] = trapezoid(np.abs(df.iloc[:, 6:].values), explanation.timestamps)\n",
        "        importance_orderings.append(df.sort_values(by=\"aggregated_change\", key=lambda x: -abs(x)).index.to_list())\n",
        "        importance_ranks.append(np.abs(df.aggregated_change).rank(ascending=False).to_list())\n",
        "    return pd.DataFrame(importance_orderings), pd.DataFrame(importance_ranks)\n",
        "\n",
        "from scipy.stats import weightedtau\n",
        "def mean_weighted_tau(ranks1, ranks2):\n",
        "    taus = [None] * 100\n",
        "    for i in range(100):\n",
        "        tau, _ = weightedtau(ranks1.iloc[i], ranks2.iloc[i])\n",
        "        taus[i] = tau\n",
        "    return np.mean(taus), np.std(taus)\n",
        "\n",
        "def prepare_ranking_summary_long(ordering):\n",
        "    res = pd.DataFrame(columns=[0, 1, 2, 3, 4, 5, 6, 7])\n",
        "    for i in range(8):\n",
        "        tmp = pd.DataFrame(ordering[i].value_counts().to_dict(), index=[i+1])\n",
        "        res = pd.concat([res, tmp])\n",
        "    res = res.reset_index().rename(columns=dict(zip([i for i in range(8)] + [\"index\"], X.columns.to_list() + [\"importance_ranking\"])))\n",
        "    return res.melt(id_vars=[\"importance_ranking\"], value_vars=X.columns)"
      ]
    },
    {
      "cell_type": "code",
      "execution_count": null,
      "metadata": {
        "id": "3ZCwF_-bBX2Z"
      },
      "outputs": [],
      "source": [
        "def get_orderings_and_ranks_shap(explanations):\n",
        "    importance_orderings = []\n",
        "    importance_ranks = []\n",
        "    for explanation in explanations:\n",
        "        df = explanation.result.copy()\n",
        "        df[\"aggregated_change\"] = trapezoid(np.abs(df.iloc[:, 6:].values), explanation.timestamps)\n",
        "        importance_orderings.append(df.sort_values(by=\"aggregated_change\", key=lambda x: -abs(x)).index.to_list())\n",
        "        importance_ranks.append(np.abs(df.aggregated_change).rank(ascending=False).to_list())\n",
        "    return pd.DataFrame(importance_orderings), pd.DataFrame(importance_ranks)\n",
        "\n",
        "def get_orderings_and_ranks_lime(explanations):\n",
        "    importance_orderings = []\n",
        "    importance_ranks = []\n",
        "    for explanation in explanations:\n",
        "        df = explanation.result\n",
        "        df[\"impact\"] = df[\"variable_value\"] * df[\"coefficient\"] \n",
        "        importance_orderings.append(df.sort_values(by=\"impact\", key=lambda x: -abs(x)).index.to_list())\n",
        "        importance_ranks.append(np.abs(df.impact).rank(ascending=False).to_list())\n",
        "    return pd.DataFrame(importance_orderings), pd.DataFrame(importance_ranks)"
      ]
    },
    {
      "cell_type": "code",
      "execution_count": null,
      "metadata": {
        "id": "YdqgLbpEBX2Z"
      },
      "outputs": [],
      "source": [
        "rsf_survshap_orderings, rsf_survshap_ranks = get_orderings_and_ranks_shap(exp3_survshap_global_rsf.individual_explanations)\n",
        "prepare_ranking_summary_long(rsf_survshap_orderings).to_csv(\"results/exp3_survshap_orderings_rsf.csv\")"
      ]
    },
    {
      "cell_type": "markdown",
      "metadata": {
        "id": "bTZiN7pjBX2Z"
      },
      "source": [
        "#### Calculating permutational variable importance"
      ]
    },
    {
      "cell_type": "code",
      "execution_count": null,
      "metadata": {
        "id": "yacw7--NBX2Z"
      },
      "outputs": [],
      "source": [
        "from sksurv.metrics import brier_score, integrated_brier_score\n",
        "# mask created to enable for calculating Brier score\n",
        "mask = (y[\"time\"] < y[y[\"event\"]==1][\"time\"].max()) & (y[\"time\"] > y[y[\"event\"]==1][\"time\"].min())\n",
        "times = np.unique(np.percentile(y[mask][\"time\"], np.linspace(0.1, 99.9, 101)))\n",
        "\n",
        "np.unique(np.percentile(y[mask][\"time\"], np.linspace(0.1, 99.9, 101)))\n",
        "def loss_integrated_brier_score(model, data, y):\n",
        "    sfs = model.predict_survival_function(data)\n",
        "    sfs = [sf(times) for sf in sfs] \n",
        "    result = integrated_brier_score(y, y, sfs, times)\n",
        "    return 1-result"
      ]
    },
    {
      "cell_type": "code",
      "execution_count": null,
      "metadata": {
        "id": "c_d_REsIBX2Z"
      },
      "outputs": [],
      "source": [
        "from sklearn.inspection import permutation_importance\n",
        "imp_mean_rsf = permutation_importance(rsf, X, y, \n",
        "                    scoring = loss_integrated_brier_score, n_repeats=100, random_state=42)[\"importances_mean\"]"
      ]
    },
    {
      "cell_type": "code",
      "execution_count": null,
      "metadata": {
        "id": "ZHdxF3tQBX2Z",
        "outputId": "c10b4d9e-5ca2-4b62-c0fe-a8deb6b3eb9d"
      },
      "outputs": [
        {
          "data": {
            "text/html": [
              "<div>\n",
              "<style scoped>\n",
              "    .dataframe tbody tr th:only-of-type {\n",
              "        vertical-align: middle;\n",
              "    }\n",
              "\n",
              "    .dataframe tbody tr th {\n",
              "        vertical-align: top;\n",
              "    }\n",
              "\n",
              "    .dataframe thead th {\n",
              "        text-align: right;\n",
              "    }\n",
              "</style>\n",
              "<table border=\"1\" class=\"dataframe\">\n",
              "  <thead>\n",
              "    <tr style=\"text-align: right;\">\n",
              "      <th></th>\n",
              "      <th>0</th>\n",
              "      <th>1</th>\n",
              "    </tr>\n",
              "  </thead>\n",
              "  <tbody>\n",
              "    <tr>\n",
              "      <th>2</th>\n",
              "      <td>ejection_fraction</td>\n",
              "      <td>0.045645</td>\n",
              "    </tr>\n",
              "    <tr>\n",
              "      <th>4</th>\n",
              "      <td>serum_creatinine</td>\n",
              "      <td>0.045391</td>\n",
              "    </tr>\n",
              "    <tr>\n",
              "      <th>0</th>\n",
              "      <td>age</td>\n",
              "      <td>0.031623</td>\n",
              "    </tr>\n",
              "    <tr>\n",
              "      <th>5</th>\n",
              "      <td>serum_sodium</td>\n",
              "      <td>0.012024</td>\n",
              "    </tr>\n",
              "    <tr>\n",
              "      <th>3</th>\n",
              "      <td>platelets</td>\n",
              "      <td>0.011392</td>\n",
              "    </tr>\n",
              "    <tr>\n",
              "      <th>1</th>\n",
              "      <td>creatinine_phosphokinase</td>\n",
              "      <td>0.011368</td>\n",
              "    </tr>\n",
              "    <tr>\n",
              "      <th>6</th>\n",
              "      <td>sex</td>\n",
              "      <td>0.002585</td>\n",
              "    </tr>\n",
              "    <tr>\n",
              "      <th>7</th>\n",
              "      <td>smoking</td>\n",
              "      <td>0.002113</td>\n",
              "    </tr>\n",
              "  </tbody>\n",
              "</table>\n",
              "</div>"
            ],
            "text/plain": [
              "                          0         1\n",
              "2         ejection_fraction  0.045645\n",
              "4          serum_creatinine  0.045391\n",
              "0                       age  0.031623\n",
              "5              serum_sodium  0.012024\n",
              "3                 platelets  0.011392\n",
              "1  creatinine_phosphokinase  0.011368\n",
              "6                       sex  0.002585\n",
              "7                   smoking  0.002113"
            ]
          },
          "execution_count": 25,
          "metadata": {},
          "output_type": "execute_result"
        }
      ],
      "source": [
        "pd.DataFrame(zip(X.columns, imp_mean_rsf)).sort_values(by=1, ascending=False)"
      ]
    },
    {
      "cell_type": "code",
      "execution_count": null,
      "metadata": {
        "id": "ewI89KnCBX2a"
      },
      "outputs": [],
      "source": [
        "rsf_survlime_orderings, rsf_survlime_ranks = get_orderings_and_ranks_lime(exp3_survlime_global_rsf)"
      ]
    },
    {
      "cell_type": "code",
      "execution_count": null,
      "metadata": {
        "id": "en7pKU8gBX2a"
      },
      "outputs": [],
      "source": [
        "prepare_ranking_summary_long(rsf_survlime_orderings).to_csv(\"results/exp3_survlime_orderings_rsf.csv\")"
      ]
    },
    {
      "cell_type": "markdown",
      "metadata": {
        "id": "VBMwkYDrBX2a"
      },
      "source": [
        "#### Explaining deep model's predictions"
      ]
    },
    {
      "cell_type": "code",
      "execution_count": null,
      "metadata": {
        "id": "hWt9PzHMBX2a"
      },
      "outputs": [],
      "source": [
        "from captum.attr import (\n",
        "    GradientShap,\n",
        "    DeepLift,\n",
        "    DeepLiftShap,\n",
        "    IntegratedGradients,\n",
        ")"
      ]
    },
    {
      "cell_type": "code",
      "execution_count": null,
      "metadata": {
        "id": "0RAG9Bp5BX2a"
      },
      "outputs": [],
      "source": [
        "model.eval()\n",
        "# baseline_dist = torch.zeros(191, 11, requires_grad=True) * 0.001\n",
        "inputs = torch.tensor(x_train, requires_grad=True) #.unsqueeze(dim=0)\n",
        "outputs = torch.tensor(y_train[1].astype('int64')) #, requires_grad=True)\n",
        "dl = DeepLift(model.net)\n",
        "ig = IntegratedGradients(model.net)\n",
        "attributions, delta = ig.attribute(inputs, target=outputs, return_convergence_delta=True) #  baseline_dist, target=outputs,\n",
        "print('Integrated Gradients mean attributions:', attributions.mean(dim=0).detach().numpy())\n",
        "print('Mean Convergence Delta:', delta.mean().detach().numpy())\n",
        "attributions, delta = dl.attribute(inputs, target=outputs, return_convergence_delta=True) #  baseline_dist, target=outputs,\n",
        "print('DeepLift mean attributions:', attributions.mean(dim=0).detach().numpy())\n",
        "print('Mean Convergence Delta:', delta.mean().detach().numpy())"
      ]
    },
    {
      "cell_type": "markdown",
      "metadata": {
        "id": "3nwFSui1BX2a"
      },
      "source": [
        "We got the following results:\n",
        "\n",
        "Integrated Gradients mean attributions: [ 0.0292784   0.02505408 -0.03815171  0.01266383  0.01597387  0.06627826\n",
        " -0.03912117 -0.02868438  0.06274574  0.03201562  0.00618445]\n",
        "\n",
        "DeepLift mean attributions: [ 0.02618182  0.01984281 -0.03617777  0.0109012   0.01511144  0.06467749\n",
        " -0.03416074 -0.02320135  0.05641534  0.03421191  0.00955333]"
      ]
    },
    {
      "cell_type": "markdown",
      "metadata": {
        "id": "hIARKwJFBX2a"
      },
      "source": [
        "#### Comparison of different explaining methods"
      ]
    },
    {
      "cell_type": "code",
      "execution_count": null,
      "metadata": {
        "id": "aY0Ez2hFBX2b",
        "outputId": "86c72bfa-74a9-4fec-e220-a8163e688fdd"
      },
      "outputs": [
        {
          "data": {
            "text/plain": [
              "Index(['age', 'creatinine_phosphokinase', 'ejection_fraction', 'platelets',\n",
              "       'serum_creatinine', 'serum_sodium', 'sex', 'smoking'],\n",
              "      dtype='object')"
            ]
          },
          "execution_count": 37,
          "metadata": {},
          "output_type": "execute_result"
        }
      ],
      "source": [
        "X.columns"
      ]
    },
    {
      "cell_type": "code",
      "execution_count": null,
      "metadata": {
        "id": "5efGcSIqBX2b",
        "outputId": "aab3505e-daee-47b3-a963-587c3e2adf01"
      },
      "outputs": [
        {
          "data": {
            "text/plain": [
              "Index(['age', 'anaemia', 'creatinine_phosphokinase', 'diabetes',\n",
              "       'ejection_fraction', 'high_blood_pressure', 'platelets',\n",
              "       'serum_creatinine', 'serum_sodium', 'sex', 'smoking', 'time',\n",
              "       'DEATH_EVENT'],\n",
              "      dtype='object')"
            ]
          },
          "execution_count": 38,
          "metadata": {},
          "output_type": "execute_result"
        }
      ],
      "source": [
        "df_train.columns"
      ]
    },
    {
      "cell_type": "code",
      "execution_count": null,
      "metadata": {
        "id": "YMbBj71dBX2b"
      },
      "outputs": [],
      "source": [
        "ig_results = [\n",
        "    0.0292784,\n",
        "    0.02505408,\n",
        "    0.03815171,\n",
        "    0.01266383,\n",
        "    0.01597387,\n",
        "    0.06627826,\n",
        "    -0.03912117,\n",
        "    0.02868438,\n",
        "    0.06274574,\n",
        "    0.03201562,\n",
        "    0.00618445\n",
        "]\n",
        "\n",
        "deep_lift_results = [\n",
        "    0.02618182,\n",
        "    0.01984281,\n",
        "    -0.03617777,\n",
        "    0.0109012,\n",
        "    0.01511144,\n",
        "    0.06467749,\n",
        "    -0.03416074,\n",
        "    -0.02320135,\n",
        "    0.05641534,\n",
        "    0.03421191,\n",
        "    0.00955333,\n",
        "]"
      ]
    },
    {
      "cell_type": "code",
      "execution_count": null,
      "metadata": {
        "id": "0DiF7ClwBX2b",
        "outputId": "7d51ab2d-fac1-4cf4-96bb-9ff4367b16b5"
      },
      "outputs": [
        {
          "data": {
            "text/plain": [
              "13"
            ]
          },
          "execution_count": 45,
          "metadata": {},
          "output_type": "execute_result"
        }
      ],
      "source": [
        "len(df_train.columns)"
      ]
    },
    {
      "cell_type": "code",
      "execution_count": null,
      "metadata": {
        "id": "-Ray1932BX2b",
        "outputId": "03c46802-14d5-4eed-9620-eb6fc517b4f4"
      },
      "outputs": [
        {
          "data": {
            "text/plain": [
              "Index(['age', 'anaemia', 'creatinine_phosphokinase', 'diabetes',\n",
              "       'ejection_fraction', 'high_blood_pressure', 'platelets',\n",
              "       'serum_creatinine', 'serum_sodium', 'sex', 'smoking', 'time',\n",
              "       'DEATH_EVENT'],\n",
              "      dtype='object')"
            ]
          },
          "execution_count": 47,
          "metadata": {},
          "output_type": "execute_result"
        }
      ],
      "source": [
        "df_train.columns"
      ]
    },
    {
      "cell_type": "code",
      "execution_count": null,
      "metadata": {
        "id": "suTsRgGBBX2c"
      },
      "outputs": [],
      "source": [
        "deep_df = pd.DataFrame({\"feature\": df_train.columns[:11], \"ig\": ig_results, \"deep_lift\": deep_lift_results})"
      ]
    },
    {
      "cell_type": "code",
      "execution_count": null,
      "metadata": {
        "id": "Kj6Iqbu8BX2c"
      },
      "outputs": [],
      "source": [
        "deep_df = deep_df[deep_df[\"feature\"].isin(X.columns)]"
      ]
    },
    {
      "cell_type": "code",
      "execution_count": null,
      "metadata": {
        "id": "1v0fbLIaBX2c",
        "outputId": "7c870799-ba85-43e6-d6f6-c45adaa963c0"
      },
      "outputs": [
        {
          "data": {
            "text/html": [
              "<div>\n",
              "<style scoped>\n",
              "    .dataframe tbody tr th:only-of-type {\n",
              "        vertical-align: middle;\n",
              "    }\n",
              "\n",
              "    .dataframe tbody tr th {\n",
              "        vertical-align: top;\n",
              "    }\n",
              "\n",
              "    .dataframe thead th {\n",
              "        text-align: right;\n",
              "    }\n",
              "</style>\n",
              "<table border=\"1\" class=\"dataframe\">\n",
              "  <thead>\n",
              "    <tr style=\"text-align: right;\">\n",
              "      <th></th>\n",
              "      <th>feature</th>\n",
              "      <th>ig</th>\n",
              "      <th>deep_lift</th>\n",
              "    </tr>\n",
              "  </thead>\n",
              "  <tbody>\n",
              "    <tr>\n",
              "      <th>8</th>\n",
              "      <td>serum_sodium</td>\n",
              "      <td>0.062746</td>\n",
              "      <td>0.056415</td>\n",
              "    </tr>\n",
              "    <tr>\n",
              "      <th>2</th>\n",
              "      <td>creatinine_phosphokinase</td>\n",
              "      <td>0.038152</td>\n",
              "      <td>-0.036178</td>\n",
              "    </tr>\n",
              "    <tr>\n",
              "      <th>9</th>\n",
              "      <td>sex</td>\n",
              "      <td>0.032016</td>\n",
              "      <td>0.034212</td>\n",
              "    </tr>\n",
              "    <tr>\n",
              "      <th>0</th>\n",
              "      <td>age</td>\n",
              "      <td>0.029278</td>\n",
              "      <td>0.026182</td>\n",
              "    </tr>\n",
              "    <tr>\n",
              "      <th>7</th>\n",
              "      <td>serum_creatinine</td>\n",
              "      <td>0.028684</td>\n",
              "      <td>-0.023201</td>\n",
              "    </tr>\n",
              "    <tr>\n",
              "      <th>4</th>\n",
              "      <td>ejection_fraction</td>\n",
              "      <td>0.015974</td>\n",
              "      <td>0.015111</td>\n",
              "    </tr>\n",
              "    <tr>\n",
              "      <th>10</th>\n",
              "      <td>smoking</td>\n",
              "      <td>0.006184</td>\n",
              "      <td>0.009553</td>\n",
              "    </tr>\n",
              "    <tr>\n",
              "      <th>6</th>\n",
              "      <td>platelets</td>\n",
              "      <td>-0.039121</td>\n",
              "      <td>-0.034161</td>\n",
              "    </tr>\n",
              "  </tbody>\n",
              "</table>\n",
              "</div>"
            ],
            "text/plain": [
              "                     feature        ig  deep_lift\n",
              "8               serum_sodium  0.062746   0.056415\n",
              "2   creatinine_phosphokinase  0.038152  -0.036178\n",
              "9                        sex  0.032016   0.034212\n",
              "0                        age  0.029278   0.026182\n",
              "7           serum_creatinine  0.028684  -0.023201\n",
              "4          ejection_fraction  0.015974   0.015111\n",
              "10                   smoking  0.006184   0.009553\n",
              "6                  platelets -0.039121  -0.034161"
            ]
          },
          "execution_count": 65,
          "metadata": {},
          "output_type": "execute_result"
        }
      ],
      "source": [
        "deep_df.sort_values(by=\"ig\", ascending=False)"
      ]
    },
    {
      "cell_type": "code",
      "execution_count": null,
      "metadata": {
        "id": "xKjIpAOKBX2c",
        "outputId": "eaab1894-15bc-478f-9f4b-af26c20d76c1"
      },
      "outputs": [
        {
          "data": {
            "text/html": [
              "<div>\n",
              "<style scoped>\n",
              "    .dataframe tbody tr th:only-of-type {\n",
              "        vertical-align: middle;\n",
              "    }\n",
              "\n",
              "    .dataframe tbody tr th {\n",
              "        vertical-align: top;\n",
              "    }\n",
              "\n",
              "    .dataframe thead th {\n",
              "        text-align: right;\n",
              "    }\n",
              "</style>\n",
              "<table border=\"1\" class=\"dataframe\">\n",
              "  <thead>\n",
              "    <tr style=\"text-align: right;\">\n",
              "      <th></th>\n",
              "      <th>0</th>\n",
              "      <th>1</th>\n",
              "    </tr>\n",
              "  </thead>\n",
              "  <tbody>\n",
              "    <tr>\n",
              "      <th>2</th>\n",
              "      <td>ejection_fraction</td>\n",
              "      <td>0.045645</td>\n",
              "    </tr>\n",
              "    <tr>\n",
              "      <th>4</th>\n",
              "      <td>serum_creatinine</td>\n",
              "      <td>0.045391</td>\n",
              "    </tr>\n",
              "    <tr>\n",
              "      <th>0</th>\n",
              "      <td>age</td>\n",
              "      <td>0.031623</td>\n",
              "    </tr>\n",
              "    <tr>\n",
              "      <th>5</th>\n",
              "      <td>serum_sodium</td>\n",
              "      <td>0.012024</td>\n",
              "    </tr>\n",
              "    <tr>\n",
              "      <th>3</th>\n",
              "      <td>platelets</td>\n",
              "      <td>0.011392</td>\n",
              "    </tr>\n",
              "    <tr>\n",
              "      <th>1</th>\n",
              "      <td>creatinine_phosphokinase</td>\n",
              "      <td>0.011368</td>\n",
              "    </tr>\n",
              "    <tr>\n",
              "      <th>6</th>\n",
              "      <td>sex</td>\n",
              "      <td>0.002585</td>\n",
              "    </tr>\n",
              "    <tr>\n",
              "      <th>7</th>\n",
              "      <td>smoking</td>\n",
              "      <td>0.002113</td>\n",
              "    </tr>\n",
              "  </tbody>\n",
              "</table>\n",
              "</div>"
            ],
            "text/plain": [
              "                          0         1\n",
              "2         ejection_fraction  0.045645\n",
              "4          serum_creatinine  0.045391\n",
              "0                       age  0.031623\n",
              "5              serum_sodium  0.012024\n",
              "3                 platelets  0.011392\n",
              "1  creatinine_phosphokinase  0.011368\n",
              "6                       sex  0.002585\n",
              "7                   smoking  0.002113"
            ]
          },
          "execution_count": 64,
          "metadata": {},
          "output_type": "execute_result"
        }
      ],
      "source": [
        "pd.DataFrame(zip(X.columns, imp_mean_rsf)).sort_values(by=1, ascending=False)"
      ]
    },
    {
      "cell_type": "code",
      "execution_count": null,
      "metadata": {
        "id": "Sybn0QXTBX2c"
      },
      "outputs": [],
      "source": [
        "shap_df = pd.DataFrame(zip(X.columns, imp_mean_rsf)).sort_values(by=1, ascending=False)"
      ]
    },
    {
      "cell_type": "code",
      "execution_count": null,
      "metadata": {
        "id": "ROj-R5TnBX2c"
      },
      "outputs": [],
      "source": [
        "deep_shap_exp = SurvivalModelExplainer(rsf, df_train[:11], df_train[11:])\n",
        "imp_mean_deep_shap = permutation_importance(model, df_train[:11], df_train[11:], \n",
        "                    scoring = loss_integrated_brier_score, n_repeats=100, random_state=42)[\"importances_mean\"]"
      ]
    },
    {
      "cell_type": "code",
      "execution_count": null,
      "metadata": {
        "id": "Yf65GJnFBX2c"
      },
      "outputs": [],
      "source": [
        "deep_df.to_csv(\"project/deep_df_exp.csv\")"
      ]
    },
    {
      "cell_type": "code",
      "execution_count": null,
      "metadata": {
        "id": "ksR0gZMnBX2d"
      },
      "outputs": [],
      "source": [
        "shap_df.to_csv(\"project/shap_exp.csv\")"
      ]
    }
  ],
  "metadata": {
    "kernelspec": {
      "display_name": "Python 3.8.10 ('venv': venv)",
      "language": "python",
      "name": "python3"
    },
    "language_info": {
      "codemirror_mode": {
        "name": "ipython",
        "version": 3
      },
      "file_extension": ".py",
      "mimetype": "text/x-python",
      "name": "python",
      "nbconvert_exporter": "python",
      "pygments_lexer": "ipython3",
      "version": "3.8.10"
    },
    "vscode": {
      "interpreter": {
        "hash": "862e00d4e923d07bafe3efd192af1b4097c7ce8d60181494a0e8b306ca1d81fd"
      }
    },
    "colab": {
      "provenance": []
    }
  },
  "nbformat": 4,
  "nbformat_minor": 0
}