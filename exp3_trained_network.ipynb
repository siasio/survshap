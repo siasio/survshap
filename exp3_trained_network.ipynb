{
 "cells": [
  {
   "cell_type": "markdown",
   "metadata": {
    "id": "SnGKBU-hBX2P"
   },
   "source": [
    "# SurvSHAP vs DeepLift vs Integrated Gradients\n",
    "### J. Krajewski, S. Frejlak, M. Wojtala"
   ]
  },
  {
   "cell_type": "markdown",
   "metadata": {
    "id": "nK_gEpqaBX2R"
   },
   "source": [
    "### Experiment 1: evaluation on artificial data"
   ]
  },
  {
   "cell_type": "markdown",
   "metadata": {
    "id": "540jB6w-BX2R"
   },
   "source": [
    "#### Imports"
   ]
  },
  {
   "cell_type": "code",
   "execution_count": 1,
   "outputs": [],
   "source": [
    "# This code is useful if you want to make changes in any of the imported libraries, e.g. to solve compatibility issues.\n",
    "%load_ext autoreload\n",
    "%autoreload 2"
   ],
   "metadata": {
    "collapsed": false
   }
  },
  {
   "cell_type": "code",
   "execution_count": 2,
   "metadata": {
    "colab": {
     "base_uri": "https://localhost:8080/"
    },
    "id": "24gA1mQDBX2S",
    "outputId": "f5bd36ad-2c1f-489f-dfcf-5979c07885d5"
   },
   "outputs": [
    {
     "name": "stdout",
     "output_type": "stream",
     "text": [
      "Requirement already satisfied: torchtuples in c:\\users\\stanislawfrejlak\\anaconda3\\lib\\site-packages (0.2.2)\n",
      "Requirement already satisfied: pandas>=0.24.2 in c:\\users\\stanislawfrejlak\\anaconda3\\lib\\site-packages (from torchtuples) (1.4.4)\n",
      "Requirement already satisfied: matplotlib>=3.0.3 in c:\\users\\stanislawfrejlak\\anaconda3\\lib\\site-packages (from torchtuples) (3.5.3)\n",
      "Requirement already satisfied: numpy>=1.15.4 in c:\\users\\stanislawfrejlak\\anaconda3\\lib\\site-packages (from torchtuples) (1.23.4)\n",
      "Requirement already satisfied: packaging>=20.0 in c:\\users\\stanislawfrejlak\\anaconda3\\lib\\site-packages (from matplotlib>=3.0.3->torchtuples) (21.3)\n",
      "Requirement already satisfied: pillow>=6.2.0 in c:\\users\\stanislawfrejlak\\anaconda3\\lib\\site-packages (from matplotlib>=3.0.3->torchtuples) (9.2.0)\n",
      "Requirement already satisfied: cycler>=0.10 in c:\\users\\stanislawfrejlak\\anaconda3\\lib\\site-packages (from matplotlib>=3.0.3->torchtuples) (0.11.0)\n",
      "Requirement already satisfied: python-dateutil>=2.7 in c:\\users\\stanislawfrejlak\\anaconda3\\lib\\site-packages (from matplotlib>=3.0.3->torchtuples) (2.8.2)\n",
      "Requirement already satisfied: pyparsing>=2.2.1 in c:\\users\\stanislawfrejlak\\anaconda3\\lib\\site-packages (from matplotlib>=3.0.3->torchtuples) (3.0.9)\n",
      "Requirement already satisfied: fonttools>=4.22.0 in c:\\users\\stanislawfrejlak\\anaconda3\\lib\\site-packages (from matplotlib>=3.0.3->torchtuples) (4.25.0)\n",
      "Requirement already satisfied: kiwisolver>=1.0.1 in c:\\users\\stanislawfrejlak\\anaconda3\\lib\\site-packages (from matplotlib>=3.0.3->torchtuples) (1.4.2)\n",
      "Requirement already satisfied: pytz>=2020.1 in c:\\users\\stanislawfrejlak\\anaconda3\\lib\\site-packages (from pandas>=0.24.2->torchtuples) (2022.1)\n",
      "Requirement already satisfied: six>=1.5 in c:\\users\\stanislawfrejlak\\anaconda3\\lib\\site-packages (from python-dateutil>=2.7->matplotlib>=3.0.3->torchtuples) (1.16.0)\n",
      "Requirement already satisfied: pycox in c:\\users\\stanislawfrejlak\\anaconda3\\lib\\site-packages (0.2.3)\n",
      "Requirement already satisfied: h5py>=2.9.0 in c:\\users\\stanislawfrejlak\\anaconda3\\lib\\site-packages (from pycox) (3.7.0)\n",
      "Requirement already satisfied: py7zr>=0.11.3 in c:\\users\\stanislawfrejlak\\anaconda3\\lib\\site-packages (from pycox) (0.20.2)\n",
      "Requirement already satisfied: torchtuples>=0.2.0 in c:\\users\\stanislawfrejlak\\anaconda3\\lib\\site-packages (from pycox) (0.2.2)\n",
      "Requirement already satisfied: feather-format>=0.4.0 in c:\\users\\stanislawfrejlak\\anaconda3\\lib\\site-packages (from pycox) (0.4.1)\n",
      "Requirement already satisfied: requests>=2.22.0 in c:\\users\\stanislawfrejlak\\anaconda3\\lib\\site-packages (from pycox) (2.28.1)\n",
      "Requirement already satisfied: numba>=0.44 in c:\\users\\stanislawfrejlak\\anaconda3\\lib\\site-packages (from pycox) (0.56.4)\n",
      "Requirement already satisfied: scikit-learn>=0.21.2 in c:\\users\\stanislawfrejlak\\anaconda3\\lib\\site-packages (from pycox) (1.1.3)\n",
      "Requirement already satisfied: pyarrow>=0.4.0 in c:\\users\\stanislawfrejlak\\anaconda3\\lib\\site-packages (from feather-format>=0.4.0->pycox) (8.0.0)\n",
      "Requirement already satisfied: numpy>=1.14.5 in c:\\users\\stanislawfrejlak\\anaconda3\\lib\\site-packages (from h5py>=2.9.0->pycox) (1.23.4)\n",
      "Requirement already satisfied: llvmlite<0.40,>=0.39.0dev0 in c:\\users\\stanislawfrejlak\\anaconda3\\lib\\site-packages (from numba>=0.44->pycox) (0.39.1)\n",
      "Requirement already satisfied: setuptools in c:\\users\\stanislawfrejlak\\anaconda3\\lib\\site-packages (from numba>=0.44->pycox) (65.5.0)\n",
      "Requirement already satisfied: pyppmd<1.1.0,>=0.18.1 in c:\\users\\stanislawfrejlak\\anaconda3\\lib\\site-packages (from py7zr>=0.11.3->pycox) (1.0.0)\n",
      "Requirement already satisfied: pycryptodomex>=3.6.6 in c:\\users\\stanislawfrejlak\\anaconda3\\lib\\site-packages (from py7zr>=0.11.3->pycox) (3.16.0)\n",
      "Requirement already satisfied: inflate64>=0.3.1 in c:\\users\\stanislawfrejlak\\anaconda3\\lib\\site-packages (from py7zr>=0.11.3->pycox) (0.3.1)\n",
      "Requirement already satisfied: pyzstd>=0.14.4 in c:\\users\\stanislawfrejlak\\anaconda3\\lib\\site-packages (from py7zr>=0.11.3->pycox) (0.15.3)\n",
      "Requirement already satisfied: brotli>=1.0.9 in c:\\users\\stanislawfrejlak\\anaconda3\\lib\\site-packages (from py7zr>=0.11.3->pycox) (1.0.9)\n",
      "Requirement already satisfied: multivolumefile>=0.2.3 in c:\\users\\stanislawfrejlak\\anaconda3\\lib\\site-packages (from py7zr>=0.11.3->pycox) (0.2.3)\n",
      "Requirement already satisfied: texttable in c:\\users\\stanislawfrejlak\\anaconda3\\lib\\site-packages (from py7zr>=0.11.3->pycox) (1.6.7)\n",
      "Requirement already satisfied: psutil in c:\\users\\stanislawfrejlak\\anaconda3\\lib\\site-packages (from py7zr>=0.11.3->pycox) (5.9.0)\n",
      "Requirement already satisfied: pybcj>=0.6.0 in c:\\users\\stanislawfrejlak\\anaconda3\\lib\\site-packages (from py7zr>=0.11.3->pycox) (1.0.1)\n",
      "Requirement already satisfied: certifi>=2017.4.17 in c:\\users\\stanislawfrejlak\\anaconda3\\lib\\site-packages (from requests>=2.22.0->pycox) (2022.9.24)\n",
      "Requirement already satisfied: charset-normalizer<3,>=2 in c:\\users\\stanislawfrejlak\\anaconda3\\lib\\site-packages (from requests>=2.22.0->pycox) (2.0.4)\n",
      "Requirement already satisfied: idna<4,>=2.5 in c:\\users\\stanislawfrejlak\\anaconda3\\lib\\site-packages (from requests>=2.22.0->pycox) (3.4)\n",
      "Requirement already satisfied: urllib3<1.27,>=1.21.1 in c:\\users\\stanislawfrejlak\\anaconda3\\lib\\site-packages (from requests>=2.22.0->pycox) (1.26.12)\n",
      "Requirement already satisfied: threadpoolctl>=2.0.0 in c:\\users\\stanislawfrejlak\\anaconda3\\lib\\site-packages (from scikit-learn>=0.21.2->pycox) (2.2.0)\n",
      "Requirement already satisfied: scipy>=1.3.2 in c:\\users\\stanislawfrejlak\\anaconda3\\lib\\site-packages (from scikit-learn>=0.21.2->pycox) (1.9.3)\n",
      "Requirement already satisfied: joblib>=1.0.0 in c:\\users\\stanislawfrejlak\\anaconda3\\lib\\site-packages (from scikit-learn>=0.21.2->pycox) (1.1.1)\n",
      "Requirement already satisfied: matplotlib>=3.0.3 in c:\\users\\stanislawfrejlak\\anaconda3\\lib\\site-packages (from torchtuples>=0.2.0->pycox) (3.5.3)\n",
      "Requirement already satisfied: pandas>=0.24.2 in c:\\users\\stanislawfrejlak\\anaconda3\\lib\\site-packages (from torchtuples>=0.2.0->pycox) (1.4.4)\n",
      "Requirement already satisfied: python-dateutil>=2.7 in c:\\users\\stanislawfrejlak\\anaconda3\\lib\\site-packages (from matplotlib>=3.0.3->torchtuples>=0.2.0->pycox) (2.8.2)\n",
      "Requirement already satisfied: fonttools>=4.22.0 in c:\\users\\stanislawfrejlak\\anaconda3\\lib\\site-packages (from matplotlib>=3.0.3->torchtuples>=0.2.0->pycox) (4.25.0)\n",
      "Requirement already satisfied: pyparsing>=2.2.1 in c:\\users\\stanislawfrejlak\\anaconda3\\lib\\site-packages (from matplotlib>=3.0.3->torchtuples>=0.2.0->pycox) (3.0.9)\n",
      "Requirement already satisfied: pillow>=6.2.0 in c:\\users\\stanislawfrejlak\\anaconda3\\lib\\site-packages (from matplotlib>=3.0.3->torchtuples>=0.2.0->pycox) (9.2.0)\n",
      "Requirement already satisfied: packaging>=20.0 in c:\\users\\stanislawfrejlak\\anaconda3\\lib\\site-packages (from matplotlib>=3.0.3->torchtuples>=0.2.0->pycox) (21.3)\n",
      "Requirement already satisfied: cycler>=0.10 in c:\\users\\stanislawfrejlak\\anaconda3\\lib\\site-packages (from matplotlib>=3.0.3->torchtuples>=0.2.0->pycox) (0.11.0)\n",
      "Requirement already satisfied: kiwisolver>=1.0.1 in c:\\users\\stanislawfrejlak\\anaconda3\\lib\\site-packages (from matplotlib>=3.0.3->torchtuples>=0.2.0->pycox) (1.4.2)\n",
      "Requirement already satisfied: pytz>=2020.1 in c:\\users\\stanislawfrejlak\\anaconda3\\lib\\site-packages (from pandas>=0.24.2->torchtuples>=0.2.0->pycox) (2022.1)\n",
      "Requirement already satisfied: six>=1.5 in c:\\users\\stanislawfrejlak\\anaconda3\\lib\\site-packages (from python-dateutil>=2.7->matplotlib>=3.0.3->torchtuples>=0.2.0->pycox) (1.16.0)\n"
     ]
    }
   ],
   "source": [
    "!pip3 install torchtuples\n",
    "!pip3 install pycox\n",
    "\n",
    "import pandas as pd\n",
    "import numpy as np\n",
    "from tqdm import tqdm\n",
    "import pickle\n",
    "from scipy.integrate import trapezoid\n",
    "\n",
    "import matplotlib.pyplot as plt\n",
    "\n",
    "# For preprocessing\n",
    "from sklearn.preprocessing import StandardScaler\n",
    "from sklearn_pandas import DataFrameMapper\n",
    "\n",
    "import torch # For building the networks\n",
    "import torchtuples as tt # Some useful functions\n",
    "\n",
    "from pycox.models import DeepHitSingle"
   ]
  },
  {
   "cell_type": "markdown",
   "metadata": {
    "id": "EU6wJnj3BX2T"
   },
   "source": [
    "The next part of experiment 1 will be here after overcoming technical difficulties..."
   ]
  },
  {
   "cell_type": "markdown",
   "metadata": {
    "id": "1B38BbjmBX2T"
   },
   "source": [
    "### Experiment 2: Real-world use case: predicting survival of patients with heart failure"
   ]
  },
  {
   "cell_type": "markdown",
   "metadata": {
    "id": "cQ5WhAd6BX2T"
   },
   "source": [
    "#### Preparing data and deep model"
   ]
  },
  {
   "cell_type": "code",
   "execution_count": 3,
   "metadata": {
    "id": "v76cKAzZBX2T",
    "outputId": "28ec35cf-b6f8-4c52-ba5d-4330ea85b789",
    "colab": {
     "base_uri": "https://localhost:8080/",
     "height": 206
    }
   },
   "outputs": [
    {
     "data": {
      "text/plain": "    age  anaemia  creatinine_phosphokinase  diabetes  ejection_fraction  \\\n0  75.0        0                       582         0                 20   \n1  55.0        0                      7861         0                 38   \n2  65.0        0                       146         0                 20   \n3  50.0        1                       111         0                 20   \n5  90.0        1                        47         0                 40   \n\n   high_blood_pressure  platelets  serum_creatinine  serum_sodium  sex  \\\n0                    1  265000.00               1.9           130    1   \n1                    0  263358.03               1.1           136    1   \n2                    0  162000.00               1.3           129    1   \n3                    0  210000.00               1.9           137    1   \n5                    1  204000.00               2.1           132    1   \n\n   smoking  time  DEATH_EVENT  \n0        0     4            1  \n1        0     6            1  \n2        1     7            1  \n3        0     7            1  \n5        1     8            1  ",
      "text/html": "<div>\n<style scoped>\n    .dataframe tbody tr th:only-of-type {\n        vertical-align: middle;\n    }\n\n    .dataframe tbody tr th {\n        vertical-align: top;\n    }\n\n    .dataframe thead th {\n        text-align: right;\n    }\n</style>\n<table border=\"1\" class=\"dataframe\">\n  <thead>\n    <tr style=\"text-align: right;\">\n      <th></th>\n      <th>age</th>\n      <th>anaemia</th>\n      <th>creatinine_phosphokinase</th>\n      <th>diabetes</th>\n      <th>ejection_fraction</th>\n      <th>high_blood_pressure</th>\n      <th>platelets</th>\n      <th>serum_creatinine</th>\n      <th>serum_sodium</th>\n      <th>sex</th>\n      <th>smoking</th>\n      <th>time</th>\n      <th>DEATH_EVENT</th>\n    </tr>\n  </thead>\n  <tbody>\n    <tr>\n      <th>0</th>\n      <td>75.0</td>\n      <td>0</td>\n      <td>582</td>\n      <td>0</td>\n      <td>20</td>\n      <td>1</td>\n      <td>265000.00</td>\n      <td>1.9</td>\n      <td>130</td>\n      <td>1</td>\n      <td>0</td>\n      <td>4</td>\n      <td>1</td>\n    </tr>\n    <tr>\n      <th>1</th>\n      <td>55.0</td>\n      <td>0</td>\n      <td>7861</td>\n      <td>0</td>\n      <td>38</td>\n      <td>0</td>\n      <td>263358.03</td>\n      <td>1.1</td>\n      <td>136</td>\n      <td>1</td>\n      <td>0</td>\n      <td>6</td>\n      <td>1</td>\n    </tr>\n    <tr>\n      <th>2</th>\n      <td>65.0</td>\n      <td>0</td>\n      <td>146</td>\n      <td>0</td>\n      <td>20</td>\n      <td>0</td>\n      <td>162000.00</td>\n      <td>1.3</td>\n      <td>129</td>\n      <td>1</td>\n      <td>1</td>\n      <td>7</td>\n      <td>1</td>\n    </tr>\n    <tr>\n      <th>3</th>\n      <td>50.0</td>\n      <td>1</td>\n      <td>111</td>\n      <td>0</td>\n      <td>20</td>\n      <td>0</td>\n      <td>210000.00</td>\n      <td>1.9</td>\n      <td>137</td>\n      <td>1</td>\n      <td>0</td>\n      <td>7</td>\n      <td>1</td>\n    </tr>\n    <tr>\n      <th>5</th>\n      <td>90.0</td>\n      <td>1</td>\n      <td>47</td>\n      <td>0</td>\n      <td>40</td>\n      <td>1</td>\n      <td>204000.00</td>\n      <td>2.1</td>\n      <td>132</td>\n      <td>1</td>\n      <td>1</td>\n      <td>8</td>\n      <td>1</td>\n    </tr>\n  </tbody>\n</table>\n</div>"
     },
     "execution_count": 3,
     "metadata": {},
     "output_type": "execute_result"
    }
   ],
   "source": [
    "df_raw = pd.read_csv('data/exp3_heart_failure_dataset.csv')\n",
    "\n",
    "df_train = pd.read_csv('data/exp3_heart_failure_dataset.csv')\n",
    "df_test = df_train.sample(frac=0.2)\n",
    "df_train = df_train.drop(df_test.index)\n",
    "df_val = df_train.sample(frac=0.2)\n",
    "df_train = df_train.drop(df_val.index)\n",
    "\n",
    "df_train.head()"
   ]
  },
  {
   "cell_type": "code",
   "execution_count": 4,
   "metadata": {
    "id": "tZVzoTsoBX2T"
   },
   "outputs": [],
   "source": [
    "cols_standardize = ['age', 'creatinine_phosphokinase', 'ejection_fraction', 'platelets', 'serum_creatinine', 'serum_sodium']\n",
    "cols_leave = ['anaemia', 'diabetes', 'high_blood_pressure', 'sex', 'smoking']\n",
    "\n",
    "standardize = [([col], StandardScaler()) for col in cols_standardize]\n",
    "leave = [(col, None) for col in cols_leave]\n",
    "\n",
    "x_mapper = DataFrameMapper(standardize + leave)"
   ]
  },
  {
   "cell_type": "code",
   "execution_count": 5,
   "metadata": {
    "id": "BYSUlDPFBX2U"
   },
   "outputs": [],
   "source": [
    "x_train = x_mapper.fit_transform(df_train).astype('float32')\n",
    "x_val = x_mapper.transform(df_val).astype('float32')\n",
    "x_test = x_mapper.transform(df_test).astype('float32')"
   ]
  },
  {
   "cell_type": "code",
   "execution_count": 6,
   "metadata": {
    "id": "b478Tz-xBX2U",
    "colab": {
     "base_uri": "https://localhost:8080/"
    },
    "outputId": "4b58ac1f-0030-464e-b8b9-16a9b1cddfd4"
   },
   "outputs": [
    {
     "name": "stdout",
     "output_type": "stream",
     "text": [
      "285\n"
     ]
    }
   ],
   "source": [
    "num_durations = max(df_raw['time'])\n",
    "\n",
    "print(num_durations)\n",
    "\n",
    "labtrans = DeepHitSingle.label_transform(num_durations)\n",
    "\n",
    "get_target = lambda df: (df['time'].values, df['DEATH_EVENT'].values)\n",
    "y_train = labtrans.fit_transform(*get_target(df_train))\n",
    "y_val = labtrans.transform(*get_target(df_val))\n",
    "\n",
    "x_train.transpose()\n",
    "\n",
    "train = (x_train, y_train)\n",
    "val = (x_val, y_val)\n",
    "\n",
    "# We don't need to transform the test labels\n",
    "durations_test, events_test = get_target(df_test)"
   ]
  },
  {
   "cell_type": "markdown",
   "metadata": {
    "id": "AgrRPwMIBX2U"
   },
   "source": [
    "#### Training deep model"
   ]
  },
  {
   "cell_type": "code",
   "execution_count": 7,
   "metadata": {
    "id": "x3c1hasqBX2U"
   },
   "outputs": [],
   "source": [
    "in_features = x_train.shape[1]\n",
    "num_nodes = [4, 4]\n",
    "out_features = labtrans.out_features\n",
    "batch_norm = True\n",
    "dropout = 0.0\n",
    "\n",
    "net = tt.practical.MLPVanilla(in_features, num_nodes, out_features, batch_norm, dropout)"
   ]
  },
  {
   "cell_type": "code",
   "execution_count": 8,
   "metadata": {
    "id": "jxfUivzUBX2V"
   },
   "outputs": [],
   "source": [
    "model = DeepHitSingle(net, tt.optim.Adam(0.0001), duration_index=labtrans.cuts)"
   ]
  },
  {
   "cell_type": "code",
   "execution_count": 9,
   "metadata": {
    "id": "6SMM5porBX2V"
   },
   "outputs": [],
   "source": [
    "batch_size = 64\n",
    "epochs = 1000\n",
    "callbacks = []# [tt.cb.EarlyStopping()]"
   ]
  },
  {
   "cell_type": "code",
   "execution_count": 10,
   "metadata": {
    "id": "Gh--RRYoBX2V",
    "colab": {
     "base_uri": "https://localhost:8080/"
    },
    "outputId": "57a7de01-623b-4565-9338-33d657b02db6"
   },
   "outputs": [
    {
     "name": "stdout",
     "output_type": "stream",
     "text": [
      "0:\t[1s / 1s],\t\ttrain_loss: 0.7367,\tval_loss: 0.6723\n",
      "1:\t[0s / 1s],\t\ttrain_loss: 0.7373,\tval_loss: 0.6736\n",
      "2:\t[0s / 1s],\t\ttrain_loss: 0.7434,\tval_loss: 0.6754\n",
      "3:\t[0s / 1s],\t\ttrain_loss: 0.7409,\tval_loss: 0.6779\n",
      "4:\t[0s / 1s],\t\ttrain_loss: 0.7402,\tval_loss: 0.6803\n",
      "5:\t[0s / 1s],\t\ttrain_loss: 0.7319,\tval_loss: 0.6829\n",
      "6:\t[0s / 1s],\t\ttrain_loss: 0.7388,\tval_loss: 0.6854\n",
      "7:\t[0s / 1s],\t\ttrain_loss: 0.7360,\tval_loss: 0.6878\n",
      "8:\t[0s / 2s],\t\ttrain_loss: 0.7379,\tval_loss: 0.6898\n",
      "9:\t[0s / 2s],\t\ttrain_loss: 0.7370,\tval_loss: 0.6913\n",
      "10:\t[0s / 2s],\t\ttrain_loss: 0.7375,\tval_loss: 0.6925\n",
      "11:\t[0s / 2s],\t\ttrain_loss: 0.7329,\tval_loss: 0.6933\n",
      "12:\t[0s / 2s],\t\ttrain_loss: 0.7290,\tval_loss: 0.6939\n",
      "13:\t[0s / 2s],\t\ttrain_loss: 0.7364,\tval_loss: 0.6943\n",
      "14:\t[0s / 2s],\t\ttrain_loss: 0.7363,\tval_loss: 0.6948\n",
      "15:\t[0s / 2s],\t\ttrain_loss: 0.7359,\tval_loss: 0.6950\n",
      "16:\t[0s / 2s],\t\ttrain_loss: 0.7330,\tval_loss: 0.6951\n",
      "17:\t[0s / 2s],\t\ttrain_loss: 0.7362,\tval_loss: 0.6952\n",
      "18:\t[0s / 2s],\t\ttrain_loss: 0.7338,\tval_loss: 0.6951\n",
      "19:\t[0s / 2s],\t\ttrain_loss: 0.7321,\tval_loss: 0.6951\n",
      "20:\t[0s / 2s],\t\ttrain_loss: 0.7305,\tval_loss: 0.6949\n",
      "21:\t[0s / 2s],\t\ttrain_loss: 0.7332,\tval_loss: 0.6948\n",
      "22:\t[0s / 2s],\t\ttrain_loss: 0.7362,\tval_loss: 0.6948\n",
      "23:\t[0s / 2s],\t\ttrain_loss: 0.7311,\tval_loss: 0.6947\n",
      "24:\t[0s / 2s],\t\ttrain_loss: 0.7334,\tval_loss: 0.6945\n",
      "25:\t[0s / 2s],\t\ttrain_loss: 0.7303,\tval_loss: 0.6943\n",
      "26:\t[0s / 2s],\t\ttrain_loss: 0.7355,\tval_loss: 0.6942\n",
      "27:\t[0s / 2s],\t\ttrain_loss: 0.7304,\tval_loss: 0.6940\n",
      "28:\t[0s / 2s],\t\ttrain_loss: 0.7303,\tval_loss: 0.6941\n",
      "29:\t[0s / 2s],\t\ttrain_loss: 0.7281,\tval_loss: 0.6939\n",
      "30:\t[0s / 2s],\t\ttrain_loss: 0.7333,\tval_loss: 0.6936\n",
      "31:\t[0s / 2s],\t\ttrain_loss: 0.7280,\tval_loss: 0.6934\n",
      "32:\t[0s / 2s],\t\ttrain_loss: 0.7323,\tval_loss: 0.6934\n",
      "33:\t[0s / 2s],\t\ttrain_loss: 0.7297,\tval_loss: 0.6932\n",
      "34:\t[0s / 2s],\t\ttrain_loss: 0.7281,\tval_loss: 0.6931\n",
      "35:\t[0s / 2s],\t\ttrain_loss: 0.7318,\tval_loss: 0.6929\n",
      "36:\t[0s / 2s],\t\ttrain_loss: 0.7313,\tval_loss: 0.6925\n",
      "37:\t[0s / 2s],\t\ttrain_loss: 0.7316,\tval_loss: 0.6925\n",
      "38:\t[0s / 2s],\t\ttrain_loss: 0.7255,\tval_loss: 0.6922\n",
      "39:\t[0s / 2s],\t\ttrain_loss: 0.7246,\tval_loss: 0.6922\n",
      "40:\t[0s / 2s],\t\ttrain_loss: 0.7299,\tval_loss: 0.6921\n",
      "41:\t[0s / 2s],\t\ttrain_loss: 0.7316,\tval_loss: 0.6918\n",
      "42:\t[0s / 2s],\t\ttrain_loss: 0.7302,\tval_loss: 0.6918\n",
      "43:\t[0s / 2s],\t\ttrain_loss: 0.7268,\tval_loss: 0.6916\n",
      "44:\t[0s / 2s],\t\ttrain_loss: 0.7275,\tval_loss: 0.6914\n",
      "45:\t[0s / 2s],\t\ttrain_loss: 0.7299,\tval_loss: 0.6912\n",
      "46:\t[0s / 2s],\t\ttrain_loss: 0.7299,\tval_loss: 0.6911\n",
      "47:\t[0s / 2s],\t\ttrain_loss: 0.7313,\tval_loss: 0.6910\n",
      "48:\t[0s / 2s],\t\ttrain_loss: 0.7301,\tval_loss: 0.6910\n",
      "49:\t[0s / 2s],\t\ttrain_loss: 0.7306,\tval_loss: 0.6905\n",
      "50:\t[0s / 2s],\t\ttrain_loss: 0.7287,\tval_loss: 0.6905\n",
      "51:\t[0s / 2s],\t\ttrain_loss: 0.7278,\tval_loss: 0.6902\n",
      "52:\t[0s / 2s],\t\ttrain_loss: 0.7298,\tval_loss: 0.6902\n",
      "53:\t[0s / 2s],\t\ttrain_loss: 0.7273,\tval_loss: 0.6902\n",
      "54:\t[0s / 2s],\t\ttrain_loss: 0.7248,\tval_loss: 0.6900\n",
      "55:\t[0s / 2s],\t\ttrain_loss: 0.7275,\tval_loss: 0.6899\n",
      "56:\t[0s / 2s],\t\ttrain_loss: 0.7261,\tval_loss: 0.6896\n",
      "57:\t[0s / 2s],\t\ttrain_loss: 0.7288,\tval_loss: 0.6894\n",
      "58:\t[0s / 2s],\t\ttrain_loss: 0.7241,\tval_loss: 0.6895\n",
      "59:\t[0s / 2s],\t\ttrain_loss: 0.7302,\tval_loss: 0.6894\n",
      "60:\t[0s / 2s],\t\ttrain_loss: 0.7258,\tval_loss: 0.6891\n",
      "61:\t[0s / 2s],\t\ttrain_loss: 0.7277,\tval_loss: 0.6890\n",
      "62:\t[0s / 2s],\t\ttrain_loss: 0.7209,\tval_loss: 0.6887\n",
      "63:\t[0s / 2s],\t\ttrain_loss: 0.7233,\tval_loss: 0.6885\n",
      "64:\t[0s / 3s],\t\ttrain_loss: 0.7285,\tval_loss: 0.6885\n",
      "65:\t[0s / 3s],\t\ttrain_loss: 0.7238,\tval_loss: 0.6886\n",
      "66:\t[0s / 3s],\t\ttrain_loss: 0.7286,\tval_loss: 0.6885\n",
      "67:\t[0s / 3s],\t\ttrain_loss: 0.7253,\tval_loss: 0.6882\n",
      "68:\t[0s / 3s],\t\ttrain_loss: 0.7245,\tval_loss: 0.6882\n",
      "69:\t[0s / 3s],\t\ttrain_loss: 0.7273,\tval_loss: 0.6881\n",
      "70:\t[0s / 3s],\t\ttrain_loss: 0.7277,\tval_loss: 0.6881\n",
      "71:\t[0s / 3s],\t\ttrain_loss: 0.7240,\tval_loss: 0.6876\n",
      "72:\t[0s / 3s],\t\ttrain_loss: 0.7241,\tval_loss: 0.6876\n",
      "73:\t[0s / 3s],\t\ttrain_loss: 0.7267,\tval_loss: 0.6874\n",
      "74:\t[0s / 3s],\t\ttrain_loss: 0.7282,\tval_loss: 0.6874\n",
      "75:\t[0s / 3s],\t\ttrain_loss: 0.7261,\tval_loss: 0.6872\n",
      "76:\t[0s / 3s],\t\ttrain_loss: 0.7230,\tval_loss: 0.6870\n",
      "77:\t[0s / 3s],\t\ttrain_loss: 0.7210,\tval_loss: 0.6868\n",
      "78:\t[0s / 3s],\t\ttrain_loss: 0.7236,\tval_loss: 0.6867\n",
      "79:\t[0s / 3s],\t\ttrain_loss: 0.7206,\tval_loss: 0.6867\n",
      "80:\t[0s / 3s],\t\ttrain_loss: 0.7234,\tval_loss: 0.6867\n",
      "81:\t[0s / 3s],\t\ttrain_loss: 0.7223,\tval_loss: 0.6867\n",
      "82:\t[0s / 3s],\t\ttrain_loss: 0.7219,\tval_loss: 0.6867\n",
      "83:\t[0s / 3s],\t\ttrain_loss: 0.7232,\tval_loss: 0.6865\n",
      "84:\t[0s / 3s],\t\ttrain_loss: 0.7250,\tval_loss: 0.6864\n",
      "85:\t[0s / 3s],\t\ttrain_loss: 0.7263,\tval_loss: 0.6863\n",
      "86:\t[0s / 3s],\t\ttrain_loss: 0.7212,\tval_loss: 0.6860\n",
      "87:\t[0s / 3s],\t\ttrain_loss: 0.7227,\tval_loss: 0.6857\n",
      "88:\t[0s / 3s],\t\ttrain_loss: 0.7203,\tval_loss: 0.6856\n",
      "89:\t[0s / 3s],\t\ttrain_loss: 0.7222,\tval_loss: 0.6854\n",
      "90:\t[0s / 3s],\t\ttrain_loss: 0.7206,\tval_loss: 0.6853\n",
      "91:\t[0s / 3s],\t\ttrain_loss: 0.7230,\tval_loss: 0.6854\n",
      "92:\t[0s / 3s],\t\ttrain_loss: 0.7204,\tval_loss: 0.6855\n",
      "93:\t[0s / 3s],\t\ttrain_loss: 0.7208,\tval_loss: 0.6853\n",
      "94:\t[0s / 3s],\t\ttrain_loss: 0.7200,\tval_loss: 0.6851\n",
      "95:\t[0s / 3s],\t\ttrain_loss: 0.7241,\tval_loss: 0.6850\n",
      "96:\t[0s / 3s],\t\ttrain_loss: 0.7238,\tval_loss: 0.6848\n",
      "97:\t[0s / 3s],\t\ttrain_loss: 0.7196,\tval_loss: 0.6845\n",
      "98:\t[0s / 3s],\t\ttrain_loss: 0.7201,\tval_loss: 0.6845\n",
      "99:\t[0s / 3s],\t\ttrain_loss: 0.7183,\tval_loss: 0.6844\n",
      "100:\t[0s / 3s],\t\ttrain_loss: 0.7219,\tval_loss: 0.6844\n",
      "101:\t[0s / 3s],\t\ttrain_loss: 0.7219,\tval_loss: 0.6843\n",
      "102:\t[0s / 3s],\t\ttrain_loss: 0.7202,\tval_loss: 0.6842\n",
      "103:\t[0s / 3s],\t\ttrain_loss: 0.7202,\tval_loss: 0.6841\n",
      "104:\t[0s / 3s],\t\ttrain_loss: 0.7185,\tval_loss: 0.6839\n",
      "105:\t[0s / 3s],\t\ttrain_loss: 0.7217,\tval_loss: 0.6838\n",
      "106:\t[0s / 3s],\t\ttrain_loss: 0.7164,\tval_loss: 0.6836\n",
      "107:\t[0s / 3s],\t\ttrain_loss: 0.7185,\tval_loss: 0.6837\n",
      "108:\t[0s / 3s],\t\ttrain_loss: 0.7180,\tval_loss: 0.6836\n",
      "109:\t[0s / 3s],\t\ttrain_loss: 0.7189,\tval_loss: 0.6834\n",
      "110:\t[0s / 3s],\t\ttrain_loss: 0.7176,\tval_loss: 0.6833\n",
      "111:\t[0s / 3s],\t\ttrain_loss: 0.7173,\tval_loss: 0.6832\n",
      "112:\t[0s / 3s],\t\ttrain_loss: 0.7185,\tval_loss: 0.6830\n",
      "113:\t[0s / 3s],\t\ttrain_loss: 0.7129,\tval_loss: 0.6829\n",
      "114:\t[0s / 3s],\t\ttrain_loss: 0.7172,\tval_loss: 0.6827\n",
      "115:\t[0s / 3s],\t\ttrain_loss: 0.7167,\tval_loss: 0.6826\n",
      "116:\t[0s / 3s],\t\ttrain_loss: 0.7176,\tval_loss: 0.6825\n",
      "117:\t[0s / 3s],\t\ttrain_loss: 0.7165,\tval_loss: 0.6825\n",
      "118:\t[0s / 3s],\t\ttrain_loss: 0.7176,\tval_loss: 0.6825\n",
      "119:\t[0s / 3s],\t\ttrain_loss: 0.7184,\tval_loss: 0.6823\n",
      "120:\t[0s / 3s],\t\ttrain_loss: 0.7186,\tval_loss: 0.6822\n",
      "121:\t[0s / 3s],\t\ttrain_loss: 0.7149,\tval_loss: 0.6822\n",
      "122:\t[0s / 3s],\t\ttrain_loss: 0.7150,\tval_loss: 0.6820\n",
      "123:\t[0s / 3s],\t\ttrain_loss: 0.7162,\tval_loss: 0.6818\n",
      "124:\t[0s / 4s],\t\ttrain_loss: 0.7182,\tval_loss: 0.6820\n",
      "125:\t[0s / 4s],\t\ttrain_loss: 0.7181,\tval_loss: 0.6819\n",
      "126:\t[0s / 4s],\t\ttrain_loss: 0.7151,\tval_loss: 0.6817\n",
      "127:\t[0s / 4s],\t\ttrain_loss: 0.7166,\tval_loss: 0.6816\n",
      "128:\t[0s / 4s],\t\ttrain_loss: 0.7156,\tval_loss: 0.6815\n",
      "129:\t[0s / 4s],\t\ttrain_loss: 0.7149,\tval_loss: 0.6813\n",
      "130:\t[0s / 4s],\t\ttrain_loss: 0.7163,\tval_loss: 0.6811\n",
      "131:\t[0s / 4s],\t\ttrain_loss: 0.7182,\tval_loss: 0.6811\n",
      "132:\t[0s / 4s],\t\ttrain_loss: 0.7167,\tval_loss: 0.6811\n",
      "133:\t[0s / 4s],\t\ttrain_loss: 0.7153,\tval_loss: 0.6810\n",
      "134:\t[0s / 4s],\t\ttrain_loss: 0.7154,\tval_loss: 0.6809\n",
      "135:\t[0s / 4s],\t\ttrain_loss: 0.7144,\tval_loss: 0.6808\n",
      "136:\t[0s / 4s],\t\ttrain_loss: 0.7108,\tval_loss: 0.6808\n",
      "137:\t[0s / 4s],\t\ttrain_loss: 0.7151,\tval_loss: 0.6810\n",
      "138:\t[0s / 4s],\t\ttrain_loss: 0.7141,\tval_loss: 0.6808\n",
      "139:\t[0s / 4s],\t\ttrain_loss: 0.7172,\tval_loss: 0.6806\n",
      "140:\t[0s / 4s],\t\ttrain_loss: 0.7137,\tval_loss: 0.6806\n",
      "141:\t[0s / 4s],\t\ttrain_loss: 0.7170,\tval_loss: 0.6804\n",
      "142:\t[0s / 4s],\t\ttrain_loss: 0.7132,\tval_loss: 0.6804\n",
      "143:\t[0s / 4s],\t\ttrain_loss: 0.7140,\tval_loss: 0.6803\n",
      "144:\t[0s / 4s],\t\ttrain_loss: 0.7143,\tval_loss: 0.6803\n",
      "145:\t[0s / 4s],\t\ttrain_loss: 0.7152,\tval_loss: 0.6801\n",
      "146:\t[0s / 4s],\t\ttrain_loss: 0.7156,\tval_loss: 0.6801\n",
      "147:\t[0s / 4s],\t\ttrain_loss: 0.7137,\tval_loss: 0.6800\n",
      "148:\t[0s / 4s],\t\ttrain_loss: 0.7119,\tval_loss: 0.6799\n",
      "149:\t[0s / 4s],\t\ttrain_loss: 0.7145,\tval_loss: 0.6797\n",
      "150:\t[0s / 4s],\t\ttrain_loss: 0.7139,\tval_loss: 0.6796\n",
      "151:\t[0s / 4s],\t\ttrain_loss: 0.7110,\tval_loss: 0.6795\n",
      "152:\t[0s / 4s],\t\ttrain_loss: 0.7134,\tval_loss: 0.6795\n",
      "153:\t[0s / 4s],\t\ttrain_loss: 0.7134,\tval_loss: 0.6794\n",
      "154:\t[0s / 4s],\t\ttrain_loss: 0.7124,\tval_loss: 0.6793\n",
      "155:\t[0s / 4s],\t\ttrain_loss: 0.7112,\tval_loss: 0.6790\n",
      "156:\t[0s / 4s],\t\ttrain_loss: 0.7134,\tval_loss: 0.6789\n",
      "157:\t[0s / 4s],\t\ttrain_loss: 0.7114,\tval_loss: 0.6790\n",
      "158:\t[0s / 4s],\t\ttrain_loss: 0.7107,\tval_loss: 0.6788\n",
      "159:\t[0s / 4s],\t\ttrain_loss: 0.7146,\tval_loss: 0.6787\n",
      "160:\t[0s / 4s],\t\ttrain_loss: 0.7107,\tval_loss: 0.6786\n",
      "161:\t[0s / 4s],\t\ttrain_loss: 0.7130,\tval_loss: 0.6787\n",
      "162:\t[0s / 4s],\t\ttrain_loss: 0.7121,\tval_loss: 0.6787\n",
      "163:\t[0s / 4s],\t\ttrain_loss: 0.7099,\tval_loss: 0.6785\n",
      "164:\t[0s / 4s],\t\ttrain_loss: 0.7132,\tval_loss: 0.6785\n",
      "165:\t[0s / 4s],\t\ttrain_loss: 0.7075,\tval_loss: 0.6783\n",
      "166:\t[0s / 4s],\t\ttrain_loss: 0.7090,\tval_loss: 0.6781\n",
      "167:\t[0s / 4s],\t\ttrain_loss: 0.7114,\tval_loss: 0.6780\n",
      "168:\t[0s / 4s],\t\ttrain_loss: 0.7116,\tval_loss: 0.6781\n",
      "169:\t[0s / 4s],\t\ttrain_loss: 0.7094,\tval_loss: 0.6780\n",
      "170:\t[0s / 4s],\t\ttrain_loss: 0.7076,\tval_loss: 0.6779\n",
      "171:\t[0s / 4s],\t\ttrain_loss: 0.7063,\tval_loss: 0.6777\n",
      "172:\t[0s / 4s],\t\ttrain_loss: 0.7080,\tval_loss: 0.6776\n",
      "173:\t[0s / 4s],\t\ttrain_loss: 0.7094,\tval_loss: 0.6775\n",
      "174:\t[0s / 4s],\t\ttrain_loss: 0.7075,\tval_loss: 0.6774\n",
      "175:\t[0s / 4s],\t\ttrain_loss: 0.7105,\tval_loss: 0.6775\n",
      "176:\t[0s / 4s],\t\ttrain_loss: 0.7082,\tval_loss: 0.6774\n",
      "177:\t[0s / 4s],\t\ttrain_loss: 0.7075,\tval_loss: 0.6772\n",
      "178:\t[0s / 4s],\t\ttrain_loss: 0.7035,\tval_loss: 0.6772\n",
      "179:\t[0s / 4s],\t\ttrain_loss: 0.7086,\tval_loss: 0.6772\n",
      "180:\t[0s / 4s],\t\ttrain_loss: 0.7068,\tval_loss: 0.6770\n",
      "181:\t[0s / 4s],\t\ttrain_loss: 0.7098,\tval_loss: 0.6769\n",
      "182:\t[0s / 5s],\t\ttrain_loss: 0.7069,\tval_loss: 0.6769\n",
      "183:\t[0s / 5s],\t\ttrain_loss: 0.7082,\tval_loss: 0.6769\n",
      "184:\t[0s / 5s],\t\ttrain_loss: 0.7077,\tval_loss: 0.6768\n",
      "185:\t[0s / 5s],\t\ttrain_loss: 0.7064,\tval_loss: 0.6768\n",
      "186:\t[0s / 5s],\t\ttrain_loss: 0.7065,\tval_loss: 0.6767\n",
      "187:\t[0s / 5s],\t\ttrain_loss: 0.7059,\tval_loss: 0.6767\n",
      "188:\t[0s / 5s],\t\ttrain_loss: 0.7073,\tval_loss: 0.6766\n",
      "189:\t[0s / 5s],\t\ttrain_loss: 0.7081,\tval_loss: 0.6765\n",
      "190:\t[0s / 5s],\t\ttrain_loss: 0.7075,\tval_loss: 0.6765\n",
      "191:\t[0s / 5s],\t\ttrain_loss: 0.7069,\tval_loss: 0.6764\n",
      "192:\t[0s / 5s],\t\ttrain_loss: 0.7072,\tval_loss: 0.6763\n",
      "193:\t[0s / 5s],\t\ttrain_loss: 0.7065,\tval_loss: 0.6763\n",
      "194:\t[0s / 5s],\t\ttrain_loss: 0.7072,\tval_loss: 0.6762\n",
      "195:\t[0s / 5s],\t\ttrain_loss: 0.7033,\tval_loss: 0.6761\n",
      "196:\t[0s / 5s],\t\ttrain_loss: 0.7073,\tval_loss: 0.6760\n",
      "197:\t[0s / 5s],\t\ttrain_loss: 0.7076,\tval_loss: 0.6758\n",
      "198:\t[0s / 5s],\t\ttrain_loss: 0.7035,\tval_loss: 0.6757\n",
      "199:\t[0s / 5s],\t\ttrain_loss: 0.7066,\tval_loss: 0.6756\n",
      "200:\t[0s / 5s],\t\ttrain_loss: 0.7071,\tval_loss: 0.6756\n",
      "201:\t[0s / 5s],\t\ttrain_loss: 0.7040,\tval_loss: 0.6755\n",
      "202:\t[0s / 5s],\t\ttrain_loss: 0.7048,\tval_loss: 0.6755\n",
      "203:\t[0s / 5s],\t\ttrain_loss: 0.7032,\tval_loss: 0.6753\n",
      "204:\t[0s / 5s],\t\ttrain_loss: 0.7053,\tval_loss: 0.6752\n",
      "205:\t[0s / 5s],\t\ttrain_loss: 0.7003,\tval_loss: 0.6750\n",
      "206:\t[0s / 5s],\t\ttrain_loss: 0.7035,\tval_loss: 0.6747\n",
      "207:\t[0s / 5s],\t\ttrain_loss: 0.7040,\tval_loss: 0.6747\n",
      "208:\t[0s / 5s],\t\ttrain_loss: 0.7021,\tval_loss: 0.6747\n",
      "209:\t[0s / 5s],\t\ttrain_loss: 0.7054,\tval_loss: 0.6748\n",
      "210:\t[0s / 5s],\t\ttrain_loss: 0.7039,\tval_loss: 0.6746\n",
      "211:\t[0s / 5s],\t\ttrain_loss: 0.7058,\tval_loss: 0.6747\n",
      "212:\t[0s / 5s],\t\ttrain_loss: 0.7050,\tval_loss: 0.6748\n",
      "213:\t[0s / 5s],\t\ttrain_loss: 0.7039,\tval_loss: 0.6748\n",
      "214:\t[0s / 5s],\t\ttrain_loss: 0.7029,\tval_loss: 0.6746\n",
      "215:\t[0s / 5s],\t\ttrain_loss: 0.7020,\tval_loss: 0.6743\n",
      "216:\t[0s / 5s],\t\ttrain_loss: 0.7026,\tval_loss: 0.6743\n",
      "217:\t[0s / 5s],\t\ttrain_loss: 0.7055,\tval_loss: 0.6742\n",
      "218:\t[0s / 5s],\t\ttrain_loss: 0.7043,\tval_loss: 0.6741\n",
      "219:\t[0s / 5s],\t\ttrain_loss: 0.7016,\tval_loss: 0.6741\n",
      "220:\t[0s / 5s],\t\ttrain_loss: 0.7033,\tval_loss: 0.6740\n",
      "221:\t[0s / 5s],\t\ttrain_loss: 0.7048,\tval_loss: 0.6741\n",
      "222:\t[0s / 5s],\t\ttrain_loss: 0.7032,\tval_loss: 0.6739\n",
      "223:\t[0s / 5s],\t\ttrain_loss: 0.7010,\tval_loss: 0.6740\n",
      "224:\t[0s / 5s],\t\ttrain_loss: 0.7044,\tval_loss: 0.6739\n",
      "225:\t[0s / 5s],\t\ttrain_loss: 0.7041,\tval_loss: 0.6738\n",
      "226:\t[0s / 5s],\t\ttrain_loss: 0.7047,\tval_loss: 0.6736\n",
      "227:\t[0s / 5s],\t\ttrain_loss: 0.7021,\tval_loss: 0.6737\n",
      "228:\t[0s / 5s],\t\ttrain_loss: 0.7045,\tval_loss: 0.6736\n",
      "229:\t[0s / 5s],\t\ttrain_loss: 0.7019,\tval_loss: 0.6736\n",
      "230:\t[0s / 5s],\t\ttrain_loss: 0.7004,\tval_loss: 0.6735\n",
      "231:\t[0s / 5s],\t\ttrain_loss: 0.7014,\tval_loss: 0.6734\n",
      "232:\t[0s / 5s],\t\ttrain_loss: 0.7009,\tval_loss: 0.6734\n",
      "233:\t[0s / 5s],\t\ttrain_loss: 0.7030,\tval_loss: 0.6733\n",
      "234:\t[0s / 5s],\t\ttrain_loss: 0.7005,\tval_loss: 0.6732\n",
      "235:\t[0s / 5s],\t\ttrain_loss: 0.7019,\tval_loss: 0.6731\n",
      "236:\t[0s / 5s],\t\ttrain_loss: 0.6988,\tval_loss: 0.6731\n",
      "237:\t[0s / 5s],\t\ttrain_loss: 0.7028,\tval_loss: 0.6731\n",
      "238:\t[0s / 5s],\t\ttrain_loss: 0.7014,\tval_loss: 0.6730\n",
      "239:\t[0s / 6s],\t\ttrain_loss: 0.6966,\tval_loss: 0.6728\n",
      "240:\t[0s / 6s],\t\ttrain_loss: 0.7006,\tval_loss: 0.6728\n",
      "241:\t[0s / 6s],\t\ttrain_loss: 0.6998,\tval_loss: 0.6728\n",
      "242:\t[0s / 6s],\t\ttrain_loss: 0.6989,\tval_loss: 0.6726\n",
      "243:\t[0s / 6s],\t\ttrain_loss: 0.7022,\tval_loss: 0.6729\n",
      "244:\t[0s / 6s],\t\ttrain_loss: 0.6998,\tval_loss: 0.6728\n",
      "245:\t[0s / 6s],\t\ttrain_loss: 0.7002,\tval_loss: 0.6727\n",
      "246:\t[0s / 6s],\t\ttrain_loss: 0.6972,\tval_loss: 0.6725\n",
      "247:\t[0s / 6s],\t\ttrain_loss: 0.6985,\tval_loss: 0.6723\n",
      "248:\t[0s / 6s],\t\ttrain_loss: 0.7001,\tval_loss: 0.6722\n",
      "249:\t[0s / 6s],\t\ttrain_loss: 0.6999,\tval_loss: 0.6720\n",
      "250:\t[0s / 6s],\t\ttrain_loss: 0.6957,\tval_loss: 0.6720\n",
      "251:\t[0s / 6s],\t\ttrain_loss: 0.6983,\tval_loss: 0.6719\n",
      "252:\t[0s / 6s],\t\ttrain_loss: 0.6985,\tval_loss: 0.6718\n",
      "253:\t[0s / 6s],\t\ttrain_loss: 0.6980,\tval_loss: 0.6717\n",
      "254:\t[0s / 6s],\t\ttrain_loss: 0.6998,\tval_loss: 0.6719\n",
      "255:\t[0s / 6s],\t\ttrain_loss: 0.6972,\tval_loss: 0.6718\n",
      "256:\t[0s / 6s],\t\ttrain_loss: 0.6978,\tval_loss: 0.6717\n",
      "257:\t[0s / 6s],\t\ttrain_loss: 0.6964,\tval_loss: 0.6716\n",
      "258:\t[0s / 6s],\t\ttrain_loss: 0.6974,\tval_loss: 0.6717\n",
      "259:\t[0s / 6s],\t\ttrain_loss: 0.6999,\tval_loss: 0.6716\n",
      "260:\t[0s / 6s],\t\ttrain_loss: 0.6979,\tval_loss: 0.6715\n",
      "261:\t[0s / 6s],\t\ttrain_loss: 0.6902,\tval_loss: 0.6716\n",
      "262:\t[0s / 6s],\t\ttrain_loss: 0.6961,\tval_loss: 0.6717\n",
      "263:\t[0s / 6s],\t\ttrain_loss: 0.7034,\tval_loss: 0.6717\n",
      "264:\t[0s / 6s],\t\ttrain_loss: 0.6943,\tval_loss: 0.6715\n",
      "265:\t[0s / 6s],\t\ttrain_loss: 0.6959,\tval_loss: 0.6714\n",
      "266:\t[0s / 6s],\t\ttrain_loss: 0.6963,\tval_loss: 0.6714\n",
      "267:\t[0s / 6s],\t\ttrain_loss: 0.6954,\tval_loss: 0.6713\n",
      "268:\t[0s / 6s],\t\ttrain_loss: 0.6948,\tval_loss: 0.6714\n",
      "269:\t[0s / 6s],\t\ttrain_loss: 0.6959,\tval_loss: 0.6712\n",
      "270:\t[0s / 6s],\t\ttrain_loss: 0.6954,\tval_loss: 0.6710\n",
      "271:\t[0s / 6s],\t\ttrain_loss: 0.6969,\tval_loss: 0.6709\n",
      "272:\t[0s / 6s],\t\ttrain_loss: 0.6971,\tval_loss: 0.6709\n",
      "273:\t[0s / 6s],\t\ttrain_loss: 0.6951,\tval_loss: 0.6709\n",
      "274:\t[0s / 6s],\t\ttrain_loss: 0.6946,\tval_loss: 0.6710\n",
      "275:\t[0s / 6s],\t\ttrain_loss: 0.6946,\tval_loss: 0.6709\n",
      "276:\t[0s / 6s],\t\ttrain_loss: 0.6958,\tval_loss: 0.6707\n",
      "277:\t[0s / 6s],\t\ttrain_loss: 0.6963,\tval_loss: 0.6707\n",
      "278:\t[0s / 6s],\t\ttrain_loss: 0.6914,\tval_loss: 0.6706\n",
      "279:\t[0s / 6s],\t\ttrain_loss: 0.6962,\tval_loss: 0.6705\n",
      "280:\t[0s / 6s],\t\ttrain_loss: 0.6980,\tval_loss: 0.6705\n",
      "281:\t[0s / 6s],\t\ttrain_loss: 0.6922,\tval_loss: 0.6706\n",
      "282:\t[0s / 6s],\t\ttrain_loss: 0.6934,\tval_loss: 0.6705\n",
      "283:\t[0s / 6s],\t\ttrain_loss: 0.6957,\tval_loss: 0.6704\n",
      "284:\t[0s / 6s],\t\ttrain_loss: 0.6952,\tval_loss: 0.6704\n",
      "285:\t[0s / 6s],\t\ttrain_loss: 0.6938,\tval_loss: 0.6701\n",
      "286:\t[0s / 6s],\t\ttrain_loss: 0.6912,\tval_loss: 0.6700\n",
      "287:\t[0s / 6s],\t\ttrain_loss: 0.6960,\tval_loss: 0.6700\n",
      "288:\t[0s / 6s],\t\ttrain_loss: 0.6963,\tval_loss: 0.6700\n",
      "289:\t[0s / 6s],\t\ttrain_loss: 0.6930,\tval_loss: 0.6699\n",
      "290:\t[0s / 6s],\t\ttrain_loss: 0.6907,\tval_loss: 0.6698\n",
      "291:\t[0s / 6s],\t\ttrain_loss: 0.6924,\tval_loss: 0.6699\n",
      "292:\t[0s / 6s],\t\ttrain_loss: 0.6894,\tval_loss: 0.6699\n",
      "293:\t[0s / 6s],\t\ttrain_loss: 0.6888,\tval_loss: 0.6698\n",
      "294:\t[0s / 6s],\t\ttrain_loss: 0.6946,\tval_loss: 0.6697\n",
      "295:\t[0s / 7s],\t\ttrain_loss: 0.6918,\tval_loss: 0.6698\n",
      "296:\t[0s / 7s],\t\ttrain_loss: 0.6938,\tval_loss: 0.6698\n",
      "297:\t[0s / 7s],\t\ttrain_loss: 0.6922,\tval_loss: 0.6698\n",
      "298:\t[0s / 7s],\t\ttrain_loss: 0.6932,\tval_loss: 0.6696\n",
      "299:\t[0s / 7s],\t\ttrain_loss: 0.6915,\tval_loss: 0.6698\n",
      "300:\t[0s / 7s],\t\ttrain_loss: 0.6940,\tval_loss: 0.6697\n",
      "301:\t[0s / 7s],\t\ttrain_loss: 0.6910,\tval_loss: 0.6696\n",
      "302:\t[0s / 7s],\t\ttrain_loss: 0.6899,\tval_loss: 0.6696\n",
      "303:\t[0s / 7s],\t\ttrain_loss: 0.6917,\tval_loss: 0.6696\n",
      "304:\t[0s / 7s],\t\ttrain_loss: 0.6917,\tval_loss: 0.6696\n",
      "305:\t[0s / 7s],\t\ttrain_loss: 0.6926,\tval_loss: 0.6696\n",
      "306:\t[0s / 7s],\t\ttrain_loss: 0.6886,\tval_loss: 0.6695\n",
      "307:\t[0s / 7s],\t\ttrain_loss: 0.6914,\tval_loss: 0.6695\n",
      "308:\t[0s / 7s],\t\ttrain_loss: 0.6914,\tval_loss: 0.6695\n",
      "309:\t[0s / 7s],\t\ttrain_loss: 0.6895,\tval_loss: 0.6694\n",
      "310:\t[0s / 7s],\t\ttrain_loss: 0.6896,\tval_loss: 0.6692\n",
      "311:\t[0s / 7s],\t\ttrain_loss: 0.6899,\tval_loss: 0.6691\n",
      "312:\t[0s / 7s],\t\ttrain_loss: 0.6907,\tval_loss: 0.6691\n",
      "313:\t[0s / 7s],\t\ttrain_loss: 0.6872,\tval_loss: 0.6690\n",
      "314:\t[0s / 7s],\t\ttrain_loss: 0.6931,\tval_loss: 0.6691\n",
      "315:\t[0s / 7s],\t\ttrain_loss: 0.6874,\tval_loss: 0.6691\n",
      "316:\t[0s / 7s],\t\ttrain_loss: 0.6936,\tval_loss: 0.6693\n",
      "317:\t[0s / 7s],\t\ttrain_loss: 0.6887,\tval_loss: 0.6690\n",
      "318:\t[0s / 7s],\t\ttrain_loss: 0.6914,\tval_loss: 0.6689\n",
      "319:\t[0s / 7s],\t\ttrain_loss: 0.6870,\tval_loss: 0.6688\n",
      "320:\t[0s / 7s],\t\ttrain_loss: 0.6871,\tval_loss: 0.6687\n",
      "321:\t[0s / 7s],\t\ttrain_loss: 0.6894,\tval_loss: 0.6686\n",
      "322:\t[0s / 7s],\t\ttrain_loss: 0.6894,\tval_loss: 0.6686\n",
      "323:\t[0s / 7s],\t\ttrain_loss: 0.6885,\tval_loss: 0.6687\n",
      "324:\t[0s / 7s],\t\ttrain_loss: 0.6885,\tval_loss: 0.6686\n",
      "325:\t[0s / 7s],\t\ttrain_loss: 0.6871,\tval_loss: 0.6686\n",
      "326:\t[0s / 7s],\t\ttrain_loss: 0.6866,\tval_loss: 0.6686\n",
      "327:\t[0s / 7s],\t\ttrain_loss: 0.6863,\tval_loss: 0.6687\n",
      "328:\t[0s / 7s],\t\ttrain_loss: 0.6891,\tval_loss: 0.6686\n",
      "329:\t[0s / 7s],\t\ttrain_loss: 0.6847,\tval_loss: 0.6684\n",
      "330:\t[0s / 7s],\t\ttrain_loss: 0.6882,\tval_loss: 0.6684\n",
      "331:\t[0s / 7s],\t\ttrain_loss: 0.6884,\tval_loss: 0.6683\n",
      "332:\t[0s / 7s],\t\ttrain_loss: 0.6894,\tval_loss: 0.6684\n",
      "333:\t[0s / 7s],\t\ttrain_loss: 0.6888,\tval_loss: 0.6684\n",
      "334:\t[0s / 7s],\t\ttrain_loss: 0.6888,\tval_loss: 0.6685\n",
      "335:\t[0s / 7s],\t\ttrain_loss: 0.6868,\tval_loss: 0.6684\n",
      "336:\t[0s / 7s],\t\ttrain_loss: 0.6877,\tval_loss: 0.6682\n",
      "337:\t[0s / 7s],\t\ttrain_loss: 0.6880,\tval_loss: 0.6680\n",
      "338:\t[0s / 7s],\t\ttrain_loss: 0.6908,\tval_loss: 0.6682\n",
      "339:\t[0s / 7s],\t\ttrain_loss: 0.6864,\tval_loss: 0.6681\n",
      "340:\t[0s / 7s],\t\ttrain_loss: 0.6883,\tval_loss: 0.6681\n",
      "341:\t[0s / 7s],\t\ttrain_loss: 0.6856,\tval_loss: 0.6680\n",
      "342:\t[0s / 7s],\t\ttrain_loss: 0.6870,\tval_loss: 0.6678\n",
      "343:\t[0s / 7s],\t\ttrain_loss: 0.6873,\tval_loss: 0.6678\n",
      "344:\t[0s / 7s],\t\ttrain_loss: 0.6867,\tval_loss: 0.6678\n",
      "345:\t[0s / 7s],\t\ttrain_loss: 0.6863,\tval_loss: 0.6679\n",
      "346:\t[0s / 7s],\t\ttrain_loss: 0.6843,\tval_loss: 0.6677\n",
      "347:\t[0s / 7s],\t\ttrain_loss: 0.6897,\tval_loss: 0.6678\n",
      "348:\t[0s / 7s],\t\ttrain_loss: 0.6876,\tval_loss: 0.6677\n",
      "349:\t[0s / 7s],\t\ttrain_loss: 0.6865,\tval_loss: 0.6678\n",
      "350:\t[0s / 8s],\t\ttrain_loss: 0.6842,\tval_loss: 0.6677\n",
      "351:\t[0s / 8s],\t\ttrain_loss: 0.6904,\tval_loss: 0.6679\n",
      "352:\t[0s / 8s],\t\ttrain_loss: 0.6848,\tval_loss: 0.6678\n",
      "353:\t[0s / 8s],\t\ttrain_loss: 0.6850,\tval_loss: 0.6677\n",
      "354:\t[0s / 8s],\t\ttrain_loss: 0.6858,\tval_loss: 0.6675\n",
      "355:\t[0s / 8s],\t\ttrain_loss: 0.6850,\tval_loss: 0.6676\n",
      "356:\t[0s / 8s],\t\ttrain_loss: 0.6818,\tval_loss: 0.6675\n",
      "357:\t[0s / 8s],\t\ttrain_loss: 0.6861,\tval_loss: 0.6675\n",
      "358:\t[0s / 8s],\t\ttrain_loss: 0.6838,\tval_loss: 0.6674\n",
      "359:\t[0s / 8s],\t\ttrain_loss: 0.6850,\tval_loss: 0.6671\n",
      "360:\t[0s / 8s],\t\ttrain_loss: 0.6875,\tval_loss: 0.6671\n",
      "361:\t[0s / 8s],\t\ttrain_loss: 0.6864,\tval_loss: 0.6671\n",
      "362:\t[0s / 8s],\t\ttrain_loss: 0.6853,\tval_loss: 0.6672\n",
      "363:\t[0s / 8s],\t\ttrain_loss: 0.6808,\tval_loss: 0.6674\n",
      "364:\t[0s / 8s],\t\ttrain_loss: 0.6834,\tval_loss: 0.6672\n",
      "365:\t[0s / 8s],\t\ttrain_loss: 0.6813,\tval_loss: 0.6671\n",
      "366:\t[0s / 8s],\t\ttrain_loss: 0.6844,\tval_loss: 0.6672\n",
      "367:\t[0s / 8s],\t\ttrain_loss: 0.6830,\tval_loss: 0.6671\n",
      "368:\t[0s / 8s],\t\ttrain_loss: 0.6827,\tval_loss: 0.6672\n",
      "369:\t[0s / 8s],\t\ttrain_loss: 0.6812,\tval_loss: 0.6672\n",
      "370:\t[0s / 8s],\t\ttrain_loss: 0.6835,\tval_loss: 0.6672\n",
      "371:\t[0s / 8s],\t\ttrain_loss: 0.6829,\tval_loss: 0.6671\n",
      "372:\t[0s / 8s],\t\ttrain_loss: 0.6854,\tval_loss: 0.6671\n",
      "373:\t[0s / 8s],\t\ttrain_loss: 0.6797,\tval_loss: 0.6673\n",
      "374:\t[0s / 8s],\t\ttrain_loss: 0.6839,\tval_loss: 0.6669\n",
      "375:\t[0s / 8s],\t\ttrain_loss: 0.6855,\tval_loss: 0.6669\n",
      "376:\t[0s / 8s],\t\ttrain_loss: 0.6817,\tval_loss: 0.6669\n",
      "377:\t[0s / 8s],\t\ttrain_loss: 0.6799,\tval_loss: 0.6667\n",
      "378:\t[0s / 8s],\t\ttrain_loss: 0.6813,\tval_loss: 0.6668\n",
      "379:\t[0s / 8s],\t\ttrain_loss: 0.6833,\tval_loss: 0.6668\n",
      "380:\t[0s / 8s],\t\ttrain_loss: 0.6842,\tval_loss: 0.6669\n",
      "381:\t[0s / 8s],\t\ttrain_loss: 0.6812,\tval_loss: 0.6668\n",
      "382:\t[0s / 8s],\t\ttrain_loss: 0.6795,\tval_loss: 0.6669\n",
      "383:\t[0s / 8s],\t\ttrain_loss: 0.6826,\tval_loss: 0.6669\n",
      "384:\t[0s / 8s],\t\ttrain_loss: 0.6806,\tval_loss: 0.6668\n",
      "385:\t[0s / 8s],\t\ttrain_loss: 0.6823,\tval_loss: 0.6668\n",
      "386:\t[0s / 8s],\t\ttrain_loss: 0.6823,\tval_loss: 0.6667\n",
      "387:\t[0s / 8s],\t\ttrain_loss: 0.6837,\tval_loss: 0.6669\n",
      "388:\t[0s / 8s],\t\ttrain_loss: 0.6799,\tval_loss: 0.6667\n",
      "389:\t[0s / 8s],\t\ttrain_loss: 0.6811,\tval_loss: 0.6666\n",
      "390:\t[0s / 8s],\t\ttrain_loss: 0.6781,\tval_loss: 0.6664\n",
      "391:\t[0s / 8s],\t\ttrain_loss: 0.6793,\tval_loss: 0.6664\n",
      "392:\t[0s / 8s],\t\ttrain_loss: 0.6780,\tval_loss: 0.6664\n",
      "393:\t[0s / 8s],\t\ttrain_loss: 0.6794,\tval_loss: 0.6665\n",
      "394:\t[0s / 8s],\t\ttrain_loss: 0.6785,\tval_loss: 0.6666\n",
      "395:\t[0s / 8s],\t\ttrain_loss: 0.6801,\tval_loss: 0.6667\n",
      "396:\t[0s / 8s],\t\ttrain_loss: 0.6795,\tval_loss: 0.6666\n",
      "397:\t[0s / 8s],\t\ttrain_loss: 0.6796,\tval_loss: 0.6664\n",
      "398:\t[0s / 8s],\t\ttrain_loss: 0.6826,\tval_loss: 0.6664\n",
      "399:\t[0s / 8s],\t\ttrain_loss: 0.6796,\tval_loss: 0.6663\n",
      "400:\t[0s / 8s],\t\ttrain_loss: 0.6790,\tval_loss: 0.6663\n",
      "401:\t[0s / 8s],\t\ttrain_loss: 0.6770,\tval_loss: 0.6664\n",
      "402:\t[0s / 8s],\t\ttrain_loss: 0.6791,\tval_loss: 0.6665\n",
      "403:\t[0s / 8s],\t\ttrain_loss: 0.6767,\tval_loss: 0.6664\n",
      "404:\t[0s / 9s],\t\ttrain_loss: 0.6790,\tval_loss: 0.6663\n",
      "405:\t[0s / 9s],\t\ttrain_loss: 0.6819,\tval_loss: 0.6666\n",
      "406:\t[0s / 9s],\t\ttrain_loss: 0.6794,\tval_loss: 0.6666\n",
      "407:\t[0s / 9s],\t\ttrain_loss: 0.6807,\tval_loss: 0.6666\n",
      "408:\t[0s / 9s],\t\ttrain_loss: 0.6786,\tval_loss: 0.6665\n",
      "409:\t[0s / 9s],\t\ttrain_loss: 0.6753,\tval_loss: 0.6664\n",
      "410:\t[0s / 9s],\t\ttrain_loss: 0.6831,\tval_loss: 0.6665\n",
      "411:\t[0s / 9s],\t\ttrain_loss: 0.6782,\tval_loss: 0.6664\n",
      "412:\t[0s / 9s],\t\ttrain_loss: 0.6774,\tval_loss: 0.6663\n",
      "413:\t[0s / 9s],\t\ttrain_loss: 0.6779,\tval_loss: 0.6662\n",
      "414:\t[0s / 9s],\t\ttrain_loss: 0.6834,\tval_loss: 0.6664\n",
      "415:\t[0s / 9s],\t\ttrain_loss: 0.6759,\tval_loss: 0.6661\n",
      "416:\t[0s / 9s],\t\ttrain_loss: 0.6751,\tval_loss: 0.6662\n",
      "417:\t[0s / 9s],\t\ttrain_loss: 0.6776,\tval_loss: 0.6662\n",
      "418:\t[0s / 9s],\t\ttrain_loss: 0.6774,\tval_loss: 0.6661\n",
      "419:\t[0s / 9s],\t\ttrain_loss: 0.6751,\tval_loss: 0.6661\n",
      "420:\t[0s / 9s],\t\ttrain_loss: 0.6764,\tval_loss: 0.6662\n",
      "421:\t[0s / 9s],\t\ttrain_loss: 0.6751,\tval_loss: 0.6660\n",
      "422:\t[0s / 9s],\t\ttrain_loss: 0.6772,\tval_loss: 0.6661\n",
      "423:\t[0s / 9s],\t\ttrain_loss: 0.6783,\tval_loss: 0.6660\n",
      "424:\t[0s / 9s],\t\ttrain_loss: 0.6777,\tval_loss: 0.6661\n",
      "425:\t[0s / 9s],\t\ttrain_loss: 0.6775,\tval_loss: 0.6661\n",
      "426:\t[0s / 9s],\t\ttrain_loss: 0.6757,\tval_loss: 0.6663\n",
      "427:\t[0s / 9s],\t\ttrain_loss: 0.6746,\tval_loss: 0.6661\n",
      "428:\t[0s / 9s],\t\ttrain_loss: 0.6785,\tval_loss: 0.6661\n",
      "429:\t[0s / 9s],\t\ttrain_loss: 0.6781,\tval_loss: 0.6660\n",
      "430:\t[0s / 9s],\t\ttrain_loss: 0.6759,\tval_loss: 0.6660\n",
      "431:\t[0s / 9s],\t\ttrain_loss: 0.6761,\tval_loss: 0.6659\n",
      "432:\t[0s / 9s],\t\ttrain_loss: 0.6727,\tval_loss: 0.6657\n",
      "433:\t[0s / 9s],\t\ttrain_loss: 0.6748,\tval_loss: 0.6657\n",
      "434:\t[0s / 9s],\t\ttrain_loss: 0.6744,\tval_loss: 0.6658\n",
      "435:\t[0s / 9s],\t\ttrain_loss: 0.6745,\tval_loss: 0.6658\n",
      "436:\t[0s / 9s],\t\ttrain_loss: 0.6794,\tval_loss: 0.6658\n",
      "437:\t[0s / 9s],\t\ttrain_loss: 0.6750,\tval_loss: 0.6657\n",
      "438:\t[0s / 9s],\t\ttrain_loss: 0.6741,\tval_loss: 0.6656\n",
      "439:\t[0s / 9s],\t\ttrain_loss: 0.6733,\tval_loss: 0.6657\n",
      "440:\t[0s / 9s],\t\ttrain_loss: 0.6740,\tval_loss: 0.6660\n",
      "441:\t[0s / 9s],\t\ttrain_loss: 0.6754,\tval_loss: 0.6659\n",
      "442:\t[0s / 9s],\t\ttrain_loss: 0.6750,\tval_loss: 0.6658\n",
      "443:\t[0s / 9s],\t\ttrain_loss: 0.6745,\tval_loss: 0.6658\n",
      "444:\t[0s / 9s],\t\ttrain_loss: 0.6701,\tval_loss: 0.6657\n",
      "445:\t[0s / 9s],\t\ttrain_loss: 0.6763,\tval_loss: 0.6658\n",
      "446:\t[0s / 9s],\t\ttrain_loss: 0.6749,\tval_loss: 0.6658\n",
      "447:\t[0s / 9s],\t\ttrain_loss: 0.6741,\tval_loss: 0.6657\n",
      "448:\t[0s / 9s],\t\ttrain_loss: 0.6731,\tval_loss: 0.6656\n",
      "449:\t[0s / 9s],\t\ttrain_loss: 0.6721,\tval_loss: 0.6657\n",
      "450:\t[0s / 9s],\t\ttrain_loss: 0.6768,\tval_loss: 0.6656\n",
      "451:\t[0s / 9s],\t\ttrain_loss: 0.6752,\tval_loss: 0.6655\n",
      "452:\t[0s / 9s],\t\ttrain_loss: 0.6737,\tval_loss: 0.6656\n",
      "453:\t[0s / 9s],\t\ttrain_loss: 0.6715,\tval_loss: 0.6656\n",
      "454:\t[0s / 9s],\t\ttrain_loss: 0.6728,\tval_loss: 0.6657\n",
      "455:\t[0s / 9s],\t\ttrain_loss: 0.6723,\tval_loss: 0.6654\n",
      "456:\t[0s / 10s],\t\ttrain_loss: 0.6719,\tval_loss: 0.6654\n",
      "457:\t[0s / 10s],\t\ttrain_loss: 0.6723,\tval_loss: 0.6654\n",
      "458:\t[0s / 10s],\t\ttrain_loss: 0.6713,\tval_loss: 0.6652\n",
      "459:\t[0s / 10s],\t\ttrain_loss: 0.6720,\tval_loss: 0.6653\n",
      "460:\t[0s / 10s],\t\ttrain_loss: 0.6720,\tval_loss: 0.6654\n",
      "461:\t[0s / 10s],\t\ttrain_loss: 0.6725,\tval_loss: 0.6655\n",
      "462:\t[0s / 10s],\t\ttrain_loss: 0.6737,\tval_loss: 0.6656\n",
      "463:\t[0s / 10s],\t\ttrain_loss: 0.6713,\tval_loss: 0.6655\n",
      "464:\t[0s / 10s],\t\ttrain_loss: 0.6692,\tval_loss: 0.6654\n",
      "465:\t[0s / 10s],\t\ttrain_loss: 0.6678,\tval_loss: 0.6654\n",
      "466:\t[0s / 10s],\t\ttrain_loss: 0.6705,\tval_loss: 0.6656\n",
      "467:\t[0s / 10s],\t\ttrain_loss: 0.6731,\tval_loss: 0.6655\n",
      "468:\t[0s / 10s],\t\ttrain_loss: 0.6751,\tval_loss: 0.6653\n",
      "469:\t[0s / 10s],\t\ttrain_loss: 0.6677,\tval_loss: 0.6654\n",
      "470:\t[0s / 10s],\t\ttrain_loss: 0.6713,\tval_loss: 0.6654\n",
      "471:\t[0s / 10s],\t\ttrain_loss: 0.6755,\tval_loss: 0.6660\n",
      "472:\t[0s / 10s],\t\ttrain_loss: 0.6709,\tval_loss: 0.6659\n",
      "473:\t[0s / 10s],\t\ttrain_loss: 0.6711,\tval_loss: 0.6658\n",
      "474:\t[0s / 10s],\t\ttrain_loss: 0.6699,\tval_loss: 0.6658\n",
      "475:\t[0s / 10s],\t\ttrain_loss: 0.6719,\tval_loss: 0.6656\n",
      "476:\t[0s / 10s],\t\ttrain_loss: 0.6724,\tval_loss: 0.6656\n",
      "477:\t[0s / 10s],\t\ttrain_loss: 0.6724,\tval_loss: 0.6654\n",
      "478:\t[0s / 10s],\t\ttrain_loss: 0.6717,\tval_loss: 0.6652\n",
      "479:\t[0s / 10s],\t\ttrain_loss: 0.6700,\tval_loss: 0.6654\n",
      "480:\t[0s / 10s],\t\ttrain_loss: 0.6713,\tval_loss: 0.6652\n",
      "481:\t[0s / 10s],\t\ttrain_loss: 0.6681,\tval_loss: 0.6652\n",
      "482:\t[0s / 10s],\t\ttrain_loss: 0.6724,\tval_loss: 0.6653\n",
      "483:\t[0s / 10s],\t\ttrain_loss: 0.6699,\tval_loss: 0.6651\n",
      "484:\t[0s / 10s],\t\ttrain_loss: 0.6695,\tval_loss: 0.6653\n",
      "485:\t[0s / 10s],\t\ttrain_loss: 0.6683,\tval_loss: 0.6653\n",
      "486:\t[0s / 10s],\t\ttrain_loss: 0.6693,\tval_loss: 0.6652\n",
      "487:\t[0s / 10s],\t\ttrain_loss: 0.6681,\tval_loss: 0.6651\n",
      "488:\t[0s / 10s],\t\ttrain_loss: 0.6694,\tval_loss: 0.6649\n",
      "489:\t[0s / 10s],\t\ttrain_loss: 0.6683,\tval_loss: 0.6649\n",
      "490:\t[0s / 10s],\t\ttrain_loss: 0.6707,\tval_loss: 0.6650\n",
      "491:\t[0s / 10s],\t\ttrain_loss: 0.6688,\tval_loss: 0.6651\n",
      "492:\t[0s / 10s],\t\ttrain_loss: 0.6696,\tval_loss: 0.6655\n",
      "493:\t[0s / 10s],\t\ttrain_loss: 0.6689,\tval_loss: 0.6655\n",
      "494:\t[0s / 10s],\t\ttrain_loss: 0.6682,\tval_loss: 0.6654\n",
      "495:\t[0s / 10s],\t\ttrain_loss: 0.6708,\tval_loss: 0.6655\n",
      "496:\t[0s / 10s],\t\ttrain_loss: 0.6672,\tval_loss: 0.6654\n",
      "497:\t[0s / 10s],\t\ttrain_loss: 0.6701,\tval_loss: 0.6653\n",
      "498:\t[0s / 10s],\t\ttrain_loss: 0.6728,\tval_loss: 0.6654\n",
      "499:\t[0s / 10s],\t\ttrain_loss: 0.6657,\tval_loss: 0.6651\n",
      "500:\t[0s / 10s],\t\ttrain_loss: 0.6661,\tval_loss: 0.6649\n",
      "501:\t[0s / 10s],\t\ttrain_loss: 0.6694,\tval_loss: 0.6647\n",
      "502:\t[0s / 10s],\t\ttrain_loss: 0.6682,\tval_loss: 0.6649\n",
      "503:\t[0s / 10s],\t\ttrain_loss: 0.6696,\tval_loss: 0.6651\n",
      "504:\t[0s / 10s],\t\ttrain_loss: 0.6649,\tval_loss: 0.6648\n",
      "505:\t[0s / 10s],\t\ttrain_loss: 0.6664,\tval_loss: 0.6648\n",
      "506:\t[0s / 10s],\t\ttrain_loss: 0.6679,\tval_loss: 0.6648\n",
      "507:\t[0s / 10s],\t\ttrain_loss: 0.6678,\tval_loss: 0.6650\n",
      "508:\t[0s / 10s],\t\ttrain_loss: 0.6682,\tval_loss: 0.6648\n",
      "509:\t[0s / 10s],\t\ttrain_loss: 0.6678,\tval_loss: 0.6650\n",
      "510:\t[0s / 10s],\t\ttrain_loss: 0.6695,\tval_loss: 0.6651\n",
      "511:\t[0s / 10s],\t\ttrain_loss: 0.6667,\tval_loss: 0.6651\n",
      "512:\t[0s / 11s],\t\ttrain_loss: 0.6689,\tval_loss: 0.6651\n",
      "513:\t[0s / 11s],\t\ttrain_loss: 0.6677,\tval_loss: 0.6649\n",
      "514:\t[0s / 11s],\t\ttrain_loss: 0.6668,\tval_loss: 0.6648\n",
      "515:\t[0s / 11s],\t\ttrain_loss: 0.6676,\tval_loss: 0.6649\n",
      "516:\t[0s / 11s],\t\ttrain_loss: 0.6664,\tval_loss: 0.6648\n",
      "517:\t[0s / 11s],\t\ttrain_loss: 0.6614,\tval_loss: 0.6648\n",
      "518:\t[0s / 11s],\t\ttrain_loss: 0.6665,\tval_loss: 0.6647\n",
      "519:\t[0s / 11s],\t\ttrain_loss: 0.6689,\tval_loss: 0.6648\n",
      "520:\t[0s / 11s],\t\ttrain_loss: 0.6631,\tval_loss: 0.6649\n",
      "521:\t[0s / 11s],\t\ttrain_loss: 0.6648,\tval_loss: 0.6649\n",
      "522:\t[0s / 11s],\t\ttrain_loss: 0.6656,\tval_loss: 0.6647\n",
      "523:\t[0s / 11s],\t\ttrain_loss: 0.6655,\tval_loss: 0.6647\n",
      "524:\t[0s / 11s],\t\ttrain_loss: 0.6587,\tval_loss: 0.6647\n",
      "525:\t[0s / 11s],\t\ttrain_loss: 0.6661,\tval_loss: 0.6647\n",
      "526:\t[0s / 11s],\t\ttrain_loss: 0.6629,\tval_loss: 0.6646\n",
      "527:\t[0s / 11s],\t\ttrain_loss: 0.6658,\tval_loss: 0.6645\n",
      "528:\t[0s / 11s],\t\ttrain_loss: 0.6637,\tval_loss: 0.6644\n",
      "529:\t[0s / 11s],\t\ttrain_loss: 0.6652,\tval_loss: 0.6643\n",
      "530:\t[0s / 11s],\t\ttrain_loss: 0.6652,\tval_loss: 0.6645\n",
      "531:\t[0s / 11s],\t\ttrain_loss: 0.6629,\tval_loss: 0.6643\n",
      "532:\t[0s / 11s],\t\ttrain_loss: 0.6650,\tval_loss: 0.6643\n",
      "533:\t[0s / 11s],\t\ttrain_loss: 0.6647,\tval_loss: 0.6647\n",
      "534:\t[0s / 11s],\t\ttrain_loss: 0.6625,\tval_loss: 0.6646\n",
      "535:\t[0s / 11s],\t\ttrain_loss: 0.6628,\tval_loss: 0.6646\n",
      "536:\t[0s / 11s],\t\ttrain_loss: 0.6634,\tval_loss: 0.6646\n",
      "537:\t[0s / 11s],\t\ttrain_loss: 0.6624,\tval_loss: 0.6647\n",
      "538:\t[0s / 11s],\t\ttrain_loss: 0.6616,\tval_loss: 0.6647\n",
      "539:\t[0s / 11s],\t\ttrain_loss: 0.6637,\tval_loss: 0.6645\n",
      "540:\t[0s / 11s],\t\ttrain_loss: 0.6614,\tval_loss: 0.6644\n",
      "541:\t[0s / 11s],\t\ttrain_loss: 0.6623,\tval_loss: 0.6645\n",
      "542:\t[0s / 11s],\t\ttrain_loss: 0.6605,\tval_loss: 0.6644\n",
      "543:\t[0s / 11s],\t\ttrain_loss: 0.6678,\tval_loss: 0.6645\n",
      "544:\t[0s / 11s],\t\ttrain_loss: 0.6632,\tval_loss: 0.6644\n",
      "545:\t[0s / 11s],\t\ttrain_loss: 0.6656,\tval_loss: 0.6646\n",
      "546:\t[0s / 11s],\t\ttrain_loss: 0.6694,\tval_loss: 0.6648\n",
      "547:\t[0s / 11s],\t\ttrain_loss: 0.6606,\tval_loss: 0.6648\n",
      "548:\t[0s / 11s],\t\ttrain_loss: 0.6597,\tval_loss: 0.6648\n",
      "549:\t[0s / 11s],\t\ttrain_loss: 0.6614,\tval_loss: 0.6646\n",
      "550:\t[0s / 11s],\t\ttrain_loss: 0.6573,\tval_loss: 0.6646\n",
      "551:\t[0s / 11s],\t\ttrain_loss: 0.6649,\tval_loss: 0.6646\n",
      "552:\t[0s / 11s],\t\ttrain_loss: 0.6583,\tval_loss: 0.6644\n",
      "553:\t[0s / 11s],\t\ttrain_loss: 0.6619,\tval_loss: 0.6645\n",
      "554:\t[0s / 11s],\t\ttrain_loss: 0.6608,\tval_loss: 0.6646\n",
      "555:\t[0s / 11s],\t\ttrain_loss: 0.6604,\tval_loss: 0.6643\n",
      "556:\t[0s / 11s],\t\ttrain_loss: 0.6586,\tval_loss: 0.6645\n",
      "557:\t[0s / 11s],\t\ttrain_loss: 0.6602,\tval_loss: 0.6646\n",
      "558:\t[0s / 11s],\t\ttrain_loss: 0.6634,\tval_loss: 0.6647\n",
      "559:\t[0s / 11s],\t\ttrain_loss: 0.6613,\tval_loss: 0.6646\n",
      "560:\t[0s / 11s],\t\ttrain_loss: 0.6589,\tval_loss: 0.6647\n",
      "561:\t[0s / 11s],\t\ttrain_loss: 0.6600,\tval_loss: 0.6646\n",
      "562:\t[0s / 11s],\t\ttrain_loss: 0.6620,\tval_loss: 0.6646\n",
      "563:\t[0s / 11s],\t\ttrain_loss: 0.6629,\tval_loss: 0.6644\n",
      "564:\t[0s / 11s],\t\ttrain_loss: 0.6578,\tval_loss: 0.6643\n",
      "565:\t[0s / 11s],\t\ttrain_loss: 0.6605,\tval_loss: 0.6643\n",
      "566:\t[0s / 12s],\t\ttrain_loss: 0.6631,\tval_loss: 0.6643\n",
      "567:\t[0s / 12s],\t\ttrain_loss: 0.6543,\tval_loss: 0.6641\n",
      "568:\t[0s / 12s],\t\ttrain_loss: 0.6575,\tval_loss: 0.6644\n",
      "569:\t[0s / 12s],\t\ttrain_loss: 0.6607,\tval_loss: 0.6646\n",
      "570:\t[0s / 12s],\t\ttrain_loss: 0.6621,\tval_loss: 0.6643\n",
      "571:\t[0s / 12s],\t\ttrain_loss: 0.6628,\tval_loss: 0.6645\n",
      "572:\t[0s / 12s],\t\ttrain_loss: 0.6583,\tval_loss: 0.6646\n",
      "573:\t[0s / 12s],\t\ttrain_loss: 0.6599,\tval_loss: 0.6647\n",
      "574:\t[0s / 12s],\t\ttrain_loss: 0.6603,\tval_loss: 0.6646\n",
      "575:\t[0s / 12s],\t\ttrain_loss: 0.6612,\tval_loss: 0.6649\n",
      "576:\t[0s / 12s],\t\ttrain_loss: 0.6598,\tval_loss: 0.6648\n",
      "577:\t[0s / 12s],\t\ttrain_loss: 0.6591,\tval_loss: 0.6649\n",
      "578:\t[0s / 12s],\t\ttrain_loss: 0.6561,\tval_loss: 0.6649\n",
      "579:\t[0s / 12s],\t\ttrain_loss: 0.6595,\tval_loss: 0.6650\n",
      "580:\t[0s / 12s],\t\ttrain_loss: 0.6609,\tval_loss: 0.6649\n",
      "581:\t[0s / 12s],\t\ttrain_loss: 0.6577,\tval_loss: 0.6645\n",
      "582:\t[0s / 12s],\t\ttrain_loss: 0.6598,\tval_loss: 0.6645\n",
      "583:\t[0s / 12s],\t\ttrain_loss: 0.6612,\tval_loss: 0.6646\n",
      "584:\t[0s / 12s],\t\ttrain_loss: 0.6556,\tval_loss: 0.6647\n",
      "585:\t[0s / 12s],\t\ttrain_loss: 0.6578,\tval_loss: 0.6647\n",
      "586:\t[0s / 12s],\t\ttrain_loss: 0.6570,\tval_loss: 0.6644\n",
      "587:\t[0s / 12s],\t\ttrain_loss: 0.6575,\tval_loss: 0.6643\n",
      "588:\t[0s / 12s],\t\ttrain_loss: 0.6590,\tval_loss: 0.6644\n",
      "589:\t[0s / 12s],\t\ttrain_loss: 0.6576,\tval_loss: 0.6646\n",
      "590:\t[0s / 12s],\t\ttrain_loss: 0.6576,\tval_loss: 0.6646\n",
      "591:\t[0s / 12s],\t\ttrain_loss: 0.6552,\tval_loss: 0.6645\n",
      "592:\t[0s / 12s],\t\ttrain_loss: 0.6580,\tval_loss: 0.6646\n",
      "593:\t[0s / 12s],\t\ttrain_loss: 0.6551,\tval_loss: 0.6646\n",
      "594:\t[0s / 12s],\t\ttrain_loss: 0.6558,\tval_loss: 0.6648\n",
      "595:\t[0s / 12s],\t\ttrain_loss: 0.6565,\tval_loss: 0.6644\n",
      "596:\t[0s / 12s],\t\ttrain_loss: 0.6590,\tval_loss: 0.6645\n",
      "597:\t[0s / 12s],\t\ttrain_loss: 0.6572,\tval_loss: 0.6645\n",
      "598:\t[0s / 12s],\t\ttrain_loss: 0.6601,\tval_loss: 0.6646\n",
      "599:\t[0s / 12s],\t\ttrain_loss: 0.6603,\tval_loss: 0.6646\n",
      "600:\t[0s / 12s],\t\ttrain_loss: 0.6552,\tval_loss: 0.6647\n",
      "601:\t[0s / 12s],\t\ttrain_loss: 0.6584,\tval_loss: 0.6647\n",
      "602:\t[0s / 12s],\t\ttrain_loss: 0.6619,\tval_loss: 0.6644\n",
      "603:\t[0s / 12s],\t\ttrain_loss: 0.6581,\tval_loss: 0.6646\n",
      "604:\t[0s / 12s],\t\ttrain_loss: 0.6562,\tval_loss: 0.6643\n",
      "605:\t[0s / 12s],\t\ttrain_loss: 0.6589,\tval_loss: 0.6644\n",
      "606:\t[0s / 12s],\t\ttrain_loss: 0.6562,\tval_loss: 0.6643\n",
      "607:\t[0s / 12s],\t\ttrain_loss: 0.6582,\tval_loss: 0.6645\n",
      "608:\t[0s / 12s],\t\ttrain_loss: 0.6567,\tval_loss: 0.6642\n",
      "609:\t[0s / 12s],\t\ttrain_loss: 0.6569,\tval_loss: 0.6644\n",
      "610:\t[0s / 12s],\t\ttrain_loss: 0.6553,\tval_loss: 0.6644\n",
      "611:\t[0s / 12s],\t\ttrain_loss: 0.6570,\tval_loss: 0.6644\n",
      "612:\t[0s / 12s],\t\ttrain_loss: 0.6541,\tval_loss: 0.6647\n",
      "613:\t[0s / 12s],\t\ttrain_loss: 0.6551,\tval_loss: 0.6646\n",
      "614:\t[0s / 12s],\t\ttrain_loss: 0.6546,\tval_loss: 0.6644\n",
      "615:\t[0s / 12s],\t\ttrain_loss: 0.6574,\tval_loss: 0.6642\n",
      "616:\t[0s / 12s],\t\ttrain_loss: 0.6578,\tval_loss: 0.6647\n",
      "617:\t[0s / 12s],\t\ttrain_loss: 0.6584,\tval_loss: 0.6648\n",
      "618:\t[0s / 12s],\t\ttrain_loss: 0.6543,\tval_loss: 0.6646\n",
      "619:\t[0s / 13s],\t\ttrain_loss: 0.6562,\tval_loss: 0.6647\n",
      "620:\t[0s / 13s],\t\ttrain_loss: 0.6560,\tval_loss: 0.6646\n",
      "621:\t[0s / 13s],\t\ttrain_loss: 0.6529,\tval_loss: 0.6645\n",
      "622:\t[0s / 13s],\t\ttrain_loss: 0.6544,\tval_loss: 0.6644\n",
      "623:\t[0s / 13s],\t\ttrain_loss: 0.6578,\tval_loss: 0.6644\n",
      "624:\t[0s / 13s],\t\ttrain_loss: 0.6544,\tval_loss: 0.6643\n",
      "625:\t[0s / 13s],\t\ttrain_loss: 0.6551,\tval_loss: 0.6645\n",
      "626:\t[0s / 13s],\t\ttrain_loss: 0.6543,\tval_loss: 0.6644\n",
      "627:\t[0s / 13s],\t\ttrain_loss: 0.6540,\tval_loss: 0.6643\n",
      "628:\t[0s / 13s],\t\ttrain_loss: 0.6570,\tval_loss: 0.6643\n",
      "629:\t[0s / 13s],\t\ttrain_loss: 0.6575,\tval_loss: 0.6641\n",
      "630:\t[0s / 13s],\t\ttrain_loss: 0.6529,\tval_loss: 0.6642\n",
      "631:\t[0s / 13s],\t\ttrain_loss: 0.6540,\tval_loss: 0.6643\n",
      "632:\t[0s / 13s],\t\ttrain_loss: 0.6523,\tval_loss: 0.6642\n",
      "633:\t[0s / 13s],\t\ttrain_loss: 0.6591,\tval_loss: 0.6643\n",
      "634:\t[0s / 13s],\t\ttrain_loss: 0.6532,\tval_loss: 0.6641\n",
      "635:\t[0s / 13s],\t\ttrain_loss: 0.6512,\tval_loss: 0.6640\n",
      "636:\t[0s / 13s],\t\ttrain_loss: 0.6515,\tval_loss: 0.6640\n",
      "637:\t[0s / 13s],\t\ttrain_loss: 0.6517,\tval_loss: 0.6644\n",
      "638:\t[0s / 13s],\t\ttrain_loss: 0.6524,\tval_loss: 0.6644\n",
      "639:\t[0s / 13s],\t\ttrain_loss: 0.6546,\tval_loss: 0.6644\n",
      "640:\t[0s / 13s],\t\ttrain_loss: 0.6597,\tval_loss: 0.6642\n",
      "641:\t[0s / 13s],\t\ttrain_loss: 0.6521,\tval_loss: 0.6641\n",
      "642:\t[0s / 13s],\t\ttrain_loss: 0.6534,\tval_loss: 0.6641\n",
      "643:\t[0s / 13s],\t\ttrain_loss: 0.6544,\tval_loss: 0.6641\n",
      "644:\t[0s / 13s],\t\ttrain_loss: 0.6518,\tval_loss: 0.6643\n",
      "645:\t[0s / 13s],\t\ttrain_loss: 0.6572,\tval_loss: 0.6643\n",
      "646:\t[0s / 13s],\t\ttrain_loss: 0.6499,\tval_loss: 0.6642\n",
      "647:\t[0s / 13s],\t\ttrain_loss: 0.6513,\tval_loss: 0.6642\n",
      "648:\t[0s / 13s],\t\ttrain_loss: 0.6493,\tval_loss: 0.6641\n",
      "649:\t[0s / 13s],\t\ttrain_loss: 0.6511,\tval_loss: 0.6642\n",
      "650:\t[0s / 13s],\t\ttrain_loss: 0.6558,\tval_loss: 0.6646\n",
      "651:\t[0s / 13s],\t\ttrain_loss: 0.6527,\tval_loss: 0.6644\n",
      "652:\t[0s / 13s],\t\ttrain_loss: 0.6536,\tval_loss: 0.6643\n",
      "653:\t[0s / 13s],\t\ttrain_loss: 0.6520,\tval_loss: 0.6643\n",
      "654:\t[0s / 13s],\t\ttrain_loss: 0.6500,\tval_loss: 0.6641\n",
      "655:\t[0s / 13s],\t\ttrain_loss: 0.6516,\tval_loss: 0.6641\n",
      "656:\t[0s / 13s],\t\ttrain_loss: 0.6499,\tval_loss: 0.6639\n",
      "657:\t[0s / 13s],\t\ttrain_loss: 0.6475,\tval_loss: 0.6642\n",
      "658:\t[0s / 13s],\t\ttrain_loss: 0.6533,\tval_loss: 0.6641\n",
      "659:\t[0s / 13s],\t\ttrain_loss: 0.6535,\tval_loss: 0.6644\n",
      "660:\t[0s / 13s],\t\ttrain_loss: 0.6491,\tval_loss: 0.6644\n",
      "661:\t[0s / 13s],\t\ttrain_loss: 0.6530,\tval_loss: 0.6646\n",
      "662:\t[0s / 13s],\t\ttrain_loss: 0.6524,\tval_loss: 0.6645\n",
      "663:\t[0s / 13s],\t\ttrain_loss: 0.6502,\tval_loss: 0.6644\n",
      "664:\t[0s / 13s],\t\ttrain_loss: 0.6536,\tval_loss: 0.6642\n",
      "665:\t[0s / 13s],\t\ttrain_loss: 0.6511,\tval_loss: 0.6641\n",
      "666:\t[0s / 13s],\t\ttrain_loss: 0.6495,\tval_loss: 0.6639\n",
      "667:\t[0s / 13s],\t\ttrain_loss: 0.6505,\tval_loss: 0.6645\n",
      "668:\t[0s / 13s],\t\ttrain_loss: 0.6501,\tval_loss: 0.6648\n",
      "669:\t[0s / 13s],\t\ttrain_loss: 0.6522,\tval_loss: 0.6646\n",
      "670:\t[0s / 13s],\t\ttrain_loss: 0.6496,\tval_loss: 0.6647\n",
      "671:\t[0s / 13s],\t\ttrain_loss: 0.6480,\tval_loss: 0.6644\n",
      "672:\t[0s / 14s],\t\ttrain_loss: 0.6487,\tval_loss: 0.6642\n",
      "673:\t[0s / 14s],\t\ttrain_loss: 0.6505,\tval_loss: 0.6644\n",
      "674:\t[0s / 14s],\t\ttrain_loss: 0.6518,\tval_loss: 0.6644\n",
      "675:\t[0s / 14s],\t\ttrain_loss: 0.6509,\tval_loss: 0.6645\n",
      "676:\t[0s / 14s],\t\ttrain_loss: 0.6484,\tval_loss: 0.6645\n",
      "677:\t[0s / 14s],\t\ttrain_loss: 0.6483,\tval_loss: 0.6640\n",
      "678:\t[0s / 14s],\t\ttrain_loss: 0.6486,\tval_loss: 0.6641\n",
      "679:\t[0s / 14s],\t\ttrain_loss: 0.6468,\tval_loss: 0.6642\n",
      "680:\t[0s / 14s],\t\ttrain_loss: 0.6492,\tval_loss: 0.6642\n",
      "681:\t[0s / 14s],\t\ttrain_loss: 0.6510,\tval_loss: 0.6645\n",
      "682:\t[0s / 14s],\t\ttrain_loss: 0.6545,\tval_loss: 0.6647\n",
      "683:\t[0s / 14s],\t\ttrain_loss: 0.6477,\tval_loss: 0.6647\n",
      "684:\t[0s / 14s],\t\ttrain_loss: 0.6499,\tval_loss: 0.6645\n",
      "685:\t[0s / 14s],\t\ttrain_loss: 0.6492,\tval_loss: 0.6646\n",
      "686:\t[0s / 14s],\t\ttrain_loss: 0.6434,\tval_loss: 0.6645\n",
      "687:\t[0s / 14s],\t\ttrain_loss: 0.6459,\tval_loss: 0.6640\n",
      "688:\t[0s / 14s],\t\ttrain_loss: 0.6524,\tval_loss: 0.6643\n",
      "689:\t[0s / 14s],\t\ttrain_loss: 0.6449,\tval_loss: 0.6643\n",
      "690:\t[0s / 14s],\t\ttrain_loss: 0.6443,\tval_loss: 0.6641\n",
      "691:\t[0s / 14s],\t\ttrain_loss: 0.6473,\tval_loss: 0.6643\n",
      "692:\t[0s / 14s],\t\ttrain_loss: 0.6473,\tval_loss: 0.6643\n",
      "693:\t[0s / 14s],\t\ttrain_loss: 0.6476,\tval_loss: 0.6644\n",
      "694:\t[0s / 14s],\t\ttrain_loss: 0.6462,\tval_loss: 0.6647\n",
      "695:\t[0s / 14s],\t\ttrain_loss: 0.6478,\tval_loss: 0.6648\n",
      "696:\t[0s / 14s],\t\ttrain_loss: 0.6486,\tval_loss: 0.6650\n",
      "697:\t[0s / 14s],\t\ttrain_loss: 0.6454,\tval_loss: 0.6647\n",
      "698:\t[0s / 14s],\t\ttrain_loss: 0.6468,\tval_loss: 0.6645\n",
      "699:\t[0s / 14s],\t\ttrain_loss: 0.6450,\tval_loss: 0.6644\n",
      "700:\t[0s / 14s],\t\ttrain_loss: 0.6476,\tval_loss: 0.6646\n",
      "701:\t[0s / 14s],\t\ttrain_loss: 0.6454,\tval_loss: 0.6647\n",
      "702:\t[0s / 14s],\t\ttrain_loss: 0.6444,\tval_loss: 0.6646\n",
      "703:\t[0s / 14s],\t\ttrain_loss: 0.6423,\tval_loss: 0.6645\n",
      "704:\t[0s / 14s],\t\ttrain_loss: 0.6497,\tval_loss: 0.6640\n",
      "705:\t[0s / 14s],\t\ttrain_loss: 0.6469,\tval_loss: 0.6640\n",
      "706:\t[0s / 14s],\t\ttrain_loss: 0.6457,\tval_loss: 0.6640\n",
      "707:\t[0s / 14s],\t\ttrain_loss: 0.6467,\tval_loss: 0.6642\n",
      "708:\t[0s / 14s],\t\ttrain_loss: 0.6457,\tval_loss: 0.6642\n",
      "709:\t[0s / 14s],\t\ttrain_loss: 0.6438,\tval_loss: 0.6641\n",
      "710:\t[0s / 14s],\t\ttrain_loss: 0.6419,\tval_loss: 0.6645\n",
      "711:\t[0s / 14s],\t\ttrain_loss: 0.6463,\tval_loss: 0.6648\n",
      "712:\t[0s / 14s],\t\ttrain_loss: 0.6443,\tval_loss: 0.6646\n",
      "713:\t[0s / 14s],\t\ttrain_loss: 0.6463,\tval_loss: 0.6647\n",
      "714:\t[0s / 14s],\t\ttrain_loss: 0.6435,\tval_loss: 0.6646\n",
      "715:\t[0s / 14s],\t\ttrain_loss: 0.6432,\tval_loss: 0.6646\n",
      "716:\t[0s / 14s],\t\ttrain_loss: 0.6484,\tval_loss: 0.6646\n",
      "717:\t[0s / 14s],\t\ttrain_loss: 0.6463,\tval_loss: 0.6647\n",
      "718:\t[0s / 14s],\t\ttrain_loss: 0.6423,\tval_loss: 0.6646\n",
      "719:\t[0s / 14s],\t\ttrain_loss: 0.6466,\tval_loss: 0.6646\n",
      "720:\t[0s / 14s],\t\ttrain_loss: 0.6444,\tval_loss: 0.6651\n",
      "721:\t[0s / 14s],\t\ttrain_loss: 0.6448,\tval_loss: 0.6649\n",
      "722:\t[0s / 14s],\t\ttrain_loss: 0.6450,\tval_loss: 0.6649\n",
      "723:\t[0s / 14s],\t\ttrain_loss: 0.6456,\tval_loss: 0.6653\n",
      "724:\t[0s / 14s],\t\ttrain_loss: 0.6418,\tval_loss: 0.6652\n",
      "725:\t[0s / 15s],\t\ttrain_loss: 0.6456,\tval_loss: 0.6651\n",
      "726:\t[0s / 15s],\t\ttrain_loss: 0.6476,\tval_loss: 0.6652\n",
      "727:\t[0s / 15s],\t\ttrain_loss: 0.6416,\tval_loss: 0.6651\n",
      "728:\t[0s / 15s],\t\ttrain_loss: 0.6429,\tval_loss: 0.6648\n",
      "729:\t[0s / 15s],\t\ttrain_loss: 0.6472,\tval_loss: 0.6651\n",
      "730:\t[0s / 15s],\t\ttrain_loss: 0.6477,\tval_loss: 0.6651\n",
      "731:\t[0s / 15s],\t\ttrain_loss: 0.6451,\tval_loss: 0.6648\n",
      "732:\t[0s / 15s],\t\ttrain_loss: 0.6435,\tval_loss: 0.6651\n",
      "733:\t[0s / 15s],\t\ttrain_loss: 0.6393,\tval_loss: 0.6651\n",
      "734:\t[0s / 15s],\t\ttrain_loss: 0.6477,\tval_loss: 0.6650\n",
      "735:\t[0s / 15s],\t\ttrain_loss: 0.6464,\tval_loss: 0.6651\n",
      "736:\t[0s / 15s],\t\ttrain_loss: 0.6436,\tval_loss: 0.6652\n",
      "737:\t[0s / 15s],\t\ttrain_loss: 0.6444,\tval_loss: 0.6647\n",
      "738:\t[0s / 15s],\t\ttrain_loss: 0.6422,\tval_loss: 0.6647\n",
      "739:\t[0s / 15s],\t\ttrain_loss: 0.6380,\tval_loss: 0.6642\n",
      "740:\t[0s / 15s],\t\ttrain_loss: 0.6429,\tval_loss: 0.6643\n",
      "741:\t[0s / 15s],\t\ttrain_loss: 0.6414,\tval_loss: 0.6642\n",
      "742:\t[0s / 15s],\t\ttrain_loss: 0.6459,\tval_loss: 0.6646\n",
      "743:\t[0s / 15s],\t\ttrain_loss: 0.6409,\tval_loss: 0.6645\n",
      "744:\t[0s / 15s],\t\ttrain_loss: 0.6420,\tval_loss: 0.6643\n",
      "745:\t[0s / 15s],\t\ttrain_loss: 0.6398,\tval_loss: 0.6640\n",
      "746:\t[0s / 15s],\t\ttrain_loss: 0.6375,\tval_loss: 0.6640\n",
      "747:\t[0s / 15s],\t\ttrain_loss: 0.6432,\tval_loss: 0.6646\n",
      "748:\t[0s / 15s],\t\ttrain_loss: 0.6410,\tval_loss: 0.6644\n",
      "749:\t[0s / 15s],\t\ttrain_loss: 0.6400,\tval_loss: 0.6645\n",
      "750:\t[0s / 15s],\t\ttrain_loss: 0.6416,\tval_loss: 0.6645\n",
      "751:\t[0s / 15s],\t\ttrain_loss: 0.6400,\tval_loss: 0.6645\n",
      "752:\t[0s / 15s],\t\ttrain_loss: 0.6415,\tval_loss: 0.6644\n",
      "753:\t[0s / 15s],\t\ttrain_loss: 0.6390,\tval_loss: 0.6642\n",
      "754:\t[0s / 15s],\t\ttrain_loss: 0.6435,\tval_loss: 0.6646\n",
      "755:\t[0s / 15s],\t\ttrain_loss: 0.6380,\tval_loss: 0.6644\n",
      "756:\t[0s / 15s],\t\ttrain_loss: 0.6363,\tval_loss: 0.6644\n",
      "757:\t[0s / 15s],\t\ttrain_loss: 0.6396,\tval_loss: 0.6643\n",
      "758:\t[0s / 15s],\t\ttrain_loss: 0.6354,\tval_loss: 0.6643\n",
      "759:\t[0s / 15s],\t\ttrain_loss: 0.6404,\tval_loss: 0.6643\n",
      "760:\t[0s / 15s],\t\ttrain_loss: 0.6378,\tval_loss: 0.6648\n",
      "761:\t[0s / 15s],\t\ttrain_loss: 0.6385,\tval_loss: 0.6646\n",
      "762:\t[0s / 15s],\t\ttrain_loss: 0.6389,\tval_loss: 0.6647\n",
      "763:\t[0s / 15s],\t\ttrain_loss: 0.6401,\tval_loss: 0.6647\n",
      "764:\t[0s / 15s],\t\ttrain_loss: 0.6414,\tval_loss: 0.6651\n",
      "765:\t[0s / 15s],\t\ttrain_loss: 0.6435,\tval_loss: 0.6650\n",
      "766:\t[0s / 15s],\t\ttrain_loss: 0.6395,\tval_loss: 0.6647\n",
      "767:\t[0s / 15s],\t\ttrain_loss: 0.6394,\tval_loss: 0.6643\n",
      "768:\t[0s / 15s],\t\ttrain_loss: 0.6391,\tval_loss: 0.6644\n",
      "769:\t[0s / 15s],\t\ttrain_loss: 0.6376,\tval_loss: 0.6643\n",
      "770:\t[0s / 15s],\t\ttrain_loss: 0.6404,\tval_loss: 0.6647\n",
      "771:\t[0s / 15s],\t\ttrain_loss: 0.6353,\tval_loss: 0.6648\n",
      "772:\t[0s / 15s],\t\ttrain_loss: 0.6430,\tval_loss: 0.6646\n",
      "773:\t[0s / 15s],\t\ttrain_loss: 0.6381,\tval_loss: 0.6648\n",
      "774:\t[0s / 16s],\t\ttrain_loss: 0.6388,\tval_loss: 0.6648\n",
      "775:\t[0s / 16s],\t\ttrain_loss: 0.6420,\tval_loss: 0.6647\n",
      "776:\t[0s / 16s],\t\ttrain_loss: 0.6391,\tval_loss: 0.6643\n",
      "777:\t[0s / 16s],\t\ttrain_loss: 0.6382,\tval_loss: 0.6645\n",
      "778:\t[0s / 16s],\t\ttrain_loss: 0.6398,\tval_loss: 0.6646\n",
      "779:\t[0s / 16s],\t\ttrain_loss: 0.6397,\tval_loss: 0.6645\n",
      "780:\t[0s / 16s],\t\ttrain_loss: 0.6367,\tval_loss: 0.6643\n",
      "781:\t[0s / 16s],\t\ttrain_loss: 0.6320,\tval_loss: 0.6644\n",
      "782:\t[0s / 16s],\t\ttrain_loss: 0.6364,\tval_loss: 0.6645\n",
      "783:\t[0s / 16s],\t\ttrain_loss: 0.6392,\tval_loss: 0.6646\n",
      "784:\t[0s / 16s],\t\ttrain_loss: 0.6374,\tval_loss: 0.6643\n",
      "785:\t[0s / 16s],\t\ttrain_loss: 0.6372,\tval_loss: 0.6646\n",
      "786:\t[0s / 16s],\t\ttrain_loss: 0.6386,\tval_loss: 0.6646\n",
      "787:\t[0s / 16s],\t\ttrain_loss: 0.6338,\tval_loss: 0.6645\n",
      "788:\t[0s / 16s],\t\ttrain_loss: 0.6374,\tval_loss: 0.6645\n",
      "789:\t[0s / 16s],\t\ttrain_loss: 0.6377,\tval_loss: 0.6643\n",
      "790:\t[0s / 16s],\t\ttrain_loss: 0.6334,\tval_loss: 0.6645\n",
      "791:\t[0s / 16s],\t\ttrain_loss: 0.6368,\tval_loss: 0.6649\n",
      "792:\t[0s / 16s],\t\ttrain_loss: 0.6370,\tval_loss: 0.6646\n",
      "793:\t[0s / 16s],\t\ttrain_loss: 0.6331,\tval_loss: 0.6645\n",
      "794:\t[0s / 16s],\t\ttrain_loss: 0.6419,\tval_loss: 0.6644\n",
      "795:\t[0s / 16s],\t\ttrain_loss: 0.6325,\tval_loss: 0.6643\n",
      "796:\t[0s / 16s],\t\ttrain_loss: 0.6357,\tval_loss: 0.6642\n",
      "797:\t[0s / 16s],\t\ttrain_loss: 0.6371,\tval_loss: 0.6650\n",
      "798:\t[0s / 16s],\t\ttrain_loss: 0.6373,\tval_loss: 0.6650\n",
      "799:\t[0s / 16s],\t\ttrain_loss: 0.6343,\tval_loss: 0.6649\n",
      "800:\t[0s / 16s],\t\ttrain_loss: 0.6343,\tval_loss: 0.6648\n",
      "801:\t[0s / 16s],\t\ttrain_loss: 0.6343,\tval_loss: 0.6649\n",
      "802:\t[0s / 16s],\t\ttrain_loss: 0.6371,\tval_loss: 0.6649\n",
      "803:\t[0s / 16s],\t\ttrain_loss: 0.6353,\tval_loss: 0.6648\n",
      "804:\t[0s / 16s],\t\ttrain_loss: 0.6356,\tval_loss: 0.6650\n",
      "805:\t[0s / 16s],\t\ttrain_loss: 0.6343,\tval_loss: 0.6649\n",
      "806:\t[0s / 16s],\t\ttrain_loss: 0.6341,\tval_loss: 0.6644\n",
      "807:\t[0s / 16s],\t\ttrain_loss: 0.6327,\tval_loss: 0.6644\n",
      "808:\t[0s / 16s],\t\ttrain_loss: 0.6352,\tval_loss: 0.6644\n",
      "809:\t[0s / 16s],\t\ttrain_loss: 0.6371,\tval_loss: 0.6643\n",
      "810:\t[0s / 16s],\t\ttrain_loss: 0.6355,\tval_loss: 0.6645\n",
      "811:\t[0s / 16s],\t\ttrain_loss: 0.6353,\tval_loss: 0.6647\n",
      "812:\t[0s / 16s],\t\ttrain_loss: 0.6341,\tval_loss: 0.6645\n",
      "813:\t[0s / 16s],\t\ttrain_loss: 0.6327,\tval_loss: 0.6644\n",
      "814:\t[0s / 16s],\t\ttrain_loss: 0.6347,\tval_loss: 0.6648\n",
      "815:\t[0s / 16s],\t\ttrain_loss: 0.6345,\tval_loss: 0.6651\n",
      "816:\t[0s / 16s],\t\ttrain_loss: 0.6315,\tval_loss: 0.6651\n",
      "817:\t[0s / 16s],\t\ttrain_loss: 0.6356,\tval_loss: 0.6649\n",
      "818:\t[0s / 16s],\t\ttrain_loss: 0.6312,\tval_loss: 0.6649\n",
      "819:\t[0s / 16s],\t\ttrain_loss: 0.6322,\tval_loss: 0.6648\n",
      "820:\t[0s / 16s],\t\ttrain_loss: 0.6386,\tval_loss: 0.6646\n",
      "821:\t[0s / 16s],\t\ttrain_loss: 0.6464,\tval_loss: 0.6643\n",
      "822:\t[0s / 16s],\t\ttrain_loss: 0.6322,\tval_loss: 0.6645\n",
      "823:\t[0s / 17s],\t\ttrain_loss: 0.6331,\tval_loss: 0.6643\n",
      "824:\t[0s / 17s],\t\ttrain_loss: 0.6337,\tval_loss: 0.6644\n",
      "825:\t[0s / 17s],\t\ttrain_loss: 0.6374,\tval_loss: 0.6644\n",
      "826:\t[0s / 17s],\t\ttrain_loss: 0.6330,\tval_loss: 0.6651\n",
      "827:\t[0s / 17s],\t\ttrain_loss: 0.6335,\tval_loss: 0.6649\n",
      "828:\t[0s / 17s],\t\ttrain_loss: 0.6340,\tval_loss: 0.6655\n",
      "829:\t[0s / 17s],\t\ttrain_loss: 0.6308,\tval_loss: 0.6652\n",
      "830:\t[0s / 17s],\t\ttrain_loss: 0.6311,\tval_loss: 0.6649\n",
      "831:\t[0s / 17s],\t\ttrain_loss: 0.6325,\tval_loss: 0.6650\n",
      "832:\t[0s / 17s],\t\ttrain_loss: 0.6297,\tval_loss: 0.6649\n",
      "833:\t[0s / 17s],\t\ttrain_loss: 0.6305,\tval_loss: 0.6650\n",
      "834:\t[0s / 17s],\t\ttrain_loss: 0.6321,\tval_loss: 0.6649\n",
      "835:\t[0s / 17s],\t\ttrain_loss: 0.6312,\tval_loss: 0.6647\n",
      "836:\t[0s / 17s],\t\ttrain_loss: 0.6318,\tval_loss: 0.6646\n",
      "837:\t[0s / 17s],\t\ttrain_loss: 0.6311,\tval_loss: 0.6646\n",
      "838:\t[0s / 17s],\t\ttrain_loss: 0.6314,\tval_loss: 0.6649\n",
      "839:\t[0s / 17s],\t\ttrain_loss: 0.6329,\tval_loss: 0.6652\n",
      "840:\t[0s / 17s],\t\ttrain_loss: 0.6314,\tval_loss: 0.6650\n",
      "841:\t[0s / 17s],\t\ttrain_loss: 0.6290,\tval_loss: 0.6651\n",
      "842:\t[0s / 17s],\t\ttrain_loss: 0.6293,\tval_loss: 0.6646\n",
      "843:\t[0s / 17s],\t\ttrain_loss: 0.6313,\tval_loss: 0.6645\n",
      "844:\t[0s / 17s],\t\ttrain_loss: 0.6322,\tval_loss: 0.6649\n",
      "845:\t[0s / 17s],\t\ttrain_loss: 0.6306,\tval_loss: 0.6652\n",
      "846:\t[0s / 17s],\t\ttrain_loss: 0.6347,\tval_loss: 0.6656\n",
      "847:\t[0s / 17s],\t\ttrain_loss: 0.6285,\tval_loss: 0.6656\n",
      "848:\t[0s / 17s],\t\ttrain_loss: 0.6289,\tval_loss: 0.6654\n",
      "849:\t[0s / 17s],\t\ttrain_loss: 0.6323,\tval_loss: 0.6654\n",
      "850:\t[0s / 17s],\t\ttrain_loss: 0.6319,\tval_loss: 0.6652\n",
      "851:\t[0s / 17s],\t\ttrain_loss: 0.6311,\tval_loss: 0.6651\n",
      "852:\t[0s / 17s],\t\ttrain_loss: 0.6342,\tval_loss: 0.6655\n",
      "853:\t[0s / 17s],\t\ttrain_loss: 0.6255,\tval_loss: 0.6655\n",
      "854:\t[0s / 17s],\t\ttrain_loss: 0.6319,\tval_loss: 0.6652\n",
      "855:\t[0s / 17s],\t\ttrain_loss: 0.6345,\tval_loss: 0.6648\n",
      "856:\t[0s / 17s],\t\ttrain_loss: 0.6335,\tval_loss: 0.6649\n",
      "857:\t[0s / 17s],\t\ttrain_loss: 0.6318,\tval_loss: 0.6653\n",
      "858:\t[0s / 17s],\t\ttrain_loss: 0.6304,\tval_loss: 0.6657\n",
      "859:\t[0s / 17s],\t\ttrain_loss: 0.6275,\tval_loss: 0.6655\n",
      "860:\t[0s / 17s],\t\ttrain_loss: 0.6304,\tval_loss: 0.6652\n",
      "861:\t[0s / 17s],\t\ttrain_loss: 0.6334,\tval_loss: 0.6653\n",
      "862:\t[0s / 17s],\t\ttrain_loss: 0.6315,\tval_loss: 0.6655\n",
      "863:\t[0s / 17s],\t\ttrain_loss: 0.6277,\tval_loss: 0.6652\n",
      "864:\t[0s / 17s],\t\ttrain_loss: 0.6291,\tval_loss: 0.6651\n",
      "865:\t[0s / 17s],\t\ttrain_loss: 0.6342,\tval_loss: 0.6654\n",
      "866:\t[0s / 17s],\t\ttrain_loss: 0.6284,\tval_loss: 0.6650\n",
      "867:\t[0s / 17s],\t\ttrain_loss: 0.6277,\tval_loss: 0.6653\n",
      "868:\t[0s / 17s],\t\ttrain_loss: 0.6296,\tval_loss: 0.6653\n",
      "869:\t[0s / 17s],\t\ttrain_loss: 0.6252,\tval_loss: 0.6656\n",
      "870:\t[0s / 17s],\t\ttrain_loss: 0.6292,\tval_loss: 0.6654\n",
      "871:\t[0s / 17s],\t\ttrain_loss: 0.6262,\tval_loss: 0.6653\n",
      "872:\t[0s / 18s],\t\ttrain_loss: 0.6262,\tval_loss: 0.6654\n",
      "873:\t[0s / 18s],\t\ttrain_loss: 0.6289,\tval_loss: 0.6651\n",
      "874:\t[0s / 18s],\t\ttrain_loss: 0.6286,\tval_loss: 0.6650\n",
      "875:\t[0s / 18s],\t\ttrain_loss: 0.6268,\tval_loss: 0.6646\n",
      "876:\t[0s / 18s],\t\ttrain_loss: 0.6287,\tval_loss: 0.6646\n",
      "877:\t[0s / 18s],\t\ttrain_loss: 0.6280,\tval_loss: 0.6647\n",
      "878:\t[0s / 18s],\t\ttrain_loss: 0.6271,\tval_loss: 0.6649\n",
      "879:\t[0s / 18s],\t\ttrain_loss: 0.6328,\tval_loss: 0.6647\n",
      "880:\t[0s / 18s],\t\ttrain_loss: 0.6280,\tval_loss: 0.6647\n",
      "881:\t[0s / 18s],\t\ttrain_loss: 0.6387,\tval_loss: 0.6647\n",
      "882:\t[0s / 18s],\t\ttrain_loss: 0.6261,\tval_loss: 0.6646\n",
      "883:\t[0s / 18s],\t\ttrain_loss: 0.6381,\tval_loss: 0.6656\n",
      "884:\t[0s / 18s],\t\ttrain_loss: 0.6261,\tval_loss: 0.6651\n",
      "885:\t[0s / 18s],\t\ttrain_loss: 0.6317,\tval_loss: 0.6650\n",
      "886:\t[0s / 18s],\t\ttrain_loss: 0.6305,\tval_loss: 0.6651\n",
      "887:\t[0s / 18s],\t\ttrain_loss: 0.6275,\tval_loss: 0.6653\n",
      "888:\t[0s / 18s],\t\ttrain_loss: 0.6240,\tval_loss: 0.6651\n",
      "889:\t[0s / 18s],\t\ttrain_loss: 0.6264,\tval_loss: 0.6652\n",
      "890:\t[0s / 18s],\t\ttrain_loss: 0.6253,\tval_loss: 0.6653\n",
      "891:\t[0s / 18s],\t\ttrain_loss: 0.6281,\tval_loss: 0.6656\n",
      "892:\t[0s / 18s],\t\ttrain_loss: 0.6307,\tval_loss: 0.6654\n",
      "893:\t[0s / 18s],\t\ttrain_loss: 0.6250,\tval_loss: 0.6653\n",
      "894:\t[0s / 18s],\t\ttrain_loss: 0.6260,\tval_loss: 0.6655\n",
      "895:\t[0s / 18s],\t\ttrain_loss: 0.6257,\tval_loss: 0.6654\n",
      "896:\t[0s / 18s],\t\ttrain_loss: 0.6266,\tval_loss: 0.6655\n",
      "897:\t[0s / 18s],\t\ttrain_loss: 0.6284,\tval_loss: 0.6653\n",
      "898:\t[0s / 18s],\t\ttrain_loss: 0.6251,\tval_loss: 0.6651\n",
      "899:\t[0s / 18s],\t\ttrain_loss: 0.6249,\tval_loss: 0.6648\n",
      "900:\t[0s / 18s],\t\ttrain_loss: 0.6265,\tval_loss: 0.6650\n",
      "901:\t[0s / 18s],\t\ttrain_loss: 0.6251,\tval_loss: 0.6651\n",
      "902:\t[0s / 18s],\t\ttrain_loss: 0.6324,\tval_loss: 0.6648\n",
      "903:\t[0s / 18s],\t\ttrain_loss: 0.6235,\tval_loss: 0.6650\n",
      "904:\t[0s / 18s],\t\ttrain_loss: 0.6252,\tval_loss: 0.6653\n",
      "905:\t[0s / 18s],\t\ttrain_loss: 0.6264,\tval_loss: 0.6658\n",
      "906:\t[0s / 18s],\t\ttrain_loss: 0.6269,\tval_loss: 0.6659\n",
      "907:\t[0s / 18s],\t\ttrain_loss: 0.6277,\tval_loss: 0.6656\n",
      "908:\t[0s / 18s],\t\ttrain_loss: 0.6286,\tval_loss: 0.6659\n",
      "909:\t[0s / 18s],\t\ttrain_loss: 0.6251,\tval_loss: 0.6666\n",
      "910:\t[0s / 18s],\t\ttrain_loss: 0.6258,\tval_loss: 0.6658\n",
      "911:\t[0s / 18s],\t\ttrain_loss: 0.6245,\tval_loss: 0.6657\n",
      "912:\t[0s / 18s],\t\ttrain_loss: 0.6240,\tval_loss: 0.6652\n",
      "913:\t[0s / 18s],\t\ttrain_loss: 0.6257,\tval_loss: 0.6653\n",
      "914:\t[0s / 18s],\t\ttrain_loss: 0.6224,\tval_loss: 0.6655\n",
      "915:\t[0s / 18s],\t\ttrain_loss: 0.6200,\tval_loss: 0.6655\n",
      "916:\t[0s / 18s],\t\ttrain_loss: 0.6236,\tval_loss: 0.6656\n",
      "917:\t[0s / 18s],\t\ttrain_loss: 0.6230,\tval_loss: 0.6655\n",
      "918:\t[0s / 18s],\t\ttrain_loss: 0.6311,\tval_loss: 0.6660\n",
      "919:\t[0s / 19s],\t\ttrain_loss: 0.6220,\tval_loss: 0.6659\n",
      "920:\t[0s / 19s],\t\ttrain_loss: 0.6238,\tval_loss: 0.6660\n",
      "921:\t[0s / 19s],\t\ttrain_loss: 0.6239,\tval_loss: 0.6656\n",
      "922:\t[0s / 19s],\t\ttrain_loss: 0.6219,\tval_loss: 0.6650\n",
      "923:\t[0s / 19s],\t\ttrain_loss: 0.6245,\tval_loss: 0.6651\n",
      "924:\t[0s / 19s],\t\ttrain_loss: 0.6280,\tval_loss: 0.6652\n",
      "925:\t[0s / 19s],\t\ttrain_loss: 0.6209,\tval_loss: 0.6651\n",
      "926:\t[0s / 19s],\t\ttrain_loss: 0.6244,\tval_loss: 0.6654\n",
      "927:\t[0s / 19s],\t\ttrain_loss: 0.6192,\tval_loss: 0.6658\n",
      "928:\t[0s / 19s],\t\ttrain_loss: 0.6230,\tval_loss: 0.6653\n",
      "929:\t[0s / 19s],\t\ttrain_loss: 0.6211,\tval_loss: 0.6656\n",
      "930:\t[0s / 19s],\t\ttrain_loss: 0.6250,\tval_loss: 0.6659\n",
      "931:\t[0s / 19s],\t\ttrain_loss: 0.6266,\tval_loss: 0.6662\n",
      "932:\t[0s / 19s],\t\ttrain_loss: 0.6295,\tval_loss: 0.6660\n",
      "933:\t[0s / 19s],\t\ttrain_loss: 0.6228,\tval_loss: 0.6659\n",
      "934:\t[0s / 19s],\t\ttrain_loss: 0.6220,\tval_loss: 0.6657\n",
      "935:\t[0s / 19s],\t\ttrain_loss: 0.6225,\tval_loss: 0.6655\n",
      "936:\t[0s / 19s],\t\ttrain_loss: 0.6201,\tval_loss: 0.6655\n",
      "937:\t[0s / 19s],\t\ttrain_loss: 0.6222,\tval_loss: 0.6658\n",
      "938:\t[0s / 19s],\t\ttrain_loss: 0.6216,\tval_loss: 0.6658\n",
      "939:\t[0s / 19s],\t\ttrain_loss: 0.6232,\tval_loss: 0.6659\n",
      "940:\t[0s / 19s],\t\ttrain_loss: 0.6220,\tval_loss: 0.6660\n",
      "941:\t[0s / 19s],\t\ttrain_loss: 0.6211,\tval_loss: 0.6663\n",
      "942:\t[0s / 19s],\t\ttrain_loss: 0.6210,\tval_loss: 0.6664\n",
      "943:\t[0s / 19s],\t\ttrain_loss: 0.6196,\tval_loss: 0.6663\n",
      "944:\t[0s / 19s],\t\ttrain_loss: 0.6199,\tval_loss: 0.6660\n",
      "945:\t[0s / 19s],\t\ttrain_loss: 0.6267,\tval_loss: 0.6665\n",
      "946:\t[0s / 19s],\t\ttrain_loss: 0.6236,\tval_loss: 0.6665\n",
      "947:\t[0s / 19s],\t\ttrain_loss: 0.6208,\tval_loss: 0.6663\n",
      "948:\t[0s / 19s],\t\ttrain_loss: 0.6240,\tval_loss: 0.6660\n",
      "949:\t[0s / 19s],\t\ttrain_loss: 0.6181,\tval_loss: 0.6659\n",
      "950:\t[0s / 19s],\t\ttrain_loss: 0.6179,\tval_loss: 0.6662\n",
      "951:\t[0s / 19s],\t\ttrain_loss: 0.6148,\tval_loss: 0.6662\n",
      "952:\t[0s / 19s],\t\ttrain_loss: 0.6220,\tval_loss: 0.6661\n",
      "953:\t[0s / 19s],\t\ttrain_loss: 0.6192,\tval_loss: 0.6659\n",
      "954:\t[0s / 19s],\t\ttrain_loss: 0.6175,\tval_loss: 0.6664\n",
      "955:\t[0s / 19s],\t\ttrain_loss: 0.6209,\tval_loss: 0.6662\n",
      "956:\t[0s / 19s],\t\ttrain_loss: 0.6186,\tval_loss: 0.6664\n",
      "957:\t[0s / 19s],\t\ttrain_loss: 0.6159,\tval_loss: 0.6668\n",
      "958:\t[0s / 19s],\t\ttrain_loss: 0.6189,\tval_loss: 0.6667\n",
      "959:\t[0s / 19s],\t\ttrain_loss: 0.6175,\tval_loss: 0.6666\n",
      "960:\t[0s / 19s],\t\ttrain_loss: 0.6171,\tval_loss: 0.6666\n",
      "961:\t[0s / 19s],\t\ttrain_loss: 0.6171,\tval_loss: 0.6668\n",
      "962:\t[0s / 19s],\t\ttrain_loss: 0.6187,\tval_loss: 0.6668\n",
      "963:\t[0s / 19s],\t\ttrain_loss: 0.6177,\tval_loss: 0.6674\n",
      "964:\t[0s / 19s],\t\ttrain_loss: 0.6174,\tval_loss: 0.6671\n",
      "965:\t[0s / 19s],\t\ttrain_loss: 0.6160,\tval_loss: 0.6672\n",
      "966:\t[0s / 19s],\t\ttrain_loss: 0.6203,\tval_loss: 0.6675\n",
      "967:\t[0s / 19s],\t\ttrain_loss: 0.6179,\tval_loss: 0.6671\n",
      "968:\t[0s / 19s],\t\ttrain_loss: 0.6168,\tval_loss: 0.6669\n",
      "969:\t[0s / 19s],\t\ttrain_loss: 0.6221,\tval_loss: 0.6671\n",
      "970:\t[0s / 19s],\t\ttrain_loss: 0.6187,\tval_loss: 0.6666\n",
      "971:\t[0s / 20s],\t\ttrain_loss: 0.6143,\tval_loss: 0.6668\n",
      "972:\t[0s / 20s],\t\ttrain_loss: 0.6195,\tval_loss: 0.6664\n",
      "973:\t[0s / 20s],\t\ttrain_loss: 0.6167,\tval_loss: 0.6667\n",
      "974:\t[0s / 20s],\t\ttrain_loss: 0.6172,\tval_loss: 0.6665\n",
      "975:\t[0s / 20s],\t\ttrain_loss: 0.6121,\tval_loss: 0.6666\n",
      "976:\t[0s / 20s],\t\ttrain_loss: 0.6156,\tval_loss: 0.6666\n",
      "977:\t[0s / 20s],\t\ttrain_loss: 0.6178,\tval_loss: 0.6666\n",
      "978:\t[0s / 20s],\t\ttrain_loss: 0.6174,\tval_loss: 0.6666\n",
      "979:\t[0s / 20s],\t\ttrain_loss: 0.6124,\tval_loss: 0.6666\n",
      "980:\t[0s / 20s],\t\ttrain_loss: 0.6165,\tval_loss: 0.6671\n",
      "981:\t[0s / 20s],\t\ttrain_loss: 0.6155,\tval_loss: 0.6670\n",
      "982:\t[0s / 20s],\t\ttrain_loss: 0.6204,\tval_loss: 0.6671\n",
      "983:\t[0s / 20s],\t\ttrain_loss: 0.6181,\tval_loss: 0.6674\n",
      "984:\t[0s / 20s],\t\ttrain_loss: 0.6089,\tval_loss: 0.6673\n",
      "985:\t[0s / 20s],\t\ttrain_loss: 0.6175,\tval_loss: 0.6669\n",
      "986:\t[0s / 20s],\t\ttrain_loss: 0.6199,\tval_loss: 0.6670\n",
      "987:\t[0s / 20s],\t\ttrain_loss: 0.6154,\tval_loss: 0.6672\n",
      "988:\t[0s / 20s],\t\ttrain_loss: 0.6182,\tval_loss: 0.6672\n",
      "989:\t[0s / 20s],\t\ttrain_loss: 0.6129,\tval_loss: 0.6674\n",
      "990:\t[0s / 20s],\t\ttrain_loss: 0.6196,\tval_loss: 0.6675\n",
      "991:\t[0s / 20s],\t\ttrain_loss: 0.6160,\tval_loss: 0.6677\n",
      "992:\t[0s / 20s],\t\ttrain_loss: 0.6186,\tval_loss: 0.6677\n",
      "993:\t[0s / 20s],\t\ttrain_loss: 0.6134,\tval_loss: 0.6669\n",
      "994:\t[0s / 20s],\t\ttrain_loss: 0.6146,\tval_loss: 0.6667\n",
      "995:\t[0s / 20s],\t\ttrain_loss: 0.6134,\tval_loss: 0.6668\n",
      "996:\t[0s / 20s],\t\ttrain_loss: 0.6169,\tval_loss: 0.6670\n",
      "997:\t[0s / 20s],\t\ttrain_loss: 0.6151,\tval_loss: 0.6671\n",
      "998:\t[0s / 20s],\t\ttrain_loss: 0.6165,\tval_loss: 0.6672\n",
      "999:\t[0s / 20s],\t\ttrain_loss: 0.6172,\tval_loss: 0.6677\n"
     ]
    }
   ],
   "source": [
    "log = model.fit(x_train, y_train, batch_size, epochs, callbacks, val_data=val)"
   ]
  },
  {
   "cell_type": "code",
   "execution_count": 11,
   "metadata": {
    "id": "ZPyjEUpJBX2V",
    "colab": {
     "base_uri": "https://localhost:8080/",
     "height": 265
    },
    "outputId": "50d23588-41f6-45c5-f6cb-7772d1bf1f75"
   },
   "outputs": [
    {
     "data": {
      "text/plain": "<Figure size 640x480 with 1 Axes>",
      "image/png": "[encoded data removed]"
     },
     "metadata": {},
     "output_type": "display_data"
    }
   ],
   "source": [
    "_ = log.plot()"
   ]
  },
  {
   "cell_type": "code",
   "source": [
    "with open('model.pkl', 'wb') as handle:\n",
    "    pickle.dump(model, handle)"
   ],
   "metadata": {
    "id": "FZV_s5VZq9cz"
   },
   "execution_count": 12,
   "outputs": []
  },
  {
   "cell_type": "code",
   "source": [
    "with open('model.pkl', 'rb') as handle:\n",
    "    model = pickle.load(handle)\n",
    "\n",
    "model.predict(x_test)"
   ],
   "metadata": {
    "colab": {
     "base_uri": "https://localhost:8080/"
    },
    "id": "d2dfzlfArCNs",
    "outputId": "a7a75462-326f-440b-d52b-2e12720ff2af"
   },
   "execution_count": 13,
   "outputs": [
    {
     "data": {
      "text/plain": "array([[ 0.50014883,  0.10510378,  0.01969483, ...,  0.11308742,\n         1.2044077 , -0.41716525],\n       [ 0.49471873,  0.18706493,  0.14862399, ...,  0.41446003,\n         0.7608608 , -0.09827662],\n       [ 0.519982  ,  0.47397372,  0.48825747, ...,  0.8489151 ,\n        -0.06097475,  0.4052659 ],\n       ...,\n       [ 0.00366402, -0.39170772,  0.1251907 , ...,  1.0432467 ,\n        -0.49449098,  0.30166447],\n       [-0.13681161, -0.67245996, -0.42931092, ...,  0.0393784 ,\n         0.6006927 , -1.0516708 ],\n       [ 0.59722733,  0.7635591 ,  0.417351  , ...,  0.44667286,\n         0.20434314, -0.14853637]], dtype=float32)"
     },
     "execution_count": 13,
     "metadata": {},
     "output_type": "execute_result"
    }
   ]
  },
  {
   "cell_type": "code",
   "execution_count": 14,
   "outputs": [
    {
     "data": {
      "text/plain": "True"
     },
     "execution_count": 14,
     "metadata": {},
     "output_type": "execute_result"
    }
   ],
   "source": [
    "torch.cuda.is_available()"
   ],
   "metadata": {
    "collapsed": false
   }
  },
  {
   "cell_type": "markdown",
   "source": [
    "#### Quantus"
   ],
   "metadata": {
    "collapsed": false
   }
  },
  {
   "cell_type": "code",
   "execution_count": 15,
   "metadata": {
    "id": "hWt9PzHMBX2a"
   },
   "outputs": [],
   "source": [
    "from captum.attr import (\n",
    "    GradientShap,\n",
    "    DeepLift,\n",
    "    DeepLiftShap,\n",
    "    IntegratedGradients,\n",
    ")"
   ]
  },
  {
   "cell_type": "code",
   "execution_count": 16,
   "outputs": [
    {
     "data": {
      "text/plain": "device(type='cuda')"
     },
     "execution_count": 16,
     "metadata": {},
     "output_type": "execute_result"
    }
   ],
   "source": [
    "model.device"
   ],
   "metadata": {
    "collapsed": false
   }
  },
  {
   "cell_type": "code",
   "execution_count": 17,
   "outputs": [
    {
     "data": {
      "text/plain": "tensor([[ 1.1696e+00,  4.5708e-02, -1.5287e+00,  ...,  1.0000e+00,\n          1.0000e+00,  0.0000e+00],\n        [-4.4899e-01,  7.3367e+00,  5.3544e-03,  ...,  0.0000e+00,\n          1.0000e+00,  0.0000e+00],\n        [ 3.6029e-01, -3.9101e-01, -1.5287e+00,  ...,  0.0000e+00,\n          1.0000e+00,  1.0000e+00],\n        ...,\n        [ 1.9844e-01, -4.3408e-01, -2.5032e-01,  ...,  0.0000e+00,\n          1.0000e+00,  1.0000e+00],\n        [-1.2583e+00,  1.8797e+00,  5.3544e-03,  ...,  0.0000e+00,\n          1.0000e+00,  1.0000e+00],\n        [-8.5363e-01, -3.4093e-01,  6.0192e-01,  ...,  0.0000e+00,\n          1.0000e+00,  1.0000e+00]])"
     },
     "execution_count": 17,
     "metadata": {},
     "output_type": "execute_result"
    }
   ],
   "source": [
    "torch.tensor(x_train)"
   ],
   "metadata": {
    "collapsed": false
   }
  },
  {
   "cell_type": "code",
   "execution_count": 18,
   "metadata": {
    "id": "0RAG9Bp5BX2a"
   },
   "outputs": [],
   "source": [
    "model.eval()\n",
    "# baseline_dist = torch.zeros(191, 11, requires_grad=True) * 0.001\n",
    "inputs = torch.tensor(x_train, requires_grad=True).cuda() #.unsqueeze(dim=0)\n",
    "outputs = torch.tensor(y_train[1].astype('int64')).cuda() #, requires_grad=True)\n",
    "dl = DeepLift(model.net)\n",
    "ig = IntegratedGradients(model.net)\n",
    "baselines = torch.mean(inputs, dim=0).unsqueeze(dim=0).expand(inputs.shape)\n",
    "attributions = []\n",
    "for idx in range(num_durations):\n",
    "    attributions.append(ig.attribute(inputs, target=torch.tensor(idx).cuda(), baselines=baselines)) #  baseline_dist, target=outputs,\n",
    "# print('Mean Convergence Delta:', delta.mean().detach().numpy())"
   ]
  },
  {
   "cell_type": "code",
   "execution_count": 19,
   "outputs": [],
   "source": [
    "attributions = torch.stack(attributions)"
   ],
   "metadata": {
    "collapsed": false
   }
  },
  {
   "cell_type": "code",
   "execution_count": 20,
   "outputs": [
    {
     "name": "stdout",
     "output_type": "stream",
     "text": [
      "torch.Size([285, 11])\n"
     ]
    }
   ],
   "source": [
    "print(attributions[:, 3, :].shape)"
   ],
   "metadata": {
    "collapsed": false
   }
  },
  {
   "cell_type": "code",
   "execution_count": 22,
   "outputs": [
    {
     "name": "stdout",
     "output_type": "stream",
     "text": [
      "Integrated Gradients mean attributions: [0.00018503156313364266, -0.0030028529623957485, 0.0007914880423373166, -0.0023784007724424114, 0.005833313873160484, 0.007517594067707468, 0.0019844284308959776, 0.009068739355417717, 0.002087332802244741, 0.0023482835942150258, 0.003323042822472038]\n"
     ]
    }
   ],
   "source": [
    "mean_attributions = torch.mean(attributions, dim=[0, 1])\n",
    "mean_attributions = mean_attributions.detach()\n",
    "mean_attributions = mean_attributions.cpu()\n",
    "mean_attributions = list(mean_attributions.numpy())\n",
    "print('Integrated Gradients mean attributions:', mean_attributions)\n"
   ],
   "metadata": {
    "collapsed": false
   }
  },
  {
   "cell_type": "code",
   "execution_count": 29,
   "outputs": [
    {
     "name": "stdout",
     "output_type": "stream",
     "text": [
      "Warnings and information:\n",
      " (1) The Avg Sensitivity metric is likely to be sensitive to the choice of amount of noise added 'lower_bound' and 'upper_bound', the number of samples iterated over 'nr_samples', the function to perturb the input 'perturb_func', the similarity metric 'similarity_func' as well as norm calculations on the numerator and denominator of the sensitivity equation i.e., 'norm_numerator' and 'norm_denominator'.  \n",
      " (2) If attributions are normalised or their absolute values are taken it may destroy or skew information in the explanation and as a result, affect the overall evaluation outcome.\n",
      " (3) Make sure to validate the choices for hyperparameters of the metric (by calling .get_params of the metric instance).\n",
      " (4) For further information, see original publication: Yeh, Chih-Kuan, et al. 'On the (in) fidelity and sensitivity for explanations.' arXiv preprint arXiv:1901.09392 (2019).\n",
      " (5) To disable these warnings set 'disable_warnings' = True when initialising the metric.\n",
      "\n"
     ]
    },
    {
     "name": "stderr",
     "output_type": "stream",
     "text": [
      "C:\\Users\\StanislawFrejlak\\anaconda3\\Lib\\site-packages\\quantus\\helpers\\warn.py:262: UserWarning: The settings for perturbing input e.g., 'perturb_func' didn't cause change in input. Reconsider the parameter settings.\n",
      "  warnings.warn(\n"
     ]
    }
   ],
   "source": [
    "import quantus\n",
    "\n",
    "device = torch.device(\"cuda:0\" if torch.cuda.is_available() else \"cpu\")\n",
    "\n",
    "# y_test = labtrans.transform(durations_test, events_test)\n",
    "inputs_np, outputs_np = x_train, y_train[1].astype(np.int64)\n",
    "\n",
    "metric = quantus.AvgSensitivity(nr_samples=10,\n",
    "                                lower_bound=0.2,\n",
    "                                norm_numerator=quantus.norm_func.fro_norm,\n",
    "                                norm_denominator=quantus.norm_func.fro_norm,\n",
    "                                perturb_func=quantus.perturb_func.uniform_noise,\n",
    "                                similarity_func=quantus.similarity_func.difference\n",
    "                                )\n",
    "scores = metric(\n",
    "    model=model.net,\n",
    "    x_batch=inputs_np,\n",
    "    y_batch=outputs_np,\n",
    "    a_batch=attributions[0, ::].squeeze().detach().cpu().numpy(),\n",
    "    device=device,\n",
    "    explain_func=quantus.explain,\n",
    "    explain_func_kwargs={\"method\": \"IntegratedGradients\"}\n",
    ")"
   ],
   "metadata": {
    "collapsed": false
   }
  },
  {
   "cell_type": "code",
   "execution_count": 30,
   "outputs": [
    {
     "name": "stdout",
     "output_type": "stream",
     "text": [
      "3.319, 0.079, 0.590, 0.557\n"
     ]
    }
   ],
   "source": [
    "print(f\"{np.max(scores):.3f}, {np.min(scores):.3f}, {np.mean(scores):.3f}, {np.std(scores):.3f}\")"
   ],
   "metadata": {
    "collapsed": false
   }
  },
  {
   "cell_type": "code",
   "execution_count": 26,
   "outputs": [
    {
     "name": "stdout",
     "output_type": "stream",
     "text": [
      "Warnings and information:\n",
      " (1) The Faithfulness Correlation metric is likely to be sensitive to the choice of baseline value 'perturb_baseline', size of subset |S| 'subset_size' and the number of runs (for each input and explanation pair) 'nr_runs'.  \n",
      " (2) If attributions are normalised or their absolute values are taken it may destroy or skew information in the explanation and as a result, affect the overall evaluation outcome.\n",
      " (3) Make sure to validate the choices for hyperparameters of the metric (by calling .get_params of the metric instance).\n",
      " (4) For further information, see original publication: Bhatt, Umang, Adrian Weller, and José MF Moura. 'Evaluating and aggregating feature-based model explanations.' arXiv preprint arXiv:2005.00631 (2020).\n",
      " (5) To disable these warnings set 'disable_warnings' = True when initialising the metric.\n",
      "\n"
     ]
    },
    {
     "name": "stderr",
     "output_type": "stream",
     "text": [
      "C:\\Users\\StanislawFrejlak\\anaconda3\\Lib\\site-packages\\quantus\\helpers\\warn.py:262: UserWarning: The settings for perturbing input e.g., 'perturb_func' didn't cause change in input. Reconsider the parameter settings.\n",
      "  warnings.warn(\n"
     ]
    }
   ],
   "source": [
    "metric2 = quantus.FaithfulnessCorrelation(subset_size=5,\n",
    "                                similarity_func=(lambda a, b: quantus.similarity_func.difference(np.array(a), np.array(b))),\n",
    "                                perturb_func=quantus.perturb_func.uniform_noise)\n",
    "\n",
    "scores2 = metric2(\n",
    "    model=model.net,\n",
    "    x_batch=inputs_np,\n",
    "    y_batch=outputs_np,\n",
    "    a_batch=attributions[0, ::].squeeze().detach().cpu().numpy(),\n",
    "    device=device,\n",
    "    explain_func=quantus.explain,\n",
    "    explain_func_kwargs={\"method\": \"IntegratedGradients\"}\n",
    ")"
   ],
   "metadata": {
    "collapsed": false
   }
  },
  {
   "cell_type": "code",
   "execution_count": 31,
   "outputs": [
    {
     "name": "stdout",
     "output_type": "stream",
     "text": [
      "[0.015054331821831968]\n"
     ]
    }
   ],
   "source": [
    "print(scores2)"
   ],
   "metadata": {
    "collapsed": false
   }
  },
  {
   "cell_type": "markdown",
   "source": [
    "#### Preparing data and non-deep models"
   ],
   "metadata": {
    "collapsed": false
   }
  },
  {
   "cell_type": "code",
   "execution_count": null,
   "outputs": [],
   "source": [
    "real_data = pd.read_csv(\"data/exp3_heart_failure_dataset.csv\")\n",
    "real_data.rename(columns={\"DEATH_EVENT\": \"event\"}, inplace=True)"
   ],
   "metadata": {
    "collapsed": false
   }
  },
  {
   "cell_type": "code",
   "execution_count": null,
   "outputs": [],
   "source": [
    "from sksurv.util import Surv\n",
    "X = real_data[[\"age\", \"creatinine_phosphokinase\", \"ejection_fraction\", \"platelets\",\n",
    "                \"serum_creatinine\", \"serum_sodium\", \"sex\", \"smoking\"]]\n",
    "y = Surv.from_dataframe(\"event\", \"time\", real_data)"
   ],
   "metadata": {
    "collapsed": false
   }
  },
  {
   "cell_type": "code",
   "execution_count": null,
   "outputs": [],
   "source": [
    "from sksurv.ensemble import RandomSurvivalForest\n",
    "rsf = RandomSurvivalForest(random_state=42, n_estimators=120, max_depth=8, min_samples_leaf=4, max_features=3)\n",
    "rsf.fit(X, y)\n",
    "rsf.score(X, y)"
   ],
   "metadata": {
    "collapsed": false
   }
  },
  {
   "cell_type": "markdown",
   "source": [
    "#### Creating explanations"
   ],
   "metadata": {
    "collapsed": false
   }
  },
  {
   "cell_type": "code",
   "execution_count": null,
   "outputs": [],
   "source": [
    "from survshap import SurvivalModelExplainer, ModelSurvSHAP\n",
    "from survlime import SurvLIME\n",
    "rsf_exp = SurvivalModelExplainer(rsf, X, y)"
   ],
   "metadata": {
    "collapsed": false
   }
  },
  {
   "cell_type": "code",
   "execution_count": null,
   "outputs": [],
   "source": [
    "exp3_survshap_global_rsf = ModelSurvSHAP(random_state=42)\n",
    "exp3_survshap_global_rsf.fit(rsf_exp)"
   ],
   "metadata": {
    "collapsed": false
   }
  },
  {
   "cell_type": "code",
   "execution_count": null,
   "outputs": [],
   "source": [
    "with open(\"pickles/exp3_survshap_global_rsf\", \"wb\") as f:\n",
    "    pickle.dump(exp3_survshap_global_rsf, f)"
   ],
   "metadata": {
    "collapsed": false
   }
  },
  {
   "cell_type": "code",
   "execution_count": null,
   "outputs": [],
   "source": [
    "n_obs = len(X)\n",
    "sls = [None for i in range(n_obs)]\n",
    "funcs_dist = [None for i in range(n_obs)]\n",
    "for i in tqdm(range(n_obs)):\n",
    "    survlime = SurvLIME(N=1000)\n",
    "    survlime.fit(rsf_exp, X.iloc[[i]], k=2, timestamps=rsf.predict_survival_function(X.iloc[[0]])[0].x)\n",
    "    sls[i] = survlime"
   ],
   "metadata": {
    "collapsed": false
   }
  },
  {
   "cell_type": "code",
   "execution_count": null,
   "outputs": [],
   "source": [
    "with open(\"pickles/exp3_survlime_global_rsf\", \"wb\") as f:\n",
    "    pickle.dump(sls, f)"
   ],
   "metadata": {
    "collapsed": false
   }
  },
  {
   "cell_type": "markdown",
   "source": [
    "#### Results analysis"
   ],
   "metadata": {
    "collapsed": false
   }
  },
  {
   "cell_type": "code",
   "execution_count": null,
   "outputs": [],
   "source": [
    "with open(\"pickles/exp3_survshap_global_rsf\", \"rb\") as f:\n",
    "    exp3_survshap_global_rsf = pickle.load(f)"
   ],
   "metadata": {
    "collapsed": false
   }
  },
  {
   "cell_type": "code",
   "execution_count": null,
   "outputs": [],
   "source": [
    "with open(\"pickles/exp3_survlime_global_rsf\", \"rb\") as f:\n",
    "    exp3_survlime_global_rsf = pickle.load(f)"
   ],
   "metadata": {
    "collapsed": false
   }
  },
  {
   "cell_type": "markdown",
   "source": [
    "##### Plot examples"
   ],
   "metadata": {
    "collapsed": false
   }
  },
  {
   "cell_type": "code",
   "execution_count": null,
   "outputs": [],
   "source": [
    "example_rsf = exp3_survshap_global_rsf.individual_explanations[12]"
   ],
   "metadata": {
    "collapsed": false
   }
  },
  {
   "cell_type": "code",
   "execution_count": null,
   "outputs": [],
   "source": [
    "melted_example_rsf = pd.melt(example_rsf.result, id_vars=\"variable_name\", value_vars=example_rsf.result.columns[6:])\n",
    "melted_example_rsf[\"variable\"] = melted_example_rsf[\"variable\"].str[4:].astype(float)\n",
    "melted_example_rsf.to_csv(\"results/exp3_example_rsf.csv\", index=False)\n",
    "example_rsf.simplified_result.to_csv(\"results/exp3_example_rsf_agg.csv\", index=False)"
   ],
   "metadata": {
    "collapsed": false
   }
  },
  {
   "cell_type": "code",
   "execution_count": null,
   "outputs": [],
   "source": [
    "example_rsf2 = exp3_survshap_global_rsf.individual_explanations[14]\n",
    "melted_example_rsf_2 = pd.melt(example_rsf2.result, id_vars=\"variable_name\", value_vars=example_rsf2.result.columns[6:])\n",
    "melted_example_rsf_2[\"variable\"] = melted_example_rsf_2[\"variable\"].str[4:].astype(float)\n",
    "melted_example_rsf_2.to_csv(\"results/exp3_example_rsf_2.csv\", index=False)"
   ],
   "metadata": {
    "collapsed": false
   }
  },
  {
   "cell_type": "markdown",
   "source": [
    "##### Importance rankings"
   ],
   "metadata": {
    "collapsed": false
   }
  },
  {
   "cell_type": "code",
   "execution_count": null,
   "outputs": [],
   "source": [
    "def get_orderings_and_ranks_shap(explanations):\n",
    "    importance_orderings = []\n",
    "    importance_ranks = []\n",
    "    for explanation in explanations:\n",
    "        df = explanation.result.copy()\n",
    "        df[\"aggregated_change\"] = trapezoid(np.abs(df.iloc[:, 6:].values), explanation.timestamps)\n",
    "        importance_orderings.append(df.sort_values(by=\"aggregated_change\", key=lambda x: -abs(x)).index.to_list())\n",
    "        importance_ranks.append(np.abs(df.aggregated_change).rank(ascending=False).to_list())\n",
    "    return pd.DataFrame(importance_orderings), pd.DataFrame(importance_ranks)\n",
    "\n",
    "from scipy.stats import weightedtau\n",
    "def mean_weighted_tau(ranks1, ranks2):\n",
    "    taus = [None] * 100\n",
    "    for i in range(100):\n",
    "        tau, _ = weightedtau(ranks1.iloc[i], ranks2.iloc[i])\n",
    "        taus[i] = tau\n",
    "    return np.mean(taus), np.std(taus)\n",
    "\n",
    "def prepare_ranking_summary_long(ordering):\n",
    "    res = pd.DataFrame(columns=[0, 1, 2, 3, 4, 5, 6, 7])\n",
    "    for i in range(8):\n",
    "        tmp = pd.DataFrame(ordering[i].value_counts().to_dict(), index=[i+1])\n",
    "        res = pd.concat([res, tmp])\n",
    "    res = res.reset_index().rename(columns=dict(zip([i for i in range(8)] + [\"index\"], X.columns.to_list() + [\"importance_ranking\"])))\n",
    "    return res.melt(id_vars=[\"importance_ranking\"], value_vars=X.columns)"
   ],
   "metadata": {
    "collapsed": false
   }
  },
  {
   "cell_type": "code",
   "execution_count": null,
   "outputs": [],
   "source": [
    "def get_orderings_and_ranks_shap(explanations):\n",
    "    importance_orderings = []\n",
    "    importance_ranks = []\n",
    "    for explanation in explanations:\n",
    "        df = explanation.result.copy()\n",
    "        df[\"aggregated_change\"] = trapezoid(np.abs(df.iloc[:, 6:].values), explanation.timestamps)\n",
    "        importance_orderings.append(df.sort_values(by=\"aggregated_change\", key=lambda x: -abs(x)).index.to_list())\n",
    "        importance_ranks.append(np.abs(df.aggregated_change).rank(ascending=False).to_list())\n",
    "    return pd.DataFrame(importance_orderings), pd.DataFrame(importance_ranks)\n",
    "\n",
    "def get_orderings_and_ranks_lime(explanations):\n",
    "    importance_orderings = []\n",
    "    importance_ranks = []\n",
    "    for explanation in explanations:\n",
    "        df = explanation.result\n",
    "        df[\"impact\"] = df[\"variable_value\"] * df[\"coefficient\"]\n",
    "        importance_orderings.append(df.sort_values(by=\"impact\", key=lambda x: -abs(x)).index.to_list())\n",
    "        importance_ranks.append(np.abs(df.impact).rank(ascending=False).to_list())\n",
    "    return pd.DataFrame(importance_orderings), pd.DataFrame(importance_ranks)"
   ],
   "metadata": {
    "collapsed": false
   }
  },
  {
   "cell_type": "code",
   "execution_count": null,
   "outputs": [],
   "source": [
    "rsf_survshap_orderings, rsf_survshap_ranks = get_orderings_and_ranks_shap(exp3_survshap_global_rsf.individual_explanations)\n",
    "prepare_ranking_summary_long(rsf_survshap_orderings).to_csv(\"results/exp3_survshap_orderings_rsf.csv\")"
   ],
   "metadata": {
    "collapsed": false
   }
  },
  {
   "cell_type": "markdown",
   "source": [
    "#### Calculating permutational variable importance"
   ],
   "metadata": {
    "collapsed": false
   }
  },
  {
   "cell_type": "code",
   "execution_count": null,
   "outputs": [],
   "source": [
    "from sksurv.metrics import brier_score, integrated_brier_score\n",
    "# mask created to enable for calculating Brier score\n",
    "mask = (y[\"time\"] < y[y[\"event\"]==1][\"time\"].max()) & (y[\"time\"] > y[y[\"event\"]==1][\"time\"].min())\n",
    "times = np.unique(np.percentile(y[mask][\"time\"], np.linspace(0.1, 99.9, 101)))\n",
    "\n",
    "np.unique(np.percentile(y[mask][\"time\"], np.linspace(0.1, 99.9, 101)))\n",
    "def loss_integrated_brier_score(model, data, y):\n",
    "    sfs = model.predict_survival_function(data)\n",
    "    sfs = [sf(times) for sf in sfs]\n",
    "    result = integrated_brier_score(y, y, sfs, times)\n",
    "    return 1-result"
   ],
   "metadata": {
    "collapsed": false
   }
  },
  {
   "cell_type": "code",
   "execution_count": null,
   "outputs": [],
   "source": [
    "from sklearn.inspection import permutation_importance\n",
    "imp_mean_rsf = permutation_importance(rsf, X, y,\n",
    "                    scoring = loss_integrated_brier_score, n_repeats=100, random_state=42)[\"importances_mean\"]"
   ],
   "metadata": {
    "collapsed": false
   }
  },
  {
   "cell_type": "code",
   "execution_count": null,
   "outputs": [],
   "source": [
    "pd.DataFrame(zip(X.columns, imp_mean_rsf)).sort_values(by=1, ascending=False)"
   ],
   "metadata": {
    "collapsed": false
   }
  },
  {
   "cell_type": "code",
   "execution_count": null,
   "outputs": [],
   "source": [
    "rsf_survlime_orderings, rsf_survlime_ranks = get_orderings_and_ranks_lime(exp3_survlime_global_rsf)"
   ],
   "metadata": {
    "collapsed": false
   }
  },
  {
   "cell_type": "code",
   "execution_count": null,
   "outputs": [],
   "source": [
    "prepare_ranking_summary_long(rsf_survlime_orderings).to_csv(\"results/exp3_survlime_orderings_rsf.csv\")"
   ],
   "metadata": {
    "collapsed": false
   }
  },
  {
   "cell_type": "markdown",
   "source": [
    "#### Explaining deep model's predictions"
   ],
   "metadata": {
    "collapsed": false
   }
  },
  {
   "cell_type": "markdown",
   "metadata": {
    "id": "3nwFSui1BX2a"
   },
   "source": [
    "We got the following results:\n",
    "\n",
    "Integrated Gradients mean attributions: [ 0.0292784   0.02505408 -0.03815171  0.01266383  0.01597387  0.06627826\n",
    " -0.03912117 -0.02868438  0.06274574  0.03201562  0.00618445]\n",
    "\n",
    "DeepLift mean attributions: [ 0.02618182  0.01984281 -0.03617777  0.0109012   0.01511144  0.06467749\n",
    " -0.03416074 -0.02320135  0.05641534  0.03421191  0.00955333]"
   ]
  },
  {
   "cell_type": "markdown",
   "metadata": {
    "id": "hIARKwJFBX2a"
   },
   "source": [
    "#### Comparison of different explaining methods"
   ]
  },
  {
   "cell_type": "code",
   "execution_count": null,
   "metadata": {
    "id": "aY0Ez2hFBX2b",
    "outputId": "86c72bfa-74a9-4fec-e220-a8163e688fdd"
   },
   "outputs": [],
   "source": [
    "X.columns"
   ]
  },
  {
   "cell_type": "code",
   "execution_count": null,
   "metadata": {
    "id": "5efGcSIqBX2b",
    "outputId": "aab3505e-daee-47b3-a963-587c3e2adf01"
   },
   "outputs": [],
   "source": [
    "df_train.columns"
   ]
  },
  {
   "cell_type": "code",
   "execution_count": null,
   "metadata": {
    "id": "YMbBj71dBX2b"
   },
   "outputs": [],
   "source": [
    "ig_results = [\n",
    "    0.0292784,\n",
    "    0.02505408,\n",
    "    0.03815171,\n",
    "    0.01266383,\n",
    "    0.01597387,\n",
    "    0.06627826,\n",
    "    -0.03912117,\n",
    "    0.02868438,\n",
    "    0.06274574,\n",
    "    0.03201562,\n",
    "    0.00618445\n",
    "]\n",
    "\n",
    "deep_lift_results = [\n",
    "    0.02618182,\n",
    "    0.01984281,\n",
    "    -0.03617777,\n",
    "    0.0109012,\n",
    "    0.01511144,\n",
    "    0.06467749,\n",
    "    -0.03416074,\n",
    "    -0.02320135,\n",
    "    0.05641534,\n",
    "    0.03421191,\n",
    "    0.00955333,\n",
    "]"
   ]
  },
  {
   "cell_type": "code",
   "execution_count": null,
   "metadata": {
    "id": "0DiF7ClwBX2b",
    "outputId": "7d51ab2d-fac1-4cf4-96bb-9ff4367b16b5"
   },
   "outputs": [],
   "source": [
    "len(df_train.columns)"
   ]
  },
  {
   "cell_type": "code",
   "execution_count": null,
   "metadata": {
    "id": "-Ray1932BX2b",
    "outputId": "03c46802-14d5-4eed-9620-eb6fc517b4f4"
   },
   "outputs": [],
   "source": [
    "df_train.columns"
   ]
  },
  {
   "cell_type": "code",
   "execution_count": null,
   "metadata": {
    "id": "suTsRgGBBX2c"
   },
   "outputs": [],
   "source": [
    "deep_df = pd.DataFrame({\"feature\": df_train.columns[:11], \"ig\": ig_results, \"deep_lift\": deep_lift_results})"
   ]
  },
  {
   "cell_type": "code",
   "execution_count": null,
   "metadata": {
    "id": "Kj6Iqbu8BX2c"
   },
   "outputs": [],
   "source": [
    "deep_df = deep_df[deep_df[\"feature\"].isin(X.columns)]"
   ]
  },
  {
   "cell_type": "code",
   "execution_count": null,
   "metadata": {
    "id": "1v0fbLIaBX2c",
    "outputId": "7c870799-ba85-43e6-d6f6-c45adaa963c0"
   },
   "outputs": [],
   "source": [
    "deep_df.sort_values(by=\"ig\", ascending=False)"
   ]
  },
  {
   "cell_type": "code",
   "execution_count": null,
   "metadata": {
    "id": "xKjIpAOKBX2c",
    "outputId": "eaab1894-15bc-478f-9f4b-af26c20d76c1"
   },
   "outputs": [],
   "source": [
    "pd.DataFrame(zip(X.columns, imp_mean_rsf)).sort_values(by=1, ascending=False)"
   ]
  },
  {
   "cell_type": "code",
   "execution_count": null,
   "metadata": {
    "id": "Sybn0QXTBX2c"
   },
   "outputs": [],
   "source": [
    "shap_df = pd.DataFrame(zip(X.columns, imp_mean_rsf)).sort_values(by=1, ascending=False)"
   ]
  },
  {
   "cell_type": "code",
   "execution_count": null,
   "metadata": {
    "id": "ROj-R5TnBX2c"
   },
   "outputs": [],
   "source": [
    "deep_shap_exp = SurvivalModelExplainer(rsf, df_train[:11], df_train[11:])\n",
    "imp_mean_deep_shap = permutation_importance(model, df_train[:11], df_train[11:], \n",
    "                    scoring = loss_integrated_brier_score, n_repeats=100, random_state=42)[\"importances_mean\"]"
   ]
  },
  {
   "cell_type": "code",
   "execution_count": null,
   "metadata": {
    "id": "Yf65GJnFBX2c"
   },
   "outputs": [],
   "source": [
    "deep_df.to_csv(\"project/deep_df_exp.csv\")"
   ]
  },
  {
   "cell_type": "code",
   "execution_count": null,
   "metadata": {
    "id": "ksR0gZMnBX2d"
   },
   "outputs": [],
   "source": [
    "shap_df.to_csv(\"project/shap_exp.csv\")"
   ]
  }
 ],
 "metadata": {
  "kernelspec": {
   "display_name": "Python 3.8.10 ('venv': venv)",
   "language": "python",
   "name": "python3"
  },
  "language_info": {
   "codemirror_mode": {
    "name": "ipython",
    "version": 3
   },
   "file_extension": ".py",
   "mimetype": "text/x-python",
   "name": "python",
   "nbconvert_exporter": "python",
   "pygments_lexer": "ipython3",
   "version": "3.8.10"
  },
  "vscode": {
   "interpreter": {
    "hash": "862e00d4e923d07bafe3efd192af1b4097c7ce8d60181494a0e8b306ca1d81fd"
   }
  },
  "colab": {
   "provenance": []
  }
 },
 "nbformat": 4,
 "nbformat_minor": 0
}
